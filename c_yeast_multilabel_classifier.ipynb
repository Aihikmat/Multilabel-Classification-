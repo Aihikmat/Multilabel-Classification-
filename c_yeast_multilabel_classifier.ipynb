{
  "cells": [
    {
      "cell_type": "markdown",
      "metadata": {
        "id": "MtnK3GgAMBtJ"
      },
      "source": [
        "# Multi-label Classification"
      ]
    },
    {
      "cell_type": "markdown",
      "metadata": {
        "id": "7sGVGuOhMBtL"
      },
      "source": [
        "## Import Packages"
      ]
    },
    {
      "cell_type": "code",
      "execution_count": null,
      "metadata": {
        "id": "fRr1IJeKMBtN"
      },
      "outputs": [],
      "source": [
        "from IPython.display import display, HTML, Image\n",
        "\n",
        "import pandas as pd\n",
        "import numpy as np\n",
        "import csv\n",
        "import matplotlib.pyplot as plt\n",
        "import copy\n",
        "import random\n",
        "\n",
        "\n",
        "from sklearn.base import BaseEstimator, ClassifierMixin, clone\n",
        "from sklearn.utils.validation import check_X_y, check_array, check_is_fitted\n",
        "\n",
        "from sklearn.model_selection import train_test_split\n",
        "\n",
        "from sklearn.model_selection import GridSearchCV\n",
        "\n",
        "from sklearn.tree import DecisionTreeClassifier\n",
        "from sklearn.ensemble import RandomForestClassifier\n",
        "from sklearn.linear_model import LogisticRegression\n",
        "from sklearn.naive_bayes import GaussianNB\n",
        "from sklearn.neighbors import KNeighborsClassifier\n",
        "from sklearn.svm import SVC\n",
        "\n",
        "from sklearn.metrics import make_scorer\n",
        "from sklearn import metrics\n",
        "from sklearn.metrics import hamming_loss\n",
        "\n",
        "# to avoid future warnings for sklearn\n",
        "import warnings\n",
        "warnings.filterwarnings(\"ignore\")"
      ]
    },
    {
      "cell_type": "code",
      "source": [
        "from google.colab import drive\n",
        "drive.mount('/content/drive')"
      ],
      "metadata": {
        "colab": {
          "base_uri": "https://localhost:8080/"
        },
        "id": "f5zG5W3aML8p",
        "outputId": "54eaf82f-62e7-48d6-9ff7-f11887106be6"
      },
      "execution_count": null,
      "outputs": [
        {
          "output_type": "stream",
          "name": "stdout",
          "text": [
            "Drive already mounted at /content/drive; to attempt to forcibly remount, call drive.mount(\"/content/drive\", force_remount=True).\n"
          ]
        }
      ]
    },
    {
      "cell_type": "code",
      "source": [
        "from sklearn.utils import shuffle\n",
        "\n",
        "\n",
        "def shuffle_index(num_samples):\n",
        "    a = range(0, num_samples)\n",
        "    a = shuffle(a)\n",
        "    length = int((num_samples + 1) / 2)\n",
        "    train_index = a[:length]\n",
        "    test_index = a[length:]\n",
        "    return [train_index, test_index]\n",
        "\n",
        "\n",
        "def load_csv(data_csv, label_csv):\n",
        "    \"\"\"\n",
        "    :param csv_file_name: \n",
        "    :return: Data：\n",
        "    \"\"\"\n",
        "    \n",
        "    with open(data_csv, encoding='utf-8') as f:\n",
        "        data = np.loadtxt(f, str, delimiter=\",\")\n",
        "    with open(label_csv, encoding='utf-8') as f:\n",
        "        label = np.loadtxt(f, str, delimiter=\",\")\n",
        "    label = label.astype(\"int\")\n",
        "    num_samples = len(data)\n",
        "\n",
        "    train_index, test_index = shuffle_index(num_samples)\n",
        "   \n",
        "    X_train = data[train_index]\n",
        "    y_train = label[train_index]\n",
        "    X_test = data[test_index]\n",
        "    y_test = label[test_index]\n",
        "\n",
        "    return X_train, y_train, X_test, y_test"
      ],
      "metadata": {
        "id": "7x1SSnpANn8H"
      },
      "execution_count": null,
      "outputs": []
    },
    {
      "cell_type": "code",
      "source": [
        "data_path = r'/content/drive/MyDrive/dataset/yeast_data.csv'\n",
        "label_path = r'/content/drive/MyDrive/dataset/yeast_label.csv'"
      ],
      "metadata": {
        "id": "DU1T3TvwNoLI"
      },
      "execution_count": null,
      "outputs": []
    },
    {
      "cell_type": "code",
      "source": [
        "# Read the CSV file\n",
        "X = pd.read_csv(data_path)\n",
        "\n",
        "\n",
        "header = []\n",
        "\n",
        "for i in range(0, X.shape[1]):\n",
        "    header.append('Att'+str(i))\n",
        "print(header)\n",
        "X.to_csv(\"data.csv\", header=header, index=False)\n",
        "\n",
        "X = pd.read_csv('data.csv')\n",
        "\n",
        "print(\"Dataset.shape: \" + str(X.shape))\n",
        "y = pd.read_csv(label_path)\n",
        "\n",
        "header = []\n",
        "\n",
        "for i in range(0, y.shape[1]):\n",
        "    header.append('Class'+str(i))\n",
        "print(header)\n",
        "\n",
        "y.to_csv(\"label.csv\", header=header, index=False)\n",
        "\n",
        "y = pd.read_csv('label.csv')\n",
        "\n",
        "\n",
        "print(\"X.shape: \" + str(X.shape))\n",
        "display(X.head())\n",
        "print(\"y.shape: \" + str(y.shape))\n",
        "display(y.head())\n",
        "print(\"Descriptive stats:\")\n",
        "X.describe()"
      ],
      "metadata": {
        "colab": {
          "base_uri": "https://localhost:8080/",
          "height": 906
        },
        "id": "2ADFsdHgNoTO",
        "outputId": "f07373ee-006c-4838-b9b9-574099ddfb3d"
      },
      "execution_count": null,
      "outputs": [
        {
          "output_type": "stream",
          "name": "stdout",
          "text": [
            "['Att0', 'Att1', 'Att2', 'Att3', 'Att4', 'Att5', 'Att6', 'Att7', 'Att8', 'Att9', 'Att10', 'Att11', 'Att12', 'Att13', 'Att14', 'Att15', 'Att16', 'Att17', 'Att18', 'Att19', 'Att20', 'Att21', 'Att22', 'Att23', 'Att24', 'Att25', 'Att26', 'Att27', 'Att28', 'Att29', 'Att30', 'Att31', 'Att32', 'Att33', 'Att34', 'Att35', 'Att36', 'Att37', 'Att38', 'Att39', 'Att40', 'Att41', 'Att42', 'Att43', 'Att44', 'Att45', 'Att46', 'Att47', 'Att48', 'Att49', 'Att50', 'Att51', 'Att52', 'Att53', 'Att54', 'Att55', 'Att56', 'Att57', 'Att58', 'Att59', 'Att60', 'Att61', 'Att62', 'Att63', 'Att64', 'Att65', 'Att66', 'Att67', 'Att68', 'Att69', 'Att70', 'Att71', 'Att72', 'Att73', 'Att74', 'Att75', 'Att76', 'Att77', 'Att78', 'Att79', 'Att80', 'Att81', 'Att82', 'Att83', 'Att84', 'Att85', 'Att86', 'Att87', 'Att88', 'Att89', 'Att90', 'Att91', 'Att92', 'Att93', 'Att94', 'Att95', 'Att96', 'Att97', 'Att98', 'Att99', 'Att100', 'Att101', 'Att102']\n",
            "Dataset.shape: (2416, 103)\n",
            "['Class0', 'Class1', 'Class2', 'Class3', 'Class4', 'Class5', 'Class6', 'Class7', 'Class8', 'Class9', 'Class10', 'Class11', 'Class12', 'Class13']\n",
            "X.shape: (2416, 103)\n"
          ]
        },
        {
          "output_type": "display_data",
          "data": {
            "text/plain": [
              "       Att0      Att1      Att2      Att3      Att4      Att5      Att6  \\\n",
              "0 -0.022711 -0.050504 -0.035691 -0.065434 -0.084316 -0.378560  0.038212   \n",
              "1 -0.090407  0.021198  0.208712  0.102752  0.119315  0.041729 -0.021728   \n",
              "2 -0.085235  0.009540 -0.013228  0.094063 -0.013592 -0.030719 -0.116062   \n",
              "3 -0.088765 -0.026743  0.002075 -0.043819 -0.005465  0.004306 -0.055865   \n",
              "4  0.052386 -0.077969 -0.065555 -0.044628 -0.005428  0.120818  0.051850   \n",
              "\n",
              "       Att7      Att8      Att9  ...     Att93     Att94     Att95     Att96  \\\n",
              "0  0.085770  0.182613 -0.055544  ... -0.001198  0.030594 -0.021814  0.010430   \n",
              "1  0.019603 -0.063853 -0.053756  ...  0.195777  0.022294  0.012583  0.002233   \n",
              "2 -0.131674 -0.165448 -0.123053  ...  0.001189 -0.066241 -0.046999 -0.066604   \n",
              "3 -0.071484 -0.159025 -0.111348  ... -0.035045 -0.080882  0.028468 -0.073576   \n",
              "4  0.072627  0.107119  0.034214  ... -0.056235  0.187005 -0.053345  0.162630   \n",
              "\n",
              "      Att97     Att98     Att99    Att100    Att101    Att102  \n",
              "0 -0.013809 -0.009248 -0.027318 -0.014191  0.022783  0.123785  \n",
              "1 -0.002072 -0.010981  0.007615 -0.063378 -0.084181 -0.034402  \n",
              "2 -0.055773 -0.041941  0.051066  0.004976  0.193972  0.131866  \n",
              "3  0.050630  0.084832 -0.019570 -0.021650 -0.068326 -0.091155  \n",
              "4  0.141881 -0.055852 -0.075871 -0.066165 -0.027733  0.069023  \n",
              "\n",
              "[5 rows x 103 columns]"
            ],
            "text/html": [
              "\n",
              "  <div id=\"df-d34dad6a-89fd-45f7-93a5-8e7ca54f09c5\">\n",
              "    <div class=\"colab-df-container\">\n",
              "      <div>\n",
              "<style scoped>\n",
              "    .dataframe tbody tr th:only-of-type {\n",
              "        vertical-align: middle;\n",
              "    }\n",
              "\n",
              "    .dataframe tbody tr th {\n",
              "        vertical-align: top;\n",
              "    }\n",
              "\n",
              "    .dataframe thead th {\n",
              "        text-align: right;\n",
              "    }\n",
              "</style>\n",
              "<table border=\"1\" class=\"dataframe\">\n",
              "  <thead>\n",
              "    <tr style=\"text-align: right;\">\n",
              "      <th></th>\n",
              "      <th>Att0</th>\n",
              "      <th>Att1</th>\n",
              "      <th>Att2</th>\n",
              "      <th>Att3</th>\n",
              "      <th>Att4</th>\n",
              "      <th>Att5</th>\n",
              "      <th>Att6</th>\n",
              "      <th>Att7</th>\n",
              "      <th>Att8</th>\n",
              "      <th>Att9</th>\n",
              "      <th>...</th>\n",
              "      <th>Att93</th>\n",
              "      <th>Att94</th>\n",
              "      <th>Att95</th>\n",
              "      <th>Att96</th>\n",
              "      <th>Att97</th>\n",
              "      <th>Att98</th>\n",
              "      <th>Att99</th>\n",
              "      <th>Att100</th>\n",
              "      <th>Att101</th>\n",
              "      <th>Att102</th>\n",
              "    </tr>\n",
              "  </thead>\n",
              "  <tbody>\n",
              "    <tr>\n",
              "      <th>0</th>\n",
              "      <td>-0.022711</td>\n",
              "      <td>-0.050504</td>\n",
              "      <td>-0.035691</td>\n",
              "      <td>-0.065434</td>\n",
              "      <td>-0.084316</td>\n",
              "      <td>-0.378560</td>\n",
              "      <td>0.038212</td>\n",
              "      <td>0.085770</td>\n",
              "      <td>0.182613</td>\n",
              "      <td>-0.055544</td>\n",
              "      <td>...</td>\n",
              "      <td>-0.001198</td>\n",
              "      <td>0.030594</td>\n",
              "      <td>-0.021814</td>\n",
              "      <td>0.010430</td>\n",
              "      <td>-0.013809</td>\n",
              "      <td>-0.009248</td>\n",
              "      <td>-0.027318</td>\n",
              "      <td>-0.014191</td>\n",
              "      <td>0.022783</td>\n",
              "      <td>0.123785</td>\n",
              "    </tr>\n",
              "    <tr>\n",
              "      <th>1</th>\n",
              "      <td>-0.090407</td>\n",
              "      <td>0.021198</td>\n",
              "      <td>0.208712</td>\n",
              "      <td>0.102752</td>\n",
              "      <td>0.119315</td>\n",
              "      <td>0.041729</td>\n",
              "      <td>-0.021728</td>\n",
              "      <td>0.019603</td>\n",
              "      <td>-0.063853</td>\n",
              "      <td>-0.053756</td>\n",
              "      <td>...</td>\n",
              "      <td>0.195777</td>\n",
              "      <td>0.022294</td>\n",
              "      <td>0.012583</td>\n",
              "      <td>0.002233</td>\n",
              "      <td>-0.002072</td>\n",
              "      <td>-0.010981</td>\n",
              "      <td>0.007615</td>\n",
              "      <td>-0.063378</td>\n",
              "      <td>-0.084181</td>\n",
              "      <td>-0.034402</td>\n",
              "    </tr>\n",
              "    <tr>\n",
              "      <th>2</th>\n",
              "      <td>-0.085235</td>\n",
              "      <td>0.009540</td>\n",
              "      <td>-0.013228</td>\n",
              "      <td>0.094063</td>\n",
              "      <td>-0.013592</td>\n",
              "      <td>-0.030719</td>\n",
              "      <td>-0.116062</td>\n",
              "      <td>-0.131674</td>\n",
              "      <td>-0.165448</td>\n",
              "      <td>-0.123053</td>\n",
              "      <td>...</td>\n",
              "      <td>0.001189</td>\n",
              "      <td>-0.066241</td>\n",
              "      <td>-0.046999</td>\n",
              "      <td>-0.066604</td>\n",
              "      <td>-0.055773</td>\n",
              "      <td>-0.041941</td>\n",
              "      <td>0.051066</td>\n",
              "      <td>0.004976</td>\n",
              "      <td>0.193972</td>\n",
              "      <td>0.131866</td>\n",
              "    </tr>\n",
              "    <tr>\n",
              "      <th>3</th>\n",
              "      <td>-0.088765</td>\n",
              "      <td>-0.026743</td>\n",
              "      <td>0.002075</td>\n",
              "      <td>-0.043819</td>\n",
              "      <td>-0.005465</td>\n",
              "      <td>0.004306</td>\n",
              "      <td>-0.055865</td>\n",
              "      <td>-0.071484</td>\n",
              "      <td>-0.159025</td>\n",
              "      <td>-0.111348</td>\n",
              "      <td>...</td>\n",
              "      <td>-0.035045</td>\n",
              "      <td>-0.080882</td>\n",
              "      <td>0.028468</td>\n",
              "      <td>-0.073576</td>\n",
              "      <td>0.050630</td>\n",
              "      <td>0.084832</td>\n",
              "      <td>-0.019570</td>\n",
              "      <td>-0.021650</td>\n",
              "      <td>-0.068326</td>\n",
              "      <td>-0.091155</td>\n",
              "    </tr>\n",
              "    <tr>\n",
              "      <th>4</th>\n",
              "      <td>0.052386</td>\n",
              "      <td>-0.077969</td>\n",
              "      <td>-0.065555</td>\n",
              "      <td>-0.044628</td>\n",
              "      <td>-0.005428</td>\n",
              "      <td>0.120818</td>\n",
              "      <td>0.051850</td>\n",
              "      <td>0.072627</td>\n",
              "      <td>0.107119</td>\n",
              "      <td>0.034214</td>\n",
              "      <td>...</td>\n",
              "      <td>-0.056235</td>\n",
              "      <td>0.187005</td>\n",
              "      <td>-0.053345</td>\n",
              "      <td>0.162630</td>\n",
              "      <td>0.141881</td>\n",
              "      <td>-0.055852</td>\n",
              "      <td>-0.075871</td>\n",
              "      <td>-0.066165</td>\n",
              "      <td>-0.027733</td>\n",
              "      <td>0.069023</td>\n",
              "    </tr>\n",
              "  </tbody>\n",
              "</table>\n",
              "<p>5 rows × 103 columns</p>\n",
              "</div>\n",
              "      <button class=\"colab-df-convert\" onclick=\"convertToInteractive('df-d34dad6a-89fd-45f7-93a5-8e7ca54f09c5')\"\n",
              "              title=\"Convert this dataframe to an interactive table.\"\n",
              "              style=\"display:none;\">\n",
              "        \n",
              "  <svg xmlns=\"http://www.w3.org/2000/svg\" height=\"24px\"viewBox=\"0 0 24 24\"\n",
              "       width=\"24px\">\n",
              "    <path d=\"M0 0h24v24H0V0z\" fill=\"none\"/>\n",
              "    <path d=\"M18.56 5.44l.94 2.06.94-2.06 2.06-.94-2.06-.94-.94-2.06-.94 2.06-2.06.94zm-11 1L8.5 8.5l.94-2.06 2.06-.94-2.06-.94L8.5 2.5l-.94 2.06-2.06.94zm10 10l.94 2.06.94-2.06 2.06-.94-2.06-.94-.94-2.06-.94 2.06-2.06.94z\"/><path d=\"M17.41 7.96l-1.37-1.37c-.4-.4-.92-.59-1.43-.59-.52 0-1.04.2-1.43.59L10.3 9.45l-7.72 7.72c-.78.78-.78 2.05 0 2.83L4 21.41c.39.39.9.59 1.41.59.51 0 1.02-.2 1.41-.59l7.78-7.78 2.81-2.81c.8-.78.8-2.07 0-2.86zM5.41 20L4 18.59l7.72-7.72 1.47 1.35L5.41 20z\"/>\n",
              "  </svg>\n",
              "      </button>\n",
              "      \n",
              "  <style>\n",
              "    .colab-df-container {\n",
              "      display:flex;\n",
              "      flex-wrap:wrap;\n",
              "      gap: 12px;\n",
              "    }\n",
              "\n",
              "    .colab-df-convert {\n",
              "      background-color: #E8F0FE;\n",
              "      border: none;\n",
              "      border-radius: 50%;\n",
              "      cursor: pointer;\n",
              "      display: none;\n",
              "      fill: #1967D2;\n",
              "      height: 32px;\n",
              "      padding: 0 0 0 0;\n",
              "      width: 32px;\n",
              "    }\n",
              "\n",
              "    .colab-df-convert:hover {\n",
              "      background-color: #E2EBFA;\n",
              "      box-shadow: 0px 1px 2px rgba(60, 64, 67, 0.3), 0px 1px 3px 1px rgba(60, 64, 67, 0.15);\n",
              "      fill: #174EA6;\n",
              "    }\n",
              "\n",
              "    [theme=dark] .colab-df-convert {\n",
              "      background-color: #3B4455;\n",
              "      fill: #D2E3FC;\n",
              "    }\n",
              "\n",
              "    [theme=dark] .colab-df-convert:hover {\n",
              "      background-color: #434B5C;\n",
              "      box-shadow: 0px 1px 3px 1px rgba(0, 0, 0, 0.15);\n",
              "      filter: drop-shadow(0px 1px 2px rgba(0, 0, 0, 0.3));\n",
              "      fill: #FFFFFF;\n",
              "    }\n",
              "  </style>\n",
              "\n",
              "      <script>\n",
              "        const buttonEl =\n",
              "          document.querySelector('#df-d34dad6a-89fd-45f7-93a5-8e7ca54f09c5 button.colab-df-convert');\n",
              "        buttonEl.style.display =\n",
              "          google.colab.kernel.accessAllowed ? 'block' : 'none';\n",
              "\n",
              "        async function convertToInteractive(key) {\n",
              "          const element = document.querySelector('#df-d34dad6a-89fd-45f7-93a5-8e7ca54f09c5');\n",
              "          const dataTable =\n",
              "            await google.colab.kernel.invokeFunction('convertToInteractive',\n",
              "                                                     [key], {});\n",
              "          if (!dataTable) return;\n",
              "\n",
              "          const docLinkHtml = 'Like what you see? Visit the ' +\n",
              "            '<a target=\"_blank\" href=https://colab.research.google.com/notebooks/data_table.ipynb>data table notebook</a>'\n",
              "            + ' to learn more about interactive tables.';\n",
              "          element.innerHTML = '';\n",
              "          dataTable['output_type'] = 'display_data';\n",
              "          await google.colab.output.renderOutput(dataTable, element);\n",
              "          const docLink = document.createElement('div');\n",
              "          docLink.innerHTML = docLinkHtml;\n",
              "          element.appendChild(docLink);\n",
              "        }\n",
              "      </script>\n",
              "    </div>\n",
              "  </div>\n",
              "  "
            ]
          },
          "metadata": {}
        },
        {
          "output_type": "stream",
          "name": "stdout",
          "text": [
            "y.shape: (2416, 14)\n"
          ]
        },
        {
          "output_type": "display_data",
          "data": {
            "text/plain": [
              "   Class0  Class1  Class2  Class3  Class4  Class5  Class6  Class7  Class8  \\\n",
              "0       0       0       0       0       0       0       1       1       0   \n",
              "1       0       1       1       0       0       0       0       0       0   \n",
              "2       0       0       1       1       0       0       0       0       0   \n",
              "3       1       1       0       0       0       0       0       0       0   \n",
              "4       0       0       1       1       0       0       0       0       0   \n",
              "\n",
              "   Class9  Class10  Class11  Class12  Class13  \n",
              "0       0        0        1        1        0  \n",
              "1       0        0        1        1        0  \n",
              "2       0        0        1        1        1  \n",
              "3       0        0        0        0        0  \n",
              "4       0        0        1        1        0  "
            ],
            "text/html": [
              "\n",
              "  <div id=\"df-00199c5e-9901-42a6-b19f-e9590fcdb691\">\n",
              "    <div class=\"colab-df-container\">\n",
              "      <div>\n",
              "<style scoped>\n",
              "    .dataframe tbody tr th:only-of-type {\n",
              "        vertical-align: middle;\n",
              "    }\n",
              "\n",
              "    .dataframe tbody tr th {\n",
              "        vertical-align: top;\n",
              "    }\n",
              "\n",
              "    .dataframe thead th {\n",
              "        text-align: right;\n",
              "    }\n",
              "</style>\n",
              "<table border=\"1\" class=\"dataframe\">\n",
              "  <thead>\n",
              "    <tr style=\"text-align: right;\">\n",
              "      <th></th>\n",
              "      <th>Class0</th>\n",
              "      <th>Class1</th>\n",
              "      <th>Class2</th>\n",
              "      <th>Class3</th>\n",
              "      <th>Class4</th>\n",
              "      <th>Class5</th>\n",
              "      <th>Class6</th>\n",
              "      <th>Class7</th>\n",
              "      <th>Class8</th>\n",
              "      <th>Class9</th>\n",
              "      <th>Class10</th>\n",
              "      <th>Class11</th>\n",
              "      <th>Class12</th>\n",
              "      <th>Class13</th>\n",
              "    </tr>\n",
              "  </thead>\n",
              "  <tbody>\n",
              "    <tr>\n",
              "      <th>0</th>\n",
              "      <td>0</td>\n",
              "      <td>0</td>\n",
              "      <td>0</td>\n",
              "      <td>0</td>\n",
              "      <td>0</td>\n",
              "      <td>0</td>\n",
              "      <td>1</td>\n",
              "      <td>1</td>\n",
              "      <td>0</td>\n",
              "      <td>0</td>\n",
              "      <td>0</td>\n",
              "      <td>1</td>\n",
              "      <td>1</td>\n",
              "      <td>0</td>\n",
              "    </tr>\n",
              "    <tr>\n",
              "      <th>1</th>\n",
              "      <td>0</td>\n",
              "      <td>1</td>\n",
              "      <td>1</td>\n",
              "      <td>0</td>\n",
              "      <td>0</td>\n",
              "      <td>0</td>\n",
              "      <td>0</td>\n",
              "      <td>0</td>\n",
              "      <td>0</td>\n",
              "      <td>0</td>\n",
              "      <td>0</td>\n",
              "      <td>1</td>\n",
              "      <td>1</td>\n",
              "      <td>0</td>\n",
              "    </tr>\n",
              "    <tr>\n",
              "      <th>2</th>\n",
              "      <td>0</td>\n",
              "      <td>0</td>\n",
              "      <td>1</td>\n",
              "      <td>1</td>\n",
              "      <td>0</td>\n",
              "      <td>0</td>\n",
              "      <td>0</td>\n",
              "      <td>0</td>\n",
              "      <td>0</td>\n",
              "      <td>0</td>\n",
              "      <td>0</td>\n",
              "      <td>1</td>\n",
              "      <td>1</td>\n",
              "      <td>1</td>\n",
              "    </tr>\n",
              "    <tr>\n",
              "      <th>3</th>\n",
              "      <td>1</td>\n",
              "      <td>1</td>\n",
              "      <td>0</td>\n",
              "      <td>0</td>\n",
              "      <td>0</td>\n",
              "      <td>0</td>\n",
              "      <td>0</td>\n",
              "      <td>0</td>\n",
              "      <td>0</td>\n",
              "      <td>0</td>\n",
              "      <td>0</td>\n",
              "      <td>0</td>\n",
              "      <td>0</td>\n",
              "      <td>0</td>\n",
              "    </tr>\n",
              "    <tr>\n",
              "      <th>4</th>\n",
              "      <td>0</td>\n",
              "      <td>0</td>\n",
              "      <td>1</td>\n",
              "      <td>1</td>\n",
              "      <td>0</td>\n",
              "      <td>0</td>\n",
              "      <td>0</td>\n",
              "      <td>0</td>\n",
              "      <td>0</td>\n",
              "      <td>0</td>\n",
              "      <td>0</td>\n",
              "      <td>1</td>\n",
              "      <td>1</td>\n",
              "      <td>0</td>\n",
              "    </tr>\n",
              "  </tbody>\n",
              "</table>\n",
              "</div>\n",
              "      <button class=\"colab-df-convert\" onclick=\"convertToInteractive('df-00199c5e-9901-42a6-b19f-e9590fcdb691')\"\n",
              "              title=\"Convert this dataframe to an interactive table.\"\n",
              "              style=\"display:none;\">\n",
              "        \n",
              "  <svg xmlns=\"http://www.w3.org/2000/svg\" height=\"24px\"viewBox=\"0 0 24 24\"\n",
              "       width=\"24px\">\n",
              "    <path d=\"M0 0h24v24H0V0z\" fill=\"none\"/>\n",
              "    <path d=\"M18.56 5.44l.94 2.06.94-2.06 2.06-.94-2.06-.94-.94-2.06-.94 2.06-2.06.94zm-11 1L8.5 8.5l.94-2.06 2.06-.94-2.06-.94L8.5 2.5l-.94 2.06-2.06.94zm10 10l.94 2.06.94-2.06 2.06-.94-2.06-.94-.94-2.06-.94 2.06-2.06.94z\"/><path d=\"M17.41 7.96l-1.37-1.37c-.4-.4-.92-.59-1.43-.59-.52 0-1.04.2-1.43.59L10.3 9.45l-7.72 7.72c-.78.78-.78 2.05 0 2.83L4 21.41c.39.39.9.59 1.41.59.51 0 1.02-.2 1.41-.59l7.78-7.78 2.81-2.81c.8-.78.8-2.07 0-2.86zM5.41 20L4 18.59l7.72-7.72 1.47 1.35L5.41 20z\"/>\n",
              "  </svg>\n",
              "      </button>\n",
              "      \n",
              "  <style>\n",
              "    .colab-df-container {\n",
              "      display:flex;\n",
              "      flex-wrap:wrap;\n",
              "      gap: 12px;\n",
              "    }\n",
              "\n",
              "    .colab-df-convert {\n",
              "      background-color: #E8F0FE;\n",
              "      border: none;\n",
              "      border-radius: 50%;\n",
              "      cursor: pointer;\n",
              "      display: none;\n",
              "      fill: #1967D2;\n",
              "      height: 32px;\n",
              "      padding: 0 0 0 0;\n",
              "      width: 32px;\n",
              "    }\n",
              "\n",
              "    .colab-df-convert:hover {\n",
              "      background-color: #E2EBFA;\n",
              "      box-shadow: 0px 1px 2px rgba(60, 64, 67, 0.3), 0px 1px 3px 1px rgba(60, 64, 67, 0.15);\n",
              "      fill: #174EA6;\n",
              "    }\n",
              "\n",
              "    [theme=dark] .colab-df-convert {\n",
              "      background-color: #3B4455;\n",
              "      fill: #D2E3FC;\n",
              "    }\n",
              "\n",
              "    [theme=dark] .colab-df-convert:hover {\n",
              "      background-color: #434B5C;\n",
              "      box-shadow: 0px 1px 3px 1px rgba(0, 0, 0, 0.15);\n",
              "      filter: drop-shadow(0px 1px 2px rgba(0, 0, 0, 0.3));\n",
              "      fill: #FFFFFF;\n",
              "    }\n",
              "  </style>\n",
              "\n",
              "      <script>\n",
              "        const buttonEl =\n",
              "          document.querySelector('#df-00199c5e-9901-42a6-b19f-e9590fcdb691 button.colab-df-convert');\n",
              "        buttonEl.style.display =\n",
              "          google.colab.kernel.accessAllowed ? 'block' : 'none';\n",
              "\n",
              "        async function convertToInteractive(key) {\n",
              "          const element = document.querySelector('#df-00199c5e-9901-42a6-b19f-e9590fcdb691');\n",
              "          const dataTable =\n",
              "            await google.colab.kernel.invokeFunction('convertToInteractive',\n",
              "                                                     [key], {});\n",
              "          if (!dataTable) return;\n",
              "\n",
              "          const docLinkHtml = 'Like what you see? Visit the ' +\n",
              "            '<a target=\"_blank\" href=https://colab.research.google.com/notebooks/data_table.ipynb>data table notebook</a>'\n",
              "            + ' to learn more about interactive tables.';\n",
              "          element.innerHTML = '';\n",
              "          dataTable['output_type'] = 'display_data';\n",
              "          await google.colab.output.renderOutput(dataTable, element);\n",
              "          const docLink = document.createElement('div');\n",
              "          docLink.innerHTML = docLinkHtml;\n",
              "          element.appendChild(docLink);\n",
              "        }\n",
              "      </script>\n",
              "    </div>\n",
              "  </div>\n",
              "  "
            ]
          },
          "metadata": {}
        },
        {
          "output_type": "stream",
          "name": "stdout",
          "text": [
            "Descriptive stats:\n"
          ]
        },
        {
          "output_type": "execute_result",
          "data": {
            "text/plain": [
              "              Att0         Att1         Att2         Att3         Att4  \\\n",
              "count  2416.000000  2416.000000  2416.000000  2416.000000  2416.000000   \n",
              "mean      0.001135    -0.000494    -0.000283     0.000262     0.001194   \n",
              "std       0.097413     0.097864     0.097758     0.096989     0.096915   \n",
              "min      -0.371146    -0.472632    -0.339195    -0.467945    -0.367044   \n",
              "25%      -0.053689    -0.058771    -0.057598    -0.057170    -0.058476   \n",
              "50%       0.003468    -0.003537     0.002850    -0.000172     0.005518   \n",
              "75%       0.057256     0.048045     0.060880     0.054533     0.065772   \n",
              "max       0.520272     0.614114     0.353241     0.568960     0.307649   \n",
              "\n",
              "              Att5         Att6         Att7         Att8         Att9  ...  \\\n",
              "count  2416.000000  2416.000000  2416.000000  2416.000000  2416.000000  ...   \n",
              "mean      0.000525     0.001077     0.000418     0.001065    -0.000027  ...   \n",
              "std       0.097296     0.097179     0.096823     0.096345     0.096821  ...   \n",
              "min      -0.509447    -0.319928    -0.594498    -0.369712    -0.767128  ...   \n",
              "25%      -0.060135    -0.058491    -0.062855    -0.063560    -0.065011  ...   \n",
              "50%       0.000386     0.006126     0.001423     0.003452     0.002378  ...   \n",
              "75%       0.059962     0.068844     0.061512     0.064962     0.063160  ...   \n",
              "max       0.336971     0.351401     0.454591     0.419852     0.420876  ...   \n",
              "\n",
              "             Att93        Att94        Att95        Att96        Att97  \\\n",
              "count  2416.000000  2416.000000  2416.000000  2416.000000  2416.000000   \n",
              "mean     -0.000790     0.000472    -0.000501     0.000683     0.000340   \n",
              "std       0.093332     0.096703     0.096226     0.096651     0.096297   \n",
              "min      -0.455191    -0.283594    -0.279408    -0.226420    -0.225374   \n",
              "25%      -0.054157    -0.056452    -0.056422    -0.059432    -0.058030   \n",
              "50%      -0.012933    -0.023597    -0.024312    -0.023023    -0.021937   \n",
              "75%       0.027762     0.034969     0.036229     0.041436     0.035745   \n",
              "max       0.609175     0.542867     0.547134     0.385928     0.540493   \n",
              "\n",
              "             Att98        Att99       Att100       Att101       Att102  \n",
              "count  2416.000000  2416.000000  2416.000000  2416.000000  2416.000000  \n",
              "mean     -0.001491    -0.001026    -0.001522     0.000235     0.007556  \n",
              "std       0.094388     0.096914     0.094227     0.093142     0.099359  \n",
              "min      -0.501572    -0.236589    -0.267052    -0.194079    -0.237752  \n",
              "25%      -0.053600    -0.063331    -0.059546    -0.054079    -0.077199  \n",
              "50%      -0.018219    -0.033615    -0.023481    -0.012015     0.022072  \n",
              "75%       0.019640     0.038968     0.025432     0.028014     0.103146  \n",
              "max       0.569250     0.509963     0.587358     0.700340     0.163431  \n",
              "\n",
              "[8 rows x 103 columns]"
            ],
            "text/html": [
              "\n",
              "  <div id=\"df-0d7de2fb-1ffb-49b3-a44a-dc447f8f7c47\">\n",
              "    <div class=\"colab-df-container\">\n",
              "      <div>\n",
              "<style scoped>\n",
              "    .dataframe tbody tr th:only-of-type {\n",
              "        vertical-align: middle;\n",
              "    }\n",
              "\n",
              "    .dataframe tbody tr th {\n",
              "        vertical-align: top;\n",
              "    }\n",
              "\n",
              "    .dataframe thead th {\n",
              "        text-align: right;\n",
              "    }\n",
              "</style>\n",
              "<table border=\"1\" class=\"dataframe\">\n",
              "  <thead>\n",
              "    <tr style=\"text-align: right;\">\n",
              "      <th></th>\n",
              "      <th>Att0</th>\n",
              "      <th>Att1</th>\n",
              "      <th>Att2</th>\n",
              "      <th>Att3</th>\n",
              "      <th>Att4</th>\n",
              "      <th>Att5</th>\n",
              "      <th>Att6</th>\n",
              "      <th>Att7</th>\n",
              "      <th>Att8</th>\n",
              "      <th>Att9</th>\n",
              "      <th>...</th>\n",
              "      <th>Att93</th>\n",
              "      <th>Att94</th>\n",
              "      <th>Att95</th>\n",
              "      <th>Att96</th>\n",
              "      <th>Att97</th>\n",
              "      <th>Att98</th>\n",
              "      <th>Att99</th>\n",
              "      <th>Att100</th>\n",
              "      <th>Att101</th>\n",
              "      <th>Att102</th>\n",
              "    </tr>\n",
              "  </thead>\n",
              "  <tbody>\n",
              "    <tr>\n",
              "      <th>count</th>\n",
              "      <td>2416.000000</td>\n",
              "      <td>2416.000000</td>\n",
              "      <td>2416.000000</td>\n",
              "      <td>2416.000000</td>\n",
              "      <td>2416.000000</td>\n",
              "      <td>2416.000000</td>\n",
              "      <td>2416.000000</td>\n",
              "      <td>2416.000000</td>\n",
              "      <td>2416.000000</td>\n",
              "      <td>2416.000000</td>\n",
              "      <td>...</td>\n",
              "      <td>2416.000000</td>\n",
              "      <td>2416.000000</td>\n",
              "      <td>2416.000000</td>\n",
              "      <td>2416.000000</td>\n",
              "      <td>2416.000000</td>\n",
              "      <td>2416.000000</td>\n",
              "      <td>2416.000000</td>\n",
              "      <td>2416.000000</td>\n",
              "      <td>2416.000000</td>\n",
              "      <td>2416.000000</td>\n",
              "    </tr>\n",
              "    <tr>\n",
              "      <th>mean</th>\n",
              "      <td>0.001135</td>\n",
              "      <td>-0.000494</td>\n",
              "      <td>-0.000283</td>\n",
              "      <td>0.000262</td>\n",
              "      <td>0.001194</td>\n",
              "      <td>0.000525</td>\n",
              "      <td>0.001077</td>\n",
              "      <td>0.000418</td>\n",
              "      <td>0.001065</td>\n",
              "      <td>-0.000027</td>\n",
              "      <td>...</td>\n",
              "      <td>-0.000790</td>\n",
              "      <td>0.000472</td>\n",
              "      <td>-0.000501</td>\n",
              "      <td>0.000683</td>\n",
              "      <td>0.000340</td>\n",
              "      <td>-0.001491</td>\n",
              "      <td>-0.001026</td>\n",
              "      <td>-0.001522</td>\n",
              "      <td>0.000235</td>\n",
              "      <td>0.007556</td>\n",
              "    </tr>\n",
              "    <tr>\n",
              "      <th>std</th>\n",
              "      <td>0.097413</td>\n",
              "      <td>0.097864</td>\n",
              "      <td>0.097758</td>\n",
              "      <td>0.096989</td>\n",
              "      <td>0.096915</td>\n",
              "      <td>0.097296</td>\n",
              "      <td>0.097179</td>\n",
              "      <td>0.096823</td>\n",
              "      <td>0.096345</td>\n",
              "      <td>0.096821</td>\n",
              "      <td>...</td>\n",
              "      <td>0.093332</td>\n",
              "      <td>0.096703</td>\n",
              "      <td>0.096226</td>\n",
              "      <td>0.096651</td>\n",
              "      <td>0.096297</td>\n",
              "      <td>0.094388</td>\n",
              "      <td>0.096914</td>\n",
              "      <td>0.094227</td>\n",
              "      <td>0.093142</td>\n",
              "      <td>0.099359</td>\n",
              "    </tr>\n",
              "    <tr>\n",
              "      <th>min</th>\n",
              "      <td>-0.371146</td>\n",
              "      <td>-0.472632</td>\n",
              "      <td>-0.339195</td>\n",
              "      <td>-0.467945</td>\n",
              "      <td>-0.367044</td>\n",
              "      <td>-0.509447</td>\n",
              "      <td>-0.319928</td>\n",
              "      <td>-0.594498</td>\n",
              "      <td>-0.369712</td>\n",
              "      <td>-0.767128</td>\n",
              "      <td>...</td>\n",
              "      <td>-0.455191</td>\n",
              "      <td>-0.283594</td>\n",
              "      <td>-0.279408</td>\n",
              "      <td>-0.226420</td>\n",
              "      <td>-0.225374</td>\n",
              "      <td>-0.501572</td>\n",
              "      <td>-0.236589</td>\n",
              "      <td>-0.267052</td>\n",
              "      <td>-0.194079</td>\n",
              "      <td>-0.237752</td>\n",
              "    </tr>\n",
              "    <tr>\n",
              "      <th>25%</th>\n",
              "      <td>-0.053689</td>\n",
              "      <td>-0.058771</td>\n",
              "      <td>-0.057598</td>\n",
              "      <td>-0.057170</td>\n",
              "      <td>-0.058476</td>\n",
              "      <td>-0.060135</td>\n",
              "      <td>-0.058491</td>\n",
              "      <td>-0.062855</td>\n",
              "      <td>-0.063560</td>\n",
              "      <td>-0.065011</td>\n",
              "      <td>...</td>\n",
              "      <td>-0.054157</td>\n",
              "      <td>-0.056452</td>\n",
              "      <td>-0.056422</td>\n",
              "      <td>-0.059432</td>\n",
              "      <td>-0.058030</td>\n",
              "      <td>-0.053600</td>\n",
              "      <td>-0.063331</td>\n",
              "      <td>-0.059546</td>\n",
              "      <td>-0.054079</td>\n",
              "      <td>-0.077199</td>\n",
              "    </tr>\n",
              "    <tr>\n",
              "      <th>50%</th>\n",
              "      <td>0.003468</td>\n",
              "      <td>-0.003537</td>\n",
              "      <td>0.002850</td>\n",
              "      <td>-0.000172</td>\n",
              "      <td>0.005518</td>\n",
              "      <td>0.000386</td>\n",
              "      <td>0.006126</td>\n",
              "      <td>0.001423</td>\n",
              "      <td>0.003452</td>\n",
              "      <td>0.002378</td>\n",
              "      <td>...</td>\n",
              "      <td>-0.012933</td>\n",
              "      <td>-0.023597</td>\n",
              "      <td>-0.024312</td>\n",
              "      <td>-0.023023</td>\n",
              "      <td>-0.021937</td>\n",
              "      <td>-0.018219</td>\n",
              "      <td>-0.033615</td>\n",
              "      <td>-0.023481</td>\n",
              "      <td>-0.012015</td>\n",
              "      <td>0.022072</td>\n",
              "    </tr>\n",
              "    <tr>\n",
              "      <th>75%</th>\n",
              "      <td>0.057256</td>\n",
              "      <td>0.048045</td>\n",
              "      <td>0.060880</td>\n",
              "      <td>0.054533</td>\n",
              "      <td>0.065772</td>\n",
              "      <td>0.059962</td>\n",
              "      <td>0.068844</td>\n",
              "      <td>0.061512</td>\n",
              "      <td>0.064962</td>\n",
              "      <td>0.063160</td>\n",
              "      <td>...</td>\n",
              "      <td>0.027762</td>\n",
              "      <td>0.034969</td>\n",
              "      <td>0.036229</td>\n",
              "      <td>0.041436</td>\n",
              "      <td>0.035745</td>\n",
              "      <td>0.019640</td>\n",
              "      <td>0.038968</td>\n",
              "      <td>0.025432</td>\n",
              "      <td>0.028014</td>\n",
              "      <td>0.103146</td>\n",
              "    </tr>\n",
              "    <tr>\n",
              "      <th>max</th>\n",
              "      <td>0.520272</td>\n",
              "      <td>0.614114</td>\n",
              "      <td>0.353241</td>\n",
              "      <td>0.568960</td>\n",
              "      <td>0.307649</td>\n",
              "      <td>0.336971</td>\n",
              "      <td>0.351401</td>\n",
              "      <td>0.454591</td>\n",
              "      <td>0.419852</td>\n",
              "      <td>0.420876</td>\n",
              "      <td>...</td>\n",
              "      <td>0.609175</td>\n",
              "      <td>0.542867</td>\n",
              "      <td>0.547134</td>\n",
              "      <td>0.385928</td>\n",
              "      <td>0.540493</td>\n",
              "      <td>0.569250</td>\n",
              "      <td>0.509963</td>\n",
              "      <td>0.587358</td>\n",
              "      <td>0.700340</td>\n",
              "      <td>0.163431</td>\n",
              "    </tr>\n",
              "  </tbody>\n",
              "</table>\n",
              "<p>8 rows × 103 columns</p>\n",
              "</div>\n",
              "      <button class=\"colab-df-convert\" onclick=\"convertToInteractive('df-0d7de2fb-1ffb-49b3-a44a-dc447f8f7c47')\"\n",
              "              title=\"Convert this dataframe to an interactive table.\"\n",
              "              style=\"display:none;\">\n",
              "        \n",
              "  <svg xmlns=\"http://www.w3.org/2000/svg\" height=\"24px\"viewBox=\"0 0 24 24\"\n",
              "       width=\"24px\">\n",
              "    <path d=\"M0 0h24v24H0V0z\" fill=\"none\"/>\n",
              "    <path d=\"M18.56 5.44l.94 2.06.94-2.06 2.06-.94-2.06-.94-.94-2.06-.94 2.06-2.06.94zm-11 1L8.5 8.5l.94-2.06 2.06-.94-2.06-.94L8.5 2.5l-.94 2.06-2.06.94zm10 10l.94 2.06.94-2.06 2.06-.94-2.06-.94-.94-2.06-.94 2.06-2.06.94z\"/><path d=\"M17.41 7.96l-1.37-1.37c-.4-.4-.92-.59-1.43-.59-.52 0-1.04.2-1.43.59L10.3 9.45l-7.72 7.72c-.78.78-.78 2.05 0 2.83L4 21.41c.39.39.9.59 1.41.59.51 0 1.02-.2 1.41-.59l7.78-7.78 2.81-2.81c.8-.78.8-2.07 0-2.86zM5.41 20L4 18.59l7.72-7.72 1.47 1.35L5.41 20z\"/>\n",
              "  </svg>\n",
              "      </button>\n",
              "      \n",
              "  <style>\n",
              "    .colab-df-container {\n",
              "      display:flex;\n",
              "      flex-wrap:wrap;\n",
              "      gap: 12px;\n",
              "    }\n",
              "\n",
              "    .colab-df-convert {\n",
              "      background-color: #E8F0FE;\n",
              "      border: none;\n",
              "      border-radius: 50%;\n",
              "      cursor: pointer;\n",
              "      display: none;\n",
              "      fill: #1967D2;\n",
              "      height: 32px;\n",
              "      padding: 0 0 0 0;\n",
              "      width: 32px;\n",
              "    }\n",
              "\n",
              "    .colab-df-convert:hover {\n",
              "      background-color: #E2EBFA;\n",
              "      box-shadow: 0px 1px 2px rgba(60, 64, 67, 0.3), 0px 1px 3px 1px rgba(60, 64, 67, 0.15);\n",
              "      fill: #174EA6;\n",
              "    }\n",
              "\n",
              "    [theme=dark] .colab-df-convert {\n",
              "      background-color: #3B4455;\n",
              "      fill: #D2E3FC;\n",
              "    }\n",
              "\n",
              "    [theme=dark] .colab-df-convert:hover {\n",
              "      background-color: #434B5C;\n",
              "      box-shadow: 0px 1px 3px 1px rgba(0, 0, 0, 0.15);\n",
              "      filter: drop-shadow(0px 1px 2px rgba(0, 0, 0, 0.3));\n",
              "      fill: #FFFFFF;\n",
              "    }\n",
              "  </style>\n",
              "\n",
              "      <script>\n",
              "        const buttonEl =\n",
              "          document.querySelector('#df-0d7de2fb-1ffb-49b3-a44a-dc447f8f7c47 button.colab-df-convert');\n",
              "        buttonEl.style.display =\n",
              "          google.colab.kernel.accessAllowed ? 'block' : 'none';\n",
              "\n",
              "        async function convertToInteractive(key) {\n",
              "          const element = document.querySelector('#df-0d7de2fb-1ffb-49b3-a44a-dc447f8f7c47');\n",
              "          const dataTable =\n",
              "            await google.colab.kernel.invokeFunction('convertToInteractive',\n",
              "                                                     [key], {});\n",
              "          if (!dataTable) return;\n",
              "\n",
              "          const docLinkHtml = 'Like what you see? Visit the ' +\n",
              "            '<a target=\"_blank\" href=https://colab.research.google.com/notebooks/data_table.ipynb>data table notebook</a>'\n",
              "            + ' to learn more about interactive tables.';\n",
              "          element.innerHTML = '';\n",
              "          dataTable['output_type'] = 'display_data';\n",
              "          await google.colab.output.renderOutput(dataTable, element);\n",
              "          const docLink = document.createElement('div');\n",
              "          docLink.innerHTML = docLinkHtml;\n",
              "          element.appendChild(docLink);\n",
              "        }\n",
              "      </script>\n",
              "    </div>\n",
              "  </div>\n",
              "  "
            ]
          },
          "metadata": {},
          "execution_count": 45
        }
      ]
    },
    {
      "cell_type": "code",
      "source": [],
      "metadata": {
        "id": "uhDohZeHNoWF"
      },
      "execution_count": null,
      "outputs": []
    },
    {
      "cell_type": "markdown",
      "metadata": {
        "id": "Gb8vGXN9MBtS"
      },
      "source": [
        "### Split into Train and Test Set"
      ]
    },
    {
      "cell_type": "code",
      "execution_count": null,
      "metadata": {
        "scrolled": true,
        "colab": {
          "base_uri": "https://localhost:8080/"
        },
        "id": "nU5b-KkyMBtT",
        "outputId": "ea835f47-7e74-4a6a-b614-f5edea1bc1a0"
      },
      "outputs": [
        {
          "output_type": "stream",
          "name": "stdout",
          "text": [
            "X_train.shape: (1691, 103)\n",
            "X_test.shape: (725, 103)\n",
            "y_train.shape: (1691, 14)\n",
            "y_test.shape: (725, 14)\n"
          ]
        }
      ],
      "source": [
        "# Normalise the data\n",
        "X = (X-X.min())/(X.max()-X.min())\n",
        "\n",
        "# split into train and test\n",
        "X_train, X_test, y_train, y_test = train_test_split(X, y, random_state=0, train_size=0.7)\n",
        "\n",
        "print(\"X_train.shape: \" + str(X_train.shape))\n",
        "print(\"X_test.shape: \" + str(X_test.shape))\n",
        "print(\"y_train.shape: \" + str(y_train.shape))\n",
        "print(\"y_test.shape: \" + str(y_test.shape))"
      ]
    },
    {
      "cell_type": "code",
      "source": [],
      "metadata": {
        "id": "uKP3karOyu_p"
      },
      "execution_count": null,
      "outputs": []
    },
    {
      "cell_type": "markdown",
      "metadata": {
        "id": "zyMOa3CjMBtU"
      },
      "source": [
        "## Task 1: Implement the Binary Relevance Algorithm"
      ]
    },
    {
      "cell_type": "code",
      "execution_count": null,
      "metadata": {
        "id": "xlYNLotGMBtV"
      },
      "outputs": [],
      "source": [
        "class BinaryRelevanceClassifier(BaseEstimator, ClassifierMixin):\n",
        "    def __init__(self, base_classifier=LogisticRegression()):\n",
        "        self.base_classifier=base_classifier\n",
        "\n",
        "    def fit(self, X, y):\n",
        "        \"\"\"Build a Binary Relevance classifier from the training set (X, y).\n",
        "        Parameters\n",
        "        ----------\n",
        "        X : array-like or sparse matrix, shape = [n_samples, n_features]\n",
        "            The training input samples. Internally, it will be converted to\n",
        "            ``dtype=np.float32`` and if a sparse matrix is provided\n",
        "            to a sparse ``csc_matrix``.\n",
        "        y : array-like, shape = [n_samples, n_labels] \n",
        "            The target values (class labels) as integers or strings.\n",
        "        \"\"\"\n",
        "\n",
        "        # list of individual classifiers\n",
        "        self.models = []\n",
        "       \n",
        "        # for every class label\n",
        "        for label in list(y.columns):\n",
        "            # Check that X and y have correct shape\n",
        "            x_checked, y_checked = check_X_y(X, y[label])\n",
        "            # every classifier is independent of the others\n",
        "            # hence we create a copy of the base classifier instance\n",
        "            base_model = clone(self.base_classifier)\n",
        "            # fit the base model - one model each for Y1, Y2....Y14\n",
        "            basel_model = base_model.fit(x_checked, y_checked)\n",
        "            # add the fitted model list of individual classifiers\n",
        "            self.models.append(base_model)\n",
        "\n",
        "    # The predict function to make a set of predictions for a set of query instances\n",
        "    def predict(self, X):\n",
        "        # check if the models list has been set up\n",
        "        check_is_fitted(self, ['models'])\n",
        "        X = check_array(X)\n",
        "        \n",
        "        all_preds = pd.DataFrame()\n",
        "        i=0\n",
        "        # list of individual classifier predictions\n",
        "        preds = []\n",
        "        \n",
        "        # predict against each fitted model - one model per label\n",
        "        for model in self.models:\n",
        "            pred = model.predict(X)\n",
        "            # add the prediction to the dataframe\n",
        "            preds.append(pd.DataFrame({'Class'+ str(i+1): pred}))\n",
        "            i+=1\n",
        "        \n",
        "        # dataframe with predictions for all class labels\n",
        "        all_preds = pd.concat(preds, axis=1)\n",
        "        # standard sklearn classifiers return predictions as numpy arrays\n",
        "        # hence convert the dataframe to a numpy array\n",
        "        return all_preds.to_numpy()\n",
        "    \n",
        "\n",
        "\n",
        "    def predict_proba(self,X):\n",
        "        # check if the models list has been set up\n",
        "        check_is_fitted(self, ['models'])\n",
        "        X = check_array(X)\n",
        "        \n",
        "        all_preds = pd.DataFrame()\n",
        "        i = 0\n",
        "        \n",
        "        for model in self.models:\n",
        "            # Call predict_proba of the each base model\n",
        "            pred = model.predict_proba(X)\n",
        "            # Add the probabilities of 1 to the dataframe\n",
        "            all_preds['Class'+str(i+1)] = [one_prob[1] for one_prob in pred]\n",
        "            i+=1\n",
        "        \n",
        "        #return probabilities\n",
        "        return all_preds.to_numpy()"
      ]
    },
    {
      "cell_type": "markdown",
      "metadata": {
        "id": "WWBCzgpWMBtY"
      },
      "source": [
        "### Predictions against the test data"
      ]
    },
    {
      "cell_type": "code",
      "execution_count": null,
      "metadata": {
        "scrolled": true,
        "colab": {
          "base_uri": "https://localhost:8080/"
        },
        "id": "Jk8p-BPcMBtZ",
        "outputId": "894056e8-d2bd-4bf1-fc97-25cf8a0e022e"
      },
      "outputs": [
        {
          "output_type": "stream",
          "name": "stdout",
          "text": [
            "y_pred.shape: (725, 14)\n"
          ]
        }
      ],
      "source": [
        "# instantiate the classifier\n",
        "br_clf = BinaryRelevanceClassifier(LogisticRegression())\n",
        "# fit\n",
        "br_clf.fit(X_train, y_train)\n",
        "# predict\n",
        "y_pred = br_clf.predict(X_test)\n",
        "print(\"y_pred.shape: \" + str(y_pred.shape))"
      ]
    },
    {
      "cell_type": "markdown",
      "metadata": {
        "id": "QK8ixoXOMBtb"
      },
      "source": [
        "### Custom Accuracy Measure for Classifiers"
      ]
    },
    {
      "cell_type": "markdown",
      "metadata": {
        "id": "iq8K5bQWMBtb"
      },
      "source": [
        "The Accuracy measure used here has been described in - \"A Literature Survey on Algorithms for Multi-label Learning\" by \"Mohammad S Sorower\"."
      ]
    },
    {
      "cell_type": "code",
      "execution_count": null,
      "metadata": {
        "id": "cAty3pmbMBtb"
      },
      "outputs": [],
      "source": [
        "def accuracy_score(y_test, y_pred):\n",
        "    # y_pred is a numpy array, y_test is a dataframe\n",
        "    # to compare the two, convert to a single type\n",
        "    y_test = y_test.to_numpy()\n",
        "    \n",
        "    # shape of test and preds must be equal\n",
        "    assert y_test.shape == y_pred.shape\n",
        "    i=0\n",
        "    # list of scores for each training sample\n",
        "    scores = []\n",
        "    \n",
        "    # for each test sample\n",
        "    while i < len(y_test):\n",
        "        count=0\n",
        "        # count the number of matches in the sample\n",
        "        # y_test[i] -> row values in test set (true values)\n",
        "        # y_pred[i] -> row values in predictions set (predicted values)\n",
        "        for p, q in zip(y_test[i], y_pred[i]):\n",
        "            if p == q:\n",
        "                count += 1\n",
        "\n",
        "        # accuracy score for the sample = no. of correctly predicted labels/total no. of labels\n",
        "        scores.append(count / y_pred.shape[1])\n",
        "        i+=1 \n",
        "\n",
        "    # final accuracy = avg. accuracy over all test samples =\n",
        "    # sum of the accuracy of all training samples/no. of training samples\n",
        "    return round((sum(scores)/len(y_test)), 5)"
      ]
    },
    {
      "cell_type": "code",
      "execution_count": null,
      "metadata": {
        "colab": {
          "base_uri": "https://localhost:8080/"
        },
        "id": "UlskJGYZMBtc",
        "outputId": "597fb1ce-a02d-4de7-cfcb-2da5a53ba555"
      },
      "outputs": [
        {
          "output_type": "stream",
          "name": "stdout",
          "text": [
            "Accuracy of Binary Relevance Classifier: 0.78542\n"
          ]
        }
      ],
      "source": [
        "print(\"Accuracy of Binary Relevance Classifier: \" + str(accuracy_score(y_test, y_pred)))"
      ]
    },
    {
      "cell_type": "markdown",
      "metadata": {
        "id": "oiRFOBGwMBtd"
      },
      "source": [
        "### Experiment with different Base Classifiers - GridSearch"
      ]
    },
    {
      "cell_type": "code",
      "execution_count": null,
      "metadata": {
        "scrolled": false,
        "colab": {
          "base_uri": "https://localhost:8080/",
          "height": 86
        },
        "id": "XQSSVPUVMBtd",
        "outputId": "865ab608-6308-4565-b43b-9a5ebe896406"
      },
      "outputs": [
        {
          "output_type": "stream",
          "name": "stdout",
          "text": [
            "Fitting 5 folds for each of 6 candidates, totalling 30 fits\n",
            "Best Parameters Found: \n"
          ]
        },
        {
          "output_type": "display_data",
          "data": {
            "text/plain": [
              "{'base_classifier': SVC()}"
            ]
          },
          "metadata": {}
        },
        {
          "output_type": "display_data",
          "data": {
            "text/plain": [
              "0.815366"
            ]
          },
          "metadata": {}
        }
      ],
      "source": [
        "cv_folds=5\n",
        "\n",
        "# Set up the parameter grid to search\n",
        "param_grid ={'base_classifier': [DecisionTreeClassifier(criterion='entropy', max_depth=15, min_samples_leaf=2),\n",
        "                                 RandomForestClassifier(criterion='entropy'),\n",
        "                                 LogisticRegression(max_iter=20000), GaussianNB(), KNeighborsClassifier(), SVC()] }\n",
        "\n",
        "# Perform the search\n",
        "# Using the custom accuracy function defined earlier\n",
        "tuned_model = GridSearchCV(BinaryRelevanceClassifier(), \\\n",
        "                            param_grid, scoring=make_scorer(accuracy_score), verbose = 2, n_jobs = -1, cv=cv_folds)\n",
        "tuned_model.fit(X_train, y_train)\n",
        "\n",
        "# Print details of the best model\n",
        "print(\"Best Parameters Found: \")\n",
        "display(tuned_model.best_params_)\n",
        "display(tuned_model.best_score_)"
      ]
    },
    {
      "cell_type": "markdown",
      "metadata": {
        "id": "O5O68_PkMBte"
      },
      "source": [
        "### Evaluate the best model against the Test Data"
      ]
    },
    {
      "cell_type": "code",
      "execution_count": null,
      "metadata": {
        "colab": {
          "base_uri": "https://localhost:8080/"
        },
        "id": "sBhMdobdMBtf",
        "outputId": "312143aa-6ccc-4d48-e0f5-ec4919244ba6"
      },
      "outputs": [
        {
          "output_type": "stream",
          "name": "stdout",
          "text": [
            "y_pred.shape: (725, 14)\n"
          ]
        }
      ],
      "source": [
        "# instantiate the classifier\n",
        "br_clf = BinaryRelevanceClassifier(LogisticRegression(max_iter=20000))\n",
        "# fit\n",
        "br_clf.fit(X_train, y_train)\n",
        "# predict\n",
        "y_pred = br_clf.predict(X_test)\n",
        "print(\"y_pred.shape: \" + str(y_pred.shape))"
      ]
    },
    {
      "cell_type": "code",
      "execution_count": null,
      "metadata": {
        "colab": {
          "base_uri": "https://localhost:8080/"
        },
        "id": "UbFWrKVZMBtf",
        "outputId": "ed590bd1-3b4d-45f5-c0d8-8bb6bc4c04ee"
      },
      "outputs": [
        {
          "output_type": "stream",
          "name": "stdout",
          "text": [
            "Accuracy of Binary Relevance Classifier - Best Model: 0.78562\n"
          ]
        }
      ],
      "source": [
        "print(\"Accuracy of Binary Relevance Classifier - Best Model: \" + str(accuracy_score(y_test, y_pred)))"
      ]
    },
    {
      "cell_type": "markdown",
      "metadata": {
        "id": "sW9gJtEFMBtg"
      },
      "source": [
        "## Task 2: Implement the Binary Relevance Algorithm with Under-Sampling"
      ]
    },
    {
      "cell_type": "code",
      "execution_count": null,
      "metadata": {
        "id": "XkGlM_wGMBtg"
      },
      "outputs": [],
      "source": [
        "class BinaryRelevanceClassifierUS(BaseEstimator, ClassifierMixin):\n",
        "    def __init__(self, base_classifier=LogisticRegression(max_iter=20000)):\n",
        "        self.base_classifier=base_classifier\n",
        "\n",
        "    def fit(self, X, y):\n",
        "        \"\"\"Build a Binary Relevance classifier with Under sampling from the training set (X, y).\n",
        "        Parameters\n",
        "        ----------\n",
        "        X : array-like or sparse matrix, shape = [n_samples, n_features]\n",
        "            The training input samples. Internally, it will be converted to\n",
        "            ``dtype=np.float32`` and if a sparse matrix is provided\n",
        "            to a sparse ``csc_matrix``.\n",
        "        y : array-like, shape = [n_samples] \n",
        "            The target values (class labels) as integers or strings.\n",
        "        \"\"\"\n",
        "\n",
        "        # list of individual classifiers\n",
        "        self.models = []\n",
        "        \n",
        "        # for each class label\n",
        "        for label in list(y.columns):\n",
        "            \n",
        "            X_cp = X.copy()\n",
        "            # pick the column values for the label\n",
        "            y_cp = y[label]\n",
        "            \n",
        "            # sampling is done on both X and y, hence join the two dataframes\n",
        "            X_y_data = pd.concat([X_cp, y_cp], axis=1)\n",
        "            \n",
        "            # counters for 0 values and 1 values\n",
        "            n_val0, n_val1 = 0,0\n",
        "            \n",
        "            j=0\n",
        "            # for each sample\n",
        "            while j<len(X_y_data):\n",
        "                # if value for the label is 0\n",
        "                if(X_y_data.iloc[j][label] == 0):\n",
        "                    n_val0+=1\n",
        "                else:\n",
        "                    # value 1\n",
        "                    n_val1+=1\n",
        "                j+=1\n",
        "            \n",
        "            # under sample the majority class\n",
        "            # randomly pick samples from majority class equal to the number of samples in the minority class\n",
        "            # both the classes will have the same number of samples\n",
        "            if n_val0 > n_val1:\n",
        "                # majority 0 values\n",
        "                val1 = X_y_data[X_y_data[label]==1]\n",
        "                val0 = X_y_data[X_y_data[label]==0].sample(n_val1)\n",
        "                \n",
        "                X_y_data = pd.concat([val0, val1], axis=0)\n",
        "            \n",
        "            elif n_val1 > n_val0:\n",
        "                # majority 1 values\n",
        "                val1 = X_y_data[X_y_data[label]==1].sample(n_val0)\n",
        "                val0 = X_y_data[X_y_data[label]==0]\n",
        "                \n",
        "                X_y_data = pd.concat([val0, val1], axis=0)\n",
        "            \n",
        "            # split back into X and y\n",
        "            X_cp = X_y_data.iloc[:, :-1]\n",
        "            y_cp = X_y_data.iloc[:, -1]\n",
        "            \n",
        "            base_model = clone(self.base_classifier)\n",
        "            # fit the base model - one model each for Y1, Y2....Y14\n",
        "            a, b = check_X_y(X_cp, y_cp)\n",
        "            base_model.fit(a, b)\n",
        "            # list of individual classifiers classifiers\n",
        "            self.models.append(base_model)\n",
        "\n",
        "\n",
        "    # The predict function to make a set of predictions for a set of query instances\n",
        "    def predict(self, X):\n",
        "        # check if the models list has been set up\n",
        "        check_is_fitted(self, ['models'])\n",
        "        X = check_array(X)\n",
        "        \n",
        "        all_preds = pd.DataFrame()\n",
        "        i=0\n",
        "        # list of individual classifier predictions\n",
        "        preds = []\n",
        "        \n",
        "        # for every fitted model\n",
        "        for model in self.models:\n",
        "            # predict for X\n",
        "            pred = model.predict(X)\n",
        "            # add to the list of predictions\n",
        "            preds.append(pd.DataFrame({'Class'+ str(i+1): pred}))\n",
        "            i+=1\n",
        "        \n",
        "        # store predictions for each label in a single dataframe\n",
        "        all_preds = pd.concat(preds, axis=1)\n",
        "        # standard sklearn classifiers return predictions as numpy arrays\n",
        "        # hence convert the dataframe to a numpy array\n",
        "        return all_preds.to_numpy()\n",
        "    \n",
        "    \n",
        "    def predict_proba(self,X):\n",
        "        # check if the models list has been set up\n",
        "        check_is_fitted(self, ['models'])\n",
        "        X = check_array(X)\n",
        "        \n",
        "        all_preds = pd.DataFrame()\n",
        "        i = 0\n",
        "        \n",
        "        for model in self.models:\n",
        "            # Call predict_proba of the each base model\n",
        "            pred = model.predict_proba(X)\n",
        "            # Add the probabilities of 1 to the dataframe\n",
        "            all_preds['Class'+str(i+1)] = [one_prob[1] for one_prob in pred]\n",
        "            i+=1\n",
        "        \n",
        "        #return probabilities\n",
        "        return all_preds.to_numpy()"
      ]
    },
    {
      "cell_type": "markdown",
      "metadata": {
        "id": "3GK3kmZEMBti"
      },
      "source": [
        "### Prediction against the Test Data"
      ]
    },
    {
      "cell_type": "code",
      "execution_count": null,
      "metadata": {
        "colab": {
          "base_uri": "https://localhost:8080/"
        },
        "id": "5qzQQzUxMBti",
        "outputId": "81470ffe-d3eb-4725-99d9-711d1f006e5b"
      },
      "outputs": [
        {
          "output_type": "stream",
          "name": "stdout",
          "text": [
            "y_pred.shape=(725, 14)\n"
          ]
        }
      ],
      "source": [
        "brus_clf = BinaryRelevanceClassifierUS()\n",
        "# fit\n",
        "brus_clf.fit(X_train, y_train)\n",
        "# predict\n",
        "y_pred = brus_clf.predict(X_test)\n",
        "print(\"y_pred.shape=\" + str(y_pred.shape))"
      ]
    },
    {
      "cell_type": "markdown",
      "metadata": {
        "id": "8SmMSQ0lMBtj"
      },
      "source": [
        "### Calculate the Accuracy"
      ]
    },
    {
      "cell_type": "code",
      "execution_count": null,
      "metadata": {
        "colab": {
          "base_uri": "https://localhost:8080/"
        },
        "id": "prLHGmRXMBtj",
        "outputId": "0226c118-4175-462d-cf96-b6f1a9c94106"
      },
      "outputs": [
        {
          "output_type": "stream",
          "name": "stdout",
          "text": [
            "Accuracy of Binary Relevance Classifier with Under-sampling: 0.60709\n"
          ]
        }
      ],
      "source": [
        "accuracy = accuracy_score(y_test, y_pred)\n",
        "print(\"Accuracy of Binary Relevance Classifier with Under-sampling: \" + str(accuracy))"
      ]
    },
    {
      "cell_type": "markdown",
      "metadata": {
        "id": "KDV9Ad0ZMBtk"
      },
      "source": [
        "### Experiment with different Base Classifiers - GridSearch"
      ]
    },
    {
      "cell_type": "code",
      "execution_count": null,
      "metadata": {
        "colab": {
          "base_uri": "https://localhost:8080/",
          "height": 86
        },
        "id": "Tdq39ECKMBtk",
        "outputId": "cf32cf42-b62c-4519-87de-a60120042b7b"
      },
      "outputs": [
        {
          "output_type": "stream",
          "name": "stdout",
          "text": [
            "Fitting 5 folds for each of 6 candidates, totalling 30 fits\n",
            "Best Parameters Found: \n"
          ]
        },
        {
          "output_type": "display_data",
          "data": {
            "text/plain": [
              "{'base_classifier': RandomForestClassifier(criterion='entropy')}"
            ]
          },
          "metadata": {}
        },
        {
          "output_type": "display_data",
          "data": {
            "text/plain": [
              "0.648602"
            ]
          },
          "metadata": {}
        }
      ],
      "source": [
        "cv_folds=5\n",
        "\n",
        "# Set up the parameter grid to search\n",
        "param_grid ={'base_classifier': [DecisionTreeClassifier(criterion='entropy', max_depth=15, min_samples_leaf=2),\n",
        "                                 RandomForestClassifier(criterion='entropy'),\n",
        "                                 LogisticRegression(max_iter=20000), GaussianNB(), KNeighborsClassifier(), SVC()] }\n",
        "\n",
        "# Perform the search\n",
        "tuned_model = GridSearchCV(BinaryRelevanceClassifierUS(), \\\n",
        "                            param_grid, scoring=make_scorer(accuracy_score), verbose = 2, n_jobs = -1, cv=cv_folds)\n",
        "tuned_model.fit(X_train, y_train)\n",
        "\n",
        "# Print details\n",
        "print(\"Best Parameters Found: \")\n",
        "display(tuned_model.best_params_)\n",
        "display(tuned_model.best_score_)"
      ]
    },
    {
      "cell_type": "markdown",
      "metadata": {
        "id": "hQJZBwAXMBtl"
      },
      "source": [
        "### Evaluate the best model against the Test Data"
      ]
    },
    {
      "cell_type": "code",
      "execution_count": null,
      "metadata": {
        "colab": {
          "base_uri": "https://localhost:8080/"
        },
        "id": "nJhLqVnEMBtl",
        "outputId": "c26dc8ce-1596-475b-d09f-64fc84db9154"
      },
      "outputs": [
        {
          "output_type": "stream",
          "name": "stdout",
          "text": [
            "y_pred.shape=(725, 14)\n"
          ]
        }
      ],
      "source": [
        "brus_clf = BinaryRelevanceClassifierUS(RandomForestClassifier(criterion='entropy'))\n",
        "# fit\n",
        "brus_clf.fit(X_train, y_train)\n",
        "# predict\n",
        "y_pred = brus_clf.predict(X_test)\n",
        "print(\"y_pred.shape=\" + str(y_pred.shape))"
      ]
    },
    {
      "cell_type": "code",
      "execution_count": null,
      "metadata": {
        "colab": {
          "base_uri": "https://localhost:8080/"
        },
        "id": "B8-U6jtEMBtl",
        "outputId": "e6185eb4-ca1d-4cbe-b6f9-d24537c24f1b"
      },
      "outputs": [
        {
          "output_type": "stream",
          "name": "stdout",
          "text": [
            "Accuracy of Binary Relevance Classifier with Under-sampling - Best Model: 0.62877\n"
          ]
        }
      ],
      "source": [
        "accuracy = accuracy_score(y_test, y_pred)\n",
        "print(\"Accuracy of Binary Relevance Classifier with Under-sampling - Best Model: \" + str(accuracy))"
      ]
    },
    {
      "cell_type": "markdown",
      "metadata": {
        "id": "317UbZ-gMBtm"
      },
      "source": [
        "## Task 3: Compare the Performance of Different Binary Relevance Approaches"
      ]
    },
    {
      "cell_type": "markdown",
      "metadata": {
        "id": "HuStgW6wMBtm"
      },
      "source": [
        "### Accuracy and F-1 Scores"
      ]
    },
    {
      "cell_type": "code",
      "execution_count": null,
      "metadata": {
        "colab": {
          "base_uri": "https://localhost:8080/",
          "height": 799
        },
        "id": "aLYa0N9SMBto",
        "outputId": "fa24d92a-c47b-4546-93e2-4835bcadb014"
      },
      "outputs": [
        {
          "output_type": "stream",
          "name": "stdout",
          "text": [
            "===================Accuracy Scores=====================\n",
            "Binary Relevance\n"
          ]
        },
        {
          "output_type": "display_data",
          "data": {
            "text/plain": [
              "{'Decision Tree': 0.71419,\n",
              " 'Random Forest': 0.79675,\n",
              " 'Logistic Regression': 0.78562,\n",
              " 'GaussianNB': 0.67596,\n",
              " 'kNN': 0.7799,\n",
              " 'SVM': 0.79498}"
            ]
          },
          "metadata": {}
        },
        {
          "output_type": "stream",
          "name": "stdout",
          "text": [
            "Binary Relevance with Under-Sampling\n"
          ]
        },
        {
          "output_type": "display_data",
          "data": {
            "text/plain": [
              "{'Decision Tree': 0.57488,\n",
              " 'Random Forest': 0.63429,\n",
              " 'Logistic Regression': 0.62118,\n",
              " 'GaussianNB': 0.60227,\n",
              " 'kNN': 0.66867,\n",
              " 'SVM': 0.62631}"
            ]
          },
          "metadata": {}
        },
        {
          "output_type": "stream",
          "name": "stdout",
          "text": [
            "======================F1 Scores========================\n",
            "Binary Relevance\n"
          ]
        },
        {
          "output_type": "display_data",
          "data": {
            "text/plain": [
              "{'Decision Tree': 0.37205137865718785,\n",
              " 'Random Forest': 0.33961609493205847,\n",
              " 'Logistic Regression': 0.33938178009885295,\n",
              " 'GaussianNB': 0.4316627679083272,\n",
              " 'kNN': 0.353415071415573,\n",
              " 'SVM': 0.32787742663955644}"
            ]
          },
          "metadata": {}
        },
        {
          "output_type": "stream",
          "name": "stdout",
          "text": [
            "Binary Relevance with Under-Sampling\n"
          ]
        },
        {
          "output_type": "display_data",
          "data": {
            "text/plain": [
              "{'Decision Tree': 0.3896751873697854,\n",
              " 'Random Forest': 0.45648651643790894,\n",
              " 'Logistic Regression': 0.44346054877187635,\n",
              " 'GaussianNB': 0.4250478803948921,\n",
              " 'kNN': 0.427125836416144,\n",
              " 'SVM': 0.45050218652543356}"
            ]
          },
          "metadata": {}
        },
        {
          "output_type": "stream",
          "name": "stdout",
          "text": [
            "======================Hamming Loss========================\n",
            "Binary Relevance\n"
          ]
        },
        {
          "output_type": "display_data",
          "data": {
            "text/plain": [
              "{'Decision Tree': 0.2858128078817734,\n",
              " 'Random Forest': 0.2032512315270936,\n",
              " 'Logistic Regression': 0.21438423645320198,\n",
              " 'GaussianNB': 0.32403940886699506,\n",
              " 'kNN': 0.22009852216748768,\n",
              " 'SVM': 0.20502463054187192}"
            ]
          },
          "metadata": {}
        },
        {
          "output_type": "stream",
          "name": "stdout",
          "text": [
            "Binary Relevance with Under-Sampling\n"
          ]
        },
        {
          "output_type": "display_data",
          "data": {
            "text/plain": [
              "{'Decision Tree': 0.42512315270935963,\n",
              " 'Random Forest': 0.3657142857142857,\n",
              " 'Logistic Regression': 0.3788177339901478,\n",
              " 'GaussianNB': 0.39773399014778327,\n",
              " 'kNN': 0.3313300492610837,\n",
              " 'SVM': 0.3736945812807882}"
            ]
          },
          "metadata": {}
        }
      ],
      "source": [
        "# list of base models\n",
        "base_models = [DecisionTreeClassifier(criterion='entropy', max_depth=15, min_samples_leaf=2),\n",
        "               RandomForestClassifier(criterion='entropy'),\n",
        "               LogisticRegression(max_iter=20000), GaussianNB(), KNeighborsClassifier(n_neighbors=4), SVC()]\n",
        "base_model_names = [\"Decision Tree\", \"Random Forest\", \"Logistic Regression\", \"GaussianNB\", \"kNN\", \"SVM\"]\n",
        "\n",
        "# store accuracy scores\n",
        "br_clf_accuracies = dict()\n",
        "br_clfus_accuracies = dict()\n",
        "\n",
        "# store F1 scores\n",
        "br_clf_f1 = dict()\n",
        "br_clfus_f1 = dict()\n",
        "\n",
        "# store hamming scores\n",
        "br_clf_ham = dict()\n",
        "br_clfus_ham = dict()\n",
        "\n",
        "i=0\n",
        "for clf in base_models:\n",
        "    # without undersampling\n",
        "    br_clf = BinaryRelevanceClassifier(clf)\n",
        "    br_clf.fit(X_train, y_train)\n",
        "    br_y_pred = br_clf.predict(X_test)\n",
        "\n",
        "    # find accuracy using custom accuracy function defined\n",
        "    accuracy = accuracy_score(y_test, br_y_pred)\n",
        "    br_clf_accuracies[base_model_names[i]] = accuracy\n",
        "\n",
        "    # find f1 score using sklearn\n",
        "    y_pred_df = pd.DataFrame(br_y_pred)\n",
        "    f1_score_br = metrics.f1_score(y_test, y_pred_df, average='macro')\n",
        "    br_clf_f1[base_model_names[i]] = f1_score_br\n",
        "\n",
        "    # hamming\n",
        "    hamming = hamming_loss(y_test, br_y_pred)\n",
        "    br_clf_ham[base_model_names[i]] = hamming\n",
        "\n",
        "    # with undersampling\n",
        "    brus_clf = BinaryRelevanceClassifierUS(clf)\n",
        "    brus_clf.fit(X_train, y_train)\n",
        "    brus_y_pred = brus_clf.predict(X_test)\n",
        "    \n",
        "    # find accuracy using custom accuracy function defined\n",
        "    accuracy_us = accuracy_score(y_test, brus_y_pred)\n",
        "    br_clfus_accuracies[base_model_names[i]] = accuracy_us\n",
        "    \n",
        "    # find f1 score using sklearn\n",
        "    y_pred_df = pd.DataFrame(brus_y_pred)\n",
        "    f1_score_us = metrics.f1_score(y_test, y_pred_df, average='macro')\n",
        "    br_clfus_f1[base_model_names[i]] = f1_score_us\n",
        "    \n",
        "    # hamming score\n",
        "    hamming_us = hamming_loss(y_test, brus_y_pred)\n",
        "    br_clfus_ham[base_model_names[i]] = hamming_us\n",
        "\n",
        "    i+=1\n",
        "\n",
        "print(\"===================Accuracy Scores=====================\")\n",
        "print(\"Binary Relevance\")\n",
        "display(br_clf_accuracies)\n",
        "print(\"Binary Relevance with Under-Sampling\")\n",
        "display(br_clfus_accuracies)\n",
        "\n",
        "print(\"======================F1 Scores========================\")\n",
        "print(\"Binary Relevance\")\n",
        "display(br_clf_f1)\n",
        "print(\"Binary Relevance with Under-Sampling\")\n",
        "display(br_clfus_f1)\n",
        "\n",
        "print(\"======================Hamming Loss========================\")\n",
        "print(\"Binary Relevance\")\n",
        "display(br_clf_ham)\n",
        "print(\"Binary Relevance with Under-Sampling\")\n",
        "display(br_clfus_ham)"
      ]
    },
    {
      "cell_type": "markdown",
      "metadata": {
        "id": "4P6ZyAoFMBtp"
      },
      "source": [
        "### Plot the Accuracy  Scores"
      ]
    },
    {
      "cell_type": "code",
      "execution_count": null,
      "metadata": {
        "colab": {
          "base_uri": "https://localhost:8080/",
          "height": 368
        },
        "id": "ZtoPn441MBtp",
        "outputId": "59acc1bb-3de3-4e73-f7dd-0363d46c4ebf"
      },
      "outputs": [
        {
          "output_type": "execute_result",
          "data": {
            "text/plain": [
              "<matplotlib.legend.Legend at 0x7f4a394fafa0>"
            ]
          },
          "metadata": {},
          "execution_count": 36
        },
        {
          "output_type": "display_data",
          "data": {
            "text/plain": [
              "<Figure size 432x288 with 1 Axes>"
            ],
            "image/png": "[encoded data removed]"
          },
          "metadata": {
            "needs_background": "light"
          }
        }
      ],
      "source": [
        "plt.plot(list(br_clf_accuracies.keys()), list(br_clf_accuracies.values()))\n",
        "plt.plot(list(br_clfus_accuracies.keys()), list(br_clfus_accuracies.values()))\n",
        "plt.xticks(rotation=90)\n",
        "plt.legend(['Binary Relevance','Binary Relevance Under-Sampling'])"
      ]
    },
    {
      "cell_type": "markdown",
      "metadata": {
        "id": "lrdjgLMNMBtp"
      },
      "source": [
        "### Plot the F-1 Scores"
      ]
    },
    {
      "cell_type": "code",
      "execution_count": null,
      "metadata": {
        "colab": {
          "base_uri": "https://localhost:8080/",
          "height": 368
        },
        "id": "YDvTt27qMBtp",
        "outputId": "a190c3b3-4151-4a5b-e24d-151010f6c640"
      },
      "outputs": [
        {
          "output_type": "execute_result",
          "data": {
            "text/plain": [
              "<matplotlib.legend.Legend at 0x7f4a393c4760>"
            ]
          },
          "metadata": {},
          "execution_count": 37
        },
        {
          "output_type": "display_data",
          "data": {
            "text/plain": [
              "<Figure size 432x288 with 1 Axes>"
            ],
            "image/png": "[encoded data removed]"
          },
          "metadata": {
            "needs_background": "light"
          }
        }
      ],
      "source": [
        "plt.plot(list(br_clf_f1.keys()), list(br_clf_f1.values()))\n",
        "plt.plot(list(br_clfus_f1.keys()), list(br_clfus_f1.values()))\n",
        "plt.xticks(rotation=90)\n",
        "plt.legend(['Binary Relevance','Binary Relevance Under-Sampling'])"
      ]
    },
    {
      "cell_type": "code",
      "source": [
        "plt.plot(list(br_clf_ham.keys()), list(br_clf_ham.values()))\n",
        "plt.plot(list(br_clfus_ham.keys()), list(br_clfus_ham.values()))\n",
        "plt.xticks(rotation=90)\n",
        "plt.legend(['Binary Relevance','Binary Relevance Under-Sampling'])"
      ],
      "metadata": {
        "colab": {
          "base_uri": "https://localhost:8080/",
          "height": 368
        },
        "id": "M_9_QRNVrLYz",
        "outputId": "c8fe739e-8c07-48d4-a618-43dc790b8eb7"
      },
      "execution_count": null,
      "outputs": [
        {
          "output_type": "execute_result",
          "data": {
            "text/plain": [
              "<matplotlib.legend.Legend at 0x7f4a38e940a0>"
            ]
          },
          "metadata": {},
          "execution_count": 35
        },
        {
          "output_type": "display_data",
          "data": {
            "text/plain": [
              "<Figure size 432x288 with 1 Axes>"
            ],
            "image/png": "[encoded data removed]"
          },
          "metadata": {
            "needs_background": "light"
          }
        }
      ]
    },
    {
      "cell_type": "markdown",
      "metadata": {
        "id": "IsgF1DU3MBtq"
      },
      "source": [
        "## Task 4: Implement the Classifier Chains Algorithm"
      ]
    },
    {
      "cell_type": "code",
      "source": [
        "data_path = r'/content/drive/MyDrive/dataset/yeast_data.csv'\n",
        "label_path = r'/content/drive/MyDrive/dataset/yeast_label.csv'\n",
        "#X_train, y_train, X_test, y_test = load_csv(data_path, label_path)"
      ],
      "metadata": {
        "id": "QcuFtBT8nG2S"
      },
      "execution_count": null,
      "outputs": []
    },
    {
      "cell_type": "code",
      "source": [
        "# Read the CSV file\n",
        "X = pd.read_csv(data_path)\n",
        "\n",
        "\n",
        "header = []\n",
        "\n",
        "for i in range(1, X.shape[1]+1):\n",
        "    header.append('Att'+str(i))\n",
        "print(header)\n",
        "X.to_csv(\"enron_data.csv\", header=header, index=False)\n",
        "\n",
        "X = pd.read_csv('enron_data.csv')\n",
        "\n",
        "print(\"Dataset.shape: \" + str(X.shape))\n",
        "y = pd.read_csv(label_path)\n",
        "\n",
        "header = []\n",
        "\n",
        "for i in range(1, y.shape[1]+1):\n",
        "    header.append('Class'+str(i))\n",
        "print(header)\n",
        "\n",
        "y.to_csv(\"enron_label.csv\", header=header, index=False)\n",
        "\n",
        "y = pd.read_csv('enron_label.csv')\n",
        "\n",
        "\n",
        "print(\"X.shape: \" + str(X.shape))\n",
        "display(X.head())\n",
        "print(\"y.shape: \" + str(y.shape))\n",
        "display(y.head())\n",
        "print(\"Descriptive stats:\")\n",
        "X.describe()"
      ],
      "metadata": {
        "colab": {
          "base_uri": "https://localhost:8080/",
          "height": 906
        },
        "id": "RqkM7ZOUnHBJ",
        "outputId": "f58e8b3a-9eac-41a7-ab80-d51352d6f253"
      },
      "execution_count": null,
      "outputs": [
        {
          "output_type": "stream",
          "name": "stdout",
          "text": [
            "['Att1', 'Att2', 'Att3', 'Att4', 'Att5', 'Att6', 'Att7', 'Att8', 'Att9', 'Att10', 'Att11', 'Att12', 'Att13', 'Att14', 'Att15', 'Att16', 'Att17', 'Att18', 'Att19', 'Att20', 'Att21', 'Att22', 'Att23', 'Att24', 'Att25', 'Att26', 'Att27', 'Att28', 'Att29', 'Att30', 'Att31', 'Att32', 'Att33', 'Att34', 'Att35', 'Att36', 'Att37', 'Att38', 'Att39', 'Att40', 'Att41', 'Att42', 'Att43', 'Att44', 'Att45', 'Att46', 'Att47', 'Att48', 'Att49', 'Att50', 'Att51', 'Att52', 'Att53', 'Att54', 'Att55', 'Att56', 'Att57', 'Att58', 'Att59', 'Att60', 'Att61', 'Att62', 'Att63', 'Att64', 'Att65', 'Att66', 'Att67', 'Att68', 'Att69', 'Att70', 'Att71', 'Att72', 'Att73', 'Att74', 'Att75', 'Att76', 'Att77', 'Att78', 'Att79', 'Att80', 'Att81', 'Att82', 'Att83', 'Att84', 'Att85', 'Att86', 'Att87', 'Att88', 'Att89', 'Att90', 'Att91', 'Att92', 'Att93', 'Att94', 'Att95', 'Att96', 'Att97', 'Att98', 'Att99', 'Att100', 'Att101', 'Att102', 'Att103']\n",
            "Dataset.shape: (2416, 103)\n",
            "['Class1', 'Class2', 'Class3', 'Class4', 'Class5', 'Class6', 'Class7', 'Class8', 'Class9', 'Class10', 'Class11', 'Class12', 'Class13', 'Class14']\n",
            "X.shape: (2416, 103)\n"
          ]
        },
        {
          "output_type": "display_data",
          "data": {
            "text/plain": [
              "       Att1      Att2      Att3      Att4      Att5      Att6      Att7  \\\n",
              "0 -0.022711 -0.050504 -0.035691 -0.065434 -0.084316 -0.378560  0.038212   \n",
              "1 -0.090407  0.021198  0.208712  0.102752  0.119315  0.041729 -0.021728   \n",
              "2 -0.085235  0.009540 -0.013228  0.094063 -0.013592 -0.030719 -0.116062   \n",
              "3 -0.088765 -0.026743  0.002075 -0.043819 -0.005465  0.004306 -0.055865   \n",
              "4  0.052386 -0.077969 -0.065555 -0.044628 -0.005428  0.120818  0.051850   \n",
              "\n",
              "       Att8      Att9     Att10  ...     Att94     Att95     Att96     Att97  \\\n",
              "0  0.085770  0.182613 -0.055544  ... -0.001198  0.030594 -0.021814  0.010430   \n",
              "1  0.019603 -0.063853 -0.053756  ...  0.195777  0.022294  0.012583  0.002233   \n",
              "2 -0.131674 -0.165448 -0.123053  ...  0.001189 -0.066241 -0.046999 -0.066604   \n",
              "3 -0.071484 -0.159025 -0.111348  ... -0.035045 -0.080882  0.028468 -0.073576   \n",
              "4  0.072627  0.107119  0.034214  ... -0.056235  0.187005 -0.053345  0.162630   \n",
              "\n",
              "      Att98     Att99    Att100    Att101    Att102    Att103  \n",
              "0 -0.013809 -0.009248 -0.027318 -0.014191  0.022783  0.123785  \n",
              "1 -0.002072 -0.010981  0.007615 -0.063378 -0.084181 -0.034402  \n",
              "2 -0.055773 -0.041941  0.051066  0.004976  0.193972  0.131866  \n",
              "3  0.050630  0.084832 -0.019570 -0.021650 -0.068326 -0.091155  \n",
              "4  0.141881 -0.055852 -0.075871 -0.066165 -0.027733  0.069023  \n",
              "\n",
              "[5 rows x 103 columns]"
            ],
            "text/html": [
              "\n",
              "  <div id=\"df-2a30cda4-4e28-46ea-997c-1f6d9eb89d78\">\n",
              "    <div class=\"colab-df-container\">\n",
              "      <div>\n",
              "<style scoped>\n",
              "    .dataframe tbody tr th:only-of-type {\n",
              "        vertical-align: middle;\n",
              "    }\n",
              "\n",
              "    .dataframe tbody tr th {\n",
              "        vertical-align: top;\n",
              "    }\n",
              "\n",
              "    .dataframe thead th {\n",
              "        text-align: right;\n",
              "    }\n",
              "</style>\n",
              "<table border=\"1\" class=\"dataframe\">\n",
              "  <thead>\n",
              "    <tr style=\"text-align: right;\">\n",
              "      <th></th>\n",
              "      <th>Att1</th>\n",
              "      <th>Att2</th>\n",
              "      <th>Att3</th>\n",
              "      <th>Att4</th>\n",
              "      <th>Att5</th>\n",
              "      <th>Att6</th>\n",
              "      <th>Att7</th>\n",
              "      <th>Att8</th>\n",
              "      <th>Att9</th>\n",
              "      <th>Att10</th>\n",
              "      <th>...</th>\n",
              "      <th>Att94</th>\n",
              "      <th>Att95</th>\n",
              "      <th>Att96</th>\n",
              "      <th>Att97</th>\n",
              "      <th>Att98</th>\n",
              "      <th>Att99</th>\n",
              "      <th>Att100</th>\n",
              "      <th>Att101</th>\n",
              "      <th>Att102</th>\n",
              "      <th>Att103</th>\n",
              "    </tr>\n",
              "  </thead>\n",
              "  <tbody>\n",
              "    <tr>\n",
              "      <th>0</th>\n",
              "      <td>-0.022711</td>\n",
              "      <td>-0.050504</td>\n",
              "      <td>-0.035691</td>\n",
              "      <td>-0.065434</td>\n",
              "      <td>-0.084316</td>\n",
              "      <td>-0.378560</td>\n",
              "      <td>0.038212</td>\n",
              "      <td>0.085770</td>\n",
              "      <td>0.182613</td>\n",
              "      <td>-0.055544</td>\n",
              "      <td>...</td>\n",
              "      <td>-0.001198</td>\n",
              "      <td>0.030594</td>\n",
              "      <td>-0.021814</td>\n",
              "      <td>0.010430</td>\n",
              "      <td>-0.013809</td>\n",
              "      <td>-0.009248</td>\n",
              "      <td>-0.027318</td>\n",
              "      <td>-0.014191</td>\n",
              "      <td>0.022783</td>\n",
              "      <td>0.123785</td>\n",
              "    </tr>\n",
              "    <tr>\n",
              "      <th>1</th>\n",
              "      <td>-0.090407</td>\n",
              "      <td>0.021198</td>\n",
              "      <td>0.208712</td>\n",
              "      <td>0.102752</td>\n",
              "      <td>0.119315</td>\n",
              "      <td>0.041729</td>\n",
              "      <td>-0.021728</td>\n",
              "      <td>0.019603</td>\n",
              "      <td>-0.063853</td>\n",
              "      <td>-0.053756</td>\n",
              "      <td>...</td>\n",
              "      <td>0.195777</td>\n",
              "      <td>0.022294</td>\n",
              "      <td>0.012583</td>\n",
              "      <td>0.002233</td>\n",
              "      <td>-0.002072</td>\n",
              "      <td>-0.010981</td>\n",
              "      <td>0.007615</td>\n",
              "      <td>-0.063378</td>\n",
              "      <td>-0.084181</td>\n",
              "      <td>-0.034402</td>\n",
              "    </tr>\n",
              "    <tr>\n",
              "      <th>2</th>\n",
              "      <td>-0.085235</td>\n",
              "      <td>0.009540</td>\n",
              "      <td>-0.013228</td>\n",
              "      <td>0.094063</td>\n",
              "      <td>-0.013592</td>\n",
              "      <td>-0.030719</td>\n",
              "      <td>-0.116062</td>\n",
              "      <td>-0.131674</td>\n",
              "      <td>-0.165448</td>\n",
              "      <td>-0.123053</td>\n",
              "      <td>...</td>\n",
              "      <td>0.001189</td>\n",
              "      <td>-0.066241</td>\n",
              "      <td>-0.046999</td>\n",
              "      <td>-0.066604</td>\n",
              "      <td>-0.055773</td>\n",
              "      <td>-0.041941</td>\n",
              "      <td>0.051066</td>\n",
              "      <td>0.004976</td>\n",
              "      <td>0.193972</td>\n",
              "      <td>0.131866</td>\n",
              "    </tr>\n",
              "    <tr>\n",
              "      <th>3</th>\n",
              "      <td>-0.088765</td>\n",
              "      <td>-0.026743</td>\n",
              "      <td>0.002075</td>\n",
              "      <td>-0.043819</td>\n",
              "      <td>-0.005465</td>\n",
              "      <td>0.004306</td>\n",
              "      <td>-0.055865</td>\n",
              "      <td>-0.071484</td>\n",
              "      <td>-0.159025</td>\n",
              "      <td>-0.111348</td>\n",
              "      <td>...</td>\n",
              "      <td>-0.035045</td>\n",
              "      <td>-0.080882</td>\n",
              "      <td>0.028468</td>\n",
              "      <td>-0.073576</td>\n",
              "      <td>0.050630</td>\n",
              "      <td>0.084832</td>\n",
              "      <td>-0.019570</td>\n",
              "      <td>-0.021650</td>\n",
              "      <td>-0.068326</td>\n",
              "      <td>-0.091155</td>\n",
              "    </tr>\n",
              "    <tr>\n",
              "      <th>4</th>\n",
              "      <td>0.052386</td>\n",
              "      <td>-0.077969</td>\n",
              "      <td>-0.065555</td>\n",
              "      <td>-0.044628</td>\n",
              "      <td>-0.005428</td>\n",
              "      <td>0.120818</td>\n",
              "      <td>0.051850</td>\n",
              "      <td>0.072627</td>\n",
              "      <td>0.107119</td>\n",
              "      <td>0.034214</td>\n",
              "      <td>...</td>\n",
              "      <td>-0.056235</td>\n",
              "      <td>0.187005</td>\n",
              "      <td>-0.053345</td>\n",
              "      <td>0.162630</td>\n",
              "      <td>0.141881</td>\n",
              "      <td>-0.055852</td>\n",
              "      <td>-0.075871</td>\n",
              "      <td>-0.066165</td>\n",
              "      <td>-0.027733</td>\n",
              "      <td>0.069023</td>\n",
              "    </tr>\n",
              "  </tbody>\n",
              "</table>\n",
              "<p>5 rows × 103 columns</p>\n",
              "</div>\n",
              "      <button class=\"colab-df-convert\" onclick=\"convertToInteractive('df-2a30cda4-4e28-46ea-997c-1f6d9eb89d78')\"\n",
              "              title=\"Convert this dataframe to an interactive table.\"\n",
              "              style=\"display:none;\">\n",
              "        \n",
              "  <svg xmlns=\"http://www.w3.org/2000/svg\" height=\"24px\"viewBox=\"0 0 24 24\"\n",
              "       width=\"24px\">\n",
              "    <path d=\"M0 0h24v24H0V0z\" fill=\"none\"/>\n",
              "    <path d=\"M18.56 5.44l.94 2.06.94-2.06 2.06-.94-2.06-.94-.94-2.06-.94 2.06-2.06.94zm-11 1L8.5 8.5l.94-2.06 2.06-.94-2.06-.94L8.5 2.5l-.94 2.06-2.06.94zm10 10l.94 2.06.94-2.06 2.06-.94-2.06-.94-.94-2.06-.94 2.06-2.06.94z\"/><path d=\"M17.41 7.96l-1.37-1.37c-.4-.4-.92-.59-1.43-.59-.52 0-1.04.2-1.43.59L10.3 9.45l-7.72 7.72c-.78.78-.78 2.05 0 2.83L4 21.41c.39.39.9.59 1.41.59.51 0 1.02-.2 1.41-.59l7.78-7.78 2.81-2.81c.8-.78.8-2.07 0-2.86zM5.41 20L4 18.59l7.72-7.72 1.47 1.35L5.41 20z\"/>\n",
              "  </svg>\n",
              "      </button>\n",
              "      \n",
              "  <style>\n",
              "    .colab-df-container {\n",
              "      display:flex;\n",
              "      flex-wrap:wrap;\n",
              "      gap: 12px;\n",
              "    }\n",
              "\n",
              "    .colab-df-convert {\n",
              "      background-color: #E8F0FE;\n",
              "      border: none;\n",
              "      border-radius: 50%;\n",
              "      cursor: pointer;\n",
              "      display: none;\n",
              "      fill: #1967D2;\n",
              "      height: 32px;\n",
              "      padding: 0 0 0 0;\n",
              "      width: 32px;\n",
              "    }\n",
              "\n",
              "    .colab-df-convert:hover {\n",
              "      background-color: #E2EBFA;\n",
              "      box-shadow: 0px 1px 2px rgba(60, 64, 67, 0.3), 0px 1px 3px 1px rgba(60, 64, 67, 0.15);\n",
              "      fill: #174EA6;\n",
              "    }\n",
              "\n",
              "    [theme=dark] .colab-df-convert {\n",
              "      background-color: #3B4455;\n",
              "      fill: #D2E3FC;\n",
              "    }\n",
              "\n",
              "    [theme=dark] .colab-df-convert:hover {\n",
              "      background-color: #434B5C;\n",
              "      box-shadow: 0px 1px 3px 1px rgba(0, 0, 0, 0.15);\n",
              "      filter: drop-shadow(0px 1px 2px rgba(0, 0, 0, 0.3));\n",
              "      fill: #FFFFFF;\n",
              "    }\n",
              "  </style>\n",
              "\n",
              "      <script>\n",
              "        const buttonEl =\n",
              "          document.querySelector('#df-2a30cda4-4e28-46ea-997c-1f6d9eb89d78 button.colab-df-convert');\n",
              "        buttonEl.style.display =\n",
              "          google.colab.kernel.accessAllowed ? 'block' : 'none';\n",
              "\n",
              "        async function convertToInteractive(key) {\n",
              "          const element = document.querySelector('#df-2a30cda4-4e28-46ea-997c-1f6d9eb89d78');\n",
              "          const dataTable =\n",
              "            await google.colab.kernel.invokeFunction('convertToInteractive',\n",
              "                                                     [key], {});\n",
              "          if (!dataTable) return;\n",
              "\n",
              "          const docLinkHtml = 'Like what you see? Visit the ' +\n",
              "            '<a target=\"_blank\" href=https://colab.research.google.com/notebooks/data_table.ipynb>data table notebook</a>'\n",
              "            + ' to learn more about interactive tables.';\n",
              "          element.innerHTML = '';\n",
              "          dataTable['output_type'] = 'display_data';\n",
              "          await google.colab.output.renderOutput(dataTable, element);\n",
              "          const docLink = document.createElement('div');\n",
              "          docLink.innerHTML = docLinkHtml;\n",
              "          element.appendChild(docLink);\n",
              "        }\n",
              "      </script>\n",
              "    </div>\n",
              "  </div>\n",
              "  "
            ]
          },
          "metadata": {}
        },
        {
          "output_type": "stream",
          "name": "stdout",
          "text": [
            "y.shape: (2416, 14)\n"
          ]
        },
        {
          "output_type": "display_data",
          "data": {
            "text/plain": [
              "   Class1  Class2  Class3  Class4  Class5  Class6  Class7  Class8  Class9  \\\n",
              "0       0       0       0       0       0       0       1       1       0   \n",
              "1       0       1       1       0       0       0       0       0       0   \n",
              "2       0       0       1       1       0       0       0       0       0   \n",
              "3       1       1       0       0       0       0       0       0       0   \n",
              "4       0       0       1       1       0       0       0       0       0   \n",
              "\n",
              "   Class10  Class11  Class12  Class13  Class14  \n",
              "0        0        0        1        1        0  \n",
              "1        0        0        1        1        0  \n",
              "2        0        0        1        1        1  \n",
              "3        0        0        0        0        0  \n",
              "4        0        0        1        1        0  "
            ],
            "text/html": [
              "\n",
              "  <div id=\"df-8a8ee20f-9d3b-4c21-952c-6bea9dfa6578\">\n",
              "    <div class=\"colab-df-container\">\n",
              "      <div>\n",
              "<style scoped>\n",
              "    .dataframe tbody tr th:only-of-type {\n",
              "        vertical-align: middle;\n",
              "    }\n",
              "\n",
              "    .dataframe tbody tr th {\n",
              "        vertical-align: top;\n",
              "    }\n",
              "\n",
              "    .dataframe thead th {\n",
              "        text-align: right;\n",
              "    }\n",
              "</style>\n",
              "<table border=\"1\" class=\"dataframe\">\n",
              "  <thead>\n",
              "    <tr style=\"text-align: right;\">\n",
              "      <th></th>\n",
              "      <th>Class1</th>\n",
              "      <th>Class2</th>\n",
              "      <th>Class3</th>\n",
              "      <th>Class4</th>\n",
              "      <th>Class5</th>\n",
              "      <th>Class6</th>\n",
              "      <th>Class7</th>\n",
              "      <th>Class8</th>\n",
              "      <th>Class9</th>\n",
              "      <th>Class10</th>\n",
              "      <th>Class11</th>\n",
              "      <th>Class12</th>\n",
              "      <th>Class13</th>\n",
              "      <th>Class14</th>\n",
              "    </tr>\n",
              "  </thead>\n",
              "  <tbody>\n",
              "    <tr>\n",
              "      <th>0</th>\n",
              "      <td>0</td>\n",
              "      <td>0</td>\n",
              "      <td>0</td>\n",
              "      <td>0</td>\n",
              "      <td>0</td>\n",
              "      <td>0</td>\n",
              "      <td>1</td>\n",
              "      <td>1</td>\n",
              "      <td>0</td>\n",
              "      <td>0</td>\n",
              "      <td>0</td>\n",
              "      <td>1</td>\n",
              "      <td>1</td>\n",
              "      <td>0</td>\n",
              "    </tr>\n",
              "    <tr>\n",
              "      <th>1</th>\n",
              "      <td>0</td>\n",
              "      <td>1</td>\n",
              "      <td>1</td>\n",
              "      <td>0</td>\n",
              "      <td>0</td>\n",
              "      <td>0</td>\n",
              "      <td>0</td>\n",
              "      <td>0</td>\n",
              "      <td>0</td>\n",
              "      <td>0</td>\n",
              "      <td>0</td>\n",
              "      <td>1</td>\n",
              "      <td>1</td>\n",
              "      <td>0</td>\n",
              "    </tr>\n",
              "    <tr>\n",
              "      <th>2</th>\n",
              "      <td>0</td>\n",
              "      <td>0</td>\n",
              "      <td>1</td>\n",
              "      <td>1</td>\n",
              "      <td>0</td>\n",
              "      <td>0</td>\n",
              "      <td>0</td>\n",
              "      <td>0</td>\n",
              "      <td>0</td>\n",
              "      <td>0</td>\n",
              "      <td>0</td>\n",
              "      <td>1</td>\n",
              "      <td>1</td>\n",
              "      <td>1</td>\n",
              "    </tr>\n",
              "    <tr>\n",
              "      <th>3</th>\n",
              "      <td>1</td>\n",
              "      <td>1</td>\n",
              "      <td>0</td>\n",
              "      <td>0</td>\n",
              "      <td>0</td>\n",
              "      <td>0</td>\n",
              "      <td>0</td>\n",
              "      <td>0</td>\n",
              "      <td>0</td>\n",
              "      <td>0</td>\n",
              "      <td>0</td>\n",
              "      <td>0</td>\n",
              "      <td>0</td>\n",
              "      <td>0</td>\n",
              "    </tr>\n",
              "    <tr>\n",
              "      <th>4</th>\n",
              "      <td>0</td>\n",
              "      <td>0</td>\n",
              "      <td>1</td>\n",
              "      <td>1</td>\n",
              "      <td>0</td>\n",
              "      <td>0</td>\n",
              "      <td>0</td>\n",
              "      <td>0</td>\n",
              "      <td>0</td>\n",
              "      <td>0</td>\n",
              "      <td>0</td>\n",
              "      <td>1</td>\n",
              "      <td>1</td>\n",
              "      <td>0</td>\n",
              "    </tr>\n",
              "  </tbody>\n",
              "</table>\n",
              "</div>\n",
              "      <button class=\"colab-df-convert\" onclick=\"convertToInteractive('df-8a8ee20f-9d3b-4c21-952c-6bea9dfa6578')\"\n",
              "              title=\"Convert this dataframe to an interactive table.\"\n",
              "              style=\"display:none;\">\n",
              "        \n",
              "  <svg xmlns=\"http://www.w3.org/2000/svg\" height=\"24px\"viewBox=\"0 0 24 24\"\n",
              "       width=\"24px\">\n",
              "    <path d=\"M0 0h24v24H0V0z\" fill=\"none\"/>\n",
              "    <path d=\"M18.56 5.44l.94 2.06.94-2.06 2.06-.94-2.06-.94-.94-2.06-.94 2.06-2.06.94zm-11 1L8.5 8.5l.94-2.06 2.06-.94-2.06-.94L8.5 2.5l-.94 2.06-2.06.94zm10 10l.94 2.06.94-2.06 2.06-.94-2.06-.94-.94-2.06-.94 2.06-2.06.94z\"/><path d=\"M17.41 7.96l-1.37-1.37c-.4-.4-.92-.59-1.43-.59-.52 0-1.04.2-1.43.59L10.3 9.45l-7.72 7.72c-.78.78-.78 2.05 0 2.83L4 21.41c.39.39.9.59 1.41.59.51 0 1.02-.2 1.41-.59l7.78-7.78 2.81-2.81c.8-.78.8-2.07 0-2.86zM5.41 20L4 18.59l7.72-7.72 1.47 1.35L5.41 20z\"/>\n",
              "  </svg>\n",
              "      </button>\n",
              "      \n",
              "  <style>\n",
              "    .colab-df-container {\n",
              "      display:flex;\n",
              "      flex-wrap:wrap;\n",
              "      gap: 12px;\n",
              "    }\n",
              "\n",
              "    .colab-df-convert {\n",
              "      background-color: #E8F0FE;\n",
              "      border: none;\n",
              "      border-radius: 50%;\n",
              "      cursor: pointer;\n",
              "      display: none;\n",
              "      fill: #1967D2;\n",
              "      height: 32px;\n",
              "      padding: 0 0 0 0;\n",
              "      width: 32px;\n",
              "    }\n",
              "\n",
              "    .colab-df-convert:hover {\n",
              "      background-color: #E2EBFA;\n",
              "      box-shadow: 0px 1px 2px rgba(60, 64, 67, 0.3), 0px 1px 3px 1px rgba(60, 64, 67, 0.15);\n",
              "      fill: #174EA6;\n",
              "    }\n",
              "\n",
              "    [theme=dark] .colab-df-convert {\n",
              "      background-color: #3B4455;\n",
              "      fill: #D2E3FC;\n",
              "    }\n",
              "\n",
              "    [theme=dark] .colab-df-convert:hover {\n",
              "      background-color: #434B5C;\n",
              "      box-shadow: 0px 1px 3px 1px rgba(0, 0, 0, 0.15);\n",
              "      filter: drop-shadow(0px 1px 2px rgba(0, 0, 0, 0.3));\n",
              "      fill: #FFFFFF;\n",
              "    }\n",
              "  </style>\n",
              "\n",
              "      <script>\n",
              "        const buttonEl =\n",
              "          document.querySelector('#df-8a8ee20f-9d3b-4c21-952c-6bea9dfa6578 button.colab-df-convert');\n",
              "        buttonEl.style.display =\n",
              "          google.colab.kernel.accessAllowed ? 'block' : 'none';\n",
              "\n",
              "        async function convertToInteractive(key) {\n",
              "          const element = document.querySelector('#df-8a8ee20f-9d3b-4c21-952c-6bea9dfa6578');\n",
              "          const dataTable =\n",
              "            await google.colab.kernel.invokeFunction('convertToInteractive',\n",
              "                                                     [key], {});\n",
              "          if (!dataTable) return;\n",
              "\n",
              "          const docLinkHtml = 'Like what you see? Visit the ' +\n",
              "            '<a target=\"_blank\" href=https://colab.research.google.com/notebooks/data_table.ipynb>data table notebook</a>'\n",
              "            + ' to learn more about interactive tables.';\n",
              "          element.innerHTML = '';\n",
              "          dataTable['output_type'] = 'display_data';\n",
              "          await google.colab.output.renderOutput(dataTable, element);\n",
              "          const docLink = document.createElement('div');\n",
              "          docLink.innerHTML = docLinkHtml;\n",
              "          element.appendChild(docLink);\n",
              "        }\n",
              "      </script>\n",
              "    </div>\n",
              "  </div>\n",
              "  "
            ]
          },
          "metadata": {}
        },
        {
          "output_type": "stream",
          "name": "stdout",
          "text": [
            "Descriptive stats:\n"
          ]
        },
        {
          "output_type": "execute_result",
          "data": {
            "text/plain": [
              "              Att1         Att2         Att3         Att4         Att5  \\\n",
              "count  2416.000000  2416.000000  2416.000000  2416.000000  2416.000000   \n",
              "mean      0.001135    -0.000494    -0.000283     0.000262     0.001194   \n",
              "std       0.097413     0.097864     0.097758     0.096989     0.096915   \n",
              "min      -0.371146    -0.472632    -0.339195    -0.467945    -0.367044   \n",
              "25%      -0.053689    -0.058771    -0.057598    -0.057170    -0.058476   \n",
              "50%       0.003468    -0.003537     0.002850    -0.000172     0.005518   \n",
              "75%       0.057256     0.048045     0.060880     0.054533     0.065772   \n",
              "max       0.520272     0.614114     0.353241     0.568960     0.307649   \n",
              "\n",
              "              Att6         Att7         Att8         Att9        Att10  ...  \\\n",
              "count  2416.000000  2416.000000  2416.000000  2416.000000  2416.000000  ...   \n",
              "mean      0.000525     0.001077     0.000418     0.001065    -0.000027  ...   \n",
              "std       0.097296     0.097179     0.096823     0.096345     0.096821  ...   \n",
              "min      -0.509447    -0.319928    -0.594498    -0.369712    -0.767128  ...   \n",
              "25%      -0.060135    -0.058491    -0.062855    -0.063560    -0.065011  ...   \n",
              "50%       0.000386     0.006126     0.001423     0.003452     0.002378  ...   \n",
              "75%       0.059962     0.068844     0.061512     0.064962     0.063160  ...   \n",
              "max       0.336971     0.351401     0.454591     0.419852     0.420876  ...   \n",
              "\n",
              "             Att94        Att95        Att96        Att97        Att98  \\\n",
              "count  2416.000000  2416.000000  2416.000000  2416.000000  2416.000000   \n",
              "mean     -0.000790     0.000472    -0.000501     0.000683     0.000340   \n",
              "std       0.093332     0.096703     0.096226     0.096651     0.096297   \n",
              "min      -0.455191    -0.283594    -0.279408    -0.226420    -0.225374   \n",
              "25%      -0.054157    -0.056452    -0.056422    -0.059432    -0.058030   \n",
              "50%      -0.012933    -0.023597    -0.024312    -0.023023    -0.021937   \n",
              "75%       0.027762     0.034969     0.036229     0.041436     0.035745   \n",
              "max       0.609175     0.542867     0.547134     0.385928     0.540493   \n",
              "\n",
              "             Att99       Att100       Att101       Att102       Att103  \n",
              "count  2416.000000  2416.000000  2416.000000  2416.000000  2416.000000  \n",
              "mean     -0.001491    -0.001026    -0.001522     0.000235     0.007556  \n",
              "std       0.094388     0.096914     0.094227     0.093142     0.099359  \n",
              "min      -0.501572    -0.236589    -0.267052    -0.194079    -0.237752  \n",
              "25%      -0.053600    -0.063331    -0.059546    -0.054079    -0.077199  \n",
              "50%      -0.018219    -0.033615    -0.023481    -0.012015     0.022072  \n",
              "75%       0.019640     0.038968     0.025432     0.028014     0.103146  \n",
              "max       0.569250     0.509963     0.587358     0.700340     0.163431  \n",
              "\n",
              "[8 rows x 103 columns]"
            ],
            "text/html": [
              "\n",
              "  <div id=\"df-d31b8345-0533-4528-b14c-0acaa627b191\">\n",
              "    <div class=\"colab-df-container\">\n",
              "      <div>\n",
              "<style scoped>\n",
              "    .dataframe tbody tr th:only-of-type {\n",
              "        vertical-align: middle;\n",
              "    }\n",
              "\n",
              "    .dataframe tbody tr th {\n",
              "        vertical-align: top;\n",
              "    }\n",
              "\n",
              "    .dataframe thead th {\n",
              "        text-align: right;\n",
              "    }\n",
              "</style>\n",
              "<table border=\"1\" class=\"dataframe\">\n",
              "  <thead>\n",
              "    <tr style=\"text-align: right;\">\n",
              "      <th></th>\n",
              "      <th>Att1</th>\n",
              "      <th>Att2</th>\n",
              "      <th>Att3</th>\n",
              "      <th>Att4</th>\n",
              "      <th>Att5</th>\n",
              "      <th>Att6</th>\n",
              "      <th>Att7</th>\n",
              "      <th>Att8</th>\n",
              "      <th>Att9</th>\n",
              "      <th>Att10</th>\n",
              "      <th>...</th>\n",
              "      <th>Att94</th>\n",
              "      <th>Att95</th>\n",
              "      <th>Att96</th>\n",
              "      <th>Att97</th>\n",
              "      <th>Att98</th>\n",
              "      <th>Att99</th>\n",
              "      <th>Att100</th>\n",
              "      <th>Att101</th>\n",
              "      <th>Att102</th>\n",
              "      <th>Att103</th>\n",
              "    </tr>\n",
              "  </thead>\n",
              "  <tbody>\n",
              "    <tr>\n",
              "      <th>count</th>\n",
              "      <td>2416.000000</td>\n",
              "      <td>2416.000000</td>\n",
              "      <td>2416.000000</td>\n",
              "      <td>2416.000000</td>\n",
              "      <td>2416.000000</td>\n",
              "      <td>2416.000000</td>\n",
              "      <td>2416.000000</td>\n",
              "      <td>2416.000000</td>\n",
              "      <td>2416.000000</td>\n",
              "      <td>2416.000000</td>\n",
              "      <td>...</td>\n",
              "      <td>2416.000000</td>\n",
              "      <td>2416.000000</td>\n",
              "      <td>2416.000000</td>\n",
              "      <td>2416.000000</td>\n",
              "      <td>2416.000000</td>\n",
              "      <td>2416.000000</td>\n",
              "      <td>2416.000000</td>\n",
              "      <td>2416.000000</td>\n",
              "      <td>2416.000000</td>\n",
              "      <td>2416.000000</td>\n",
              "    </tr>\n",
              "    <tr>\n",
              "      <th>mean</th>\n",
              "      <td>0.001135</td>\n",
              "      <td>-0.000494</td>\n",
              "      <td>-0.000283</td>\n",
              "      <td>0.000262</td>\n",
              "      <td>0.001194</td>\n",
              "      <td>0.000525</td>\n",
              "      <td>0.001077</td>\n",
              "      <td>0.000418</td>\n",
              "      <td>0.001065</td>\n",
              "      <td>-0.000027</td>\n",
              "      <td>...</td>\n",
              "      <td>-0.000790</td>\n",
              "      <td>0.000472</td>\n",
              "      <td>-0.000501</td>\n",
              "      <td>0.000683</td>\n",
              "      <td>0.000340</td>\n",
              "      <td>-0.001491</td>\n",
              "      <td>-0.001026</td>\n",
              "      <td>-0.001522</td>\n",
              "      <td>0.000235</td>\n",
              "      <td>0.007556</td>\n",
              "    </tr>\n",
              "    <tr>\n",
              "      <th>std</th>\n",
              "      <td>0.097413</td>\n",
              "      <td>0.097864</td>\n",
              "      <td>0.097758</td>\n",
              "      <td>0.096989</td>\n",
              "      <td>0.096915</td>\n",
              "      <td>0.097296</td>\n",
              "      <td>0.097179</td>\n",
              "      <td>0.096823</td>\n",
              "      <td>0.096345</td>\n",
              "      <td>0.096821</td>\n",
              "      <td>...</td>\n",
              "      <td>0.093332</td>\n",
              "      <td>0.096703</td>\n",
              "      <td>0.096226</td>\n",
              "      <td>0.096651</td>\n",
              "      <td>0.096297</td>\n",
              "      <td>0.094388</td>\n",
              "      <td>0.096914</td>\n",
              "      <td>0.094227</td>\n",
              "      <td>0.093142</td>\n",
              "      <td>0.099359</td>\n",
              "    </tr>\n",
              "    <tr>\n",
              "      <th>min</th>\n",
              "      <td>-0.371146</td>\n",
              "      <td>-0.472632</td>\n",
              "      <td>-0.339195</td>\n",
              "      <td>-0.467945</td>\n",
              "      <td>-0.367044</td>\n",
              "      <td>-0.509447</td>\n",
              "      <td>-0.319928</td>\n",
              "      <td>-0.594498</td>\n",
              "      <td>-0.369712</td>\n",
              "      <td>-0.767128</td>\n",
              "      <td>...</td>\n",
              "      <td>-0.455191</td>\n",
              "      <td>-0.283594</td>\n",
              "      <td>-0.279408</td>\n",
              "      <td>-0.226420</td>\n",
              "      <td>-0.225374</td>\n",
              "      <td>-0.501572</td>\n",
              "      <td>-0.236589</td>\n",
              "      <td>-0.267052</td>\n",
              "      <td>-0.194079</td>\n",
              "      <td>-0.237752</td>\n",
              "    </tr>\n",
              "    <tr>\n",
              "      <th>25%</th>\n",
              "      <td>-0.053689</td>\n",
              "      <td>-0.058771</td>\n",
              "      <td>-0.057598</td>\n",
              "      <td>-0.057170</td>\n",
              "      <td>-0.058476</td>\n",
              "      <td>-0.060135</td>\n",
              "      <td>-0.058491</td>\n",
              "      <td>-0.062855</td>\n",
              "      <td>-0.063560</td>\n",
              "      <td>-0.065011</td>\n",
              "      <td>...</td>\n",
              "      <td>-0.054157</td>\n",
              "      <td>-0.056452</td>\n",
              "      <td>-0.056422</td>\n",
              "      <td>-0.059432</td>\n",
              "      <td>-0.058030</td>\n",
              "      <td>-0.053600</td>\n",
              "      <td>-0.063331</td>\n",
              "      <td>-0.059546</td>\n",
              "      <td>-0.054079</td>\n",
              "      <td>-0.077199</td>\n",
              "    </tr>\n",
              "    <tr>\n",
              "      <th>50%</th>\n",
              "      <td>0.003468</td>\n",
              "      <td>-0.003537</td>\n",
              "      <td>0.002850</td>\n",
              "      <td>-0.000172</td>\n",
              "      <td>0.005518</td>\n",
              "      <td>0.000386</td>\n",
              "      <td>0.006126</td>\n",
              "      <td>0.001423</td>\n",
              "      <td>0.003452</td>\n",
              "      <td>0.002378</td>\n",
              "      <td>...</td>\n",
              "      <td>-0.012933</td>\n",
              "      <td>-0.023597</td>\n",
              "      <td>-0.024312</td>\n",
              "      <td>-0.023023</td>\n",
              "      <td>-0.021937</td>\n",
              "      <td>-0.018219</td>\n",
              "      <td>-0.033615</td>\n",
              "      <td>-0.023481</td>\n",
              "      <td>-0.012015</td>\n",
              "      <td>0.022072</td>\n",
              "    </tr>\n",
              "    <tr>\n",
              "      <th>75%</th>\n",
              "      <td>0.057256</td>\n",
              "      <td>0.048045</td>\n",
              "      <td>0.060880</td>\n",
              "      <td>0.054533</td>\n",
              "      <td>0.065772</td>\n",
              "      <td>0.059962</td>\n",
              "      <td>0.068844</td>\n",
              "      <td>0.061512</td>\n",
              "      <td>0.064962</td>\n",
              "      <td>0.063160</td>\n",
              "      <td>...</td>\n",
              "      <td>0.027762</td>\n",
              "      <td>0.034969</td>\n",
              "      <td>0.036229</td>\n",
              "      <td>0.041436</td>\n",
              "      <td>0.035745</td>\n",
              "      <td>0.019640</td>\n",
              "      <td>0.038968</td>\n",
              "      <td>0.025432</td>\n",
              "      <td>0.028014</td>\n",
              "      <td>0.103146</td>\n",
              "    </tr>\n",
              "    <tr>\n",
              "      <th>max</th>\n",
              "      <td>0.520272</td>\n",
              "      <td>0.614114</td>\n",
              "      <td>0.353241</td>\n",
              "      <td>0.568960</td>\n",
              "      <td>0.307649</td>\n",
              "      <td>0.336971</td>\n",
              "      <td>0.351401</td>\n",
              "      <td>0.454591</td>\n",
              "      <td>0.419852</td>\n",
              "      <td>0.420876</td>\n",
              "      <td>...</td>\n",
              "      <td>0.609175</td>\n",
              "      <td>0.542867</td>\n",
              "      <td>0.547134</td>\n",
              "      <td>0.385928</td>\n",
              "      <td>0.540493</td>\n",
              "      <td>0.569250</td>\n",
              "      <td>0.509963</td>\n",
              "      <td>0.587358</td>\n",
              "      <td>0.700340</td>\n",
              "      <td>0.163431</td>\n",
              "    </tr>\n",
              "  </tbody>\n",
              "</table>\n",
              "<p>8 rows × 103 columns</p>\n",
              "</div>\n",
              "      <button class=\"colab-df-convert\" onclick=\"convertToInteractive('df-d31b8345-0533-4528-b14c-0acaa627b191')\"\n",
              "              title=\"Convert this dataframe to an interactive table.\"\n",
              "              style=\"display:none;\">\n",
              "        \n",
              "  <svg xmlns=\"http://www.w3.org/2000/svg\" height=\"24px\"viewBox=\"0 0 24 24\"\n",
              "       width=\"24px\">\n",
              "    <path d=\"M0 0h24v24H0V0z\" fill=\"none\"/>\n",
              "    <path d=\"M18.56 5.44l.94 2.06.94-2.06 2.06-.94-2.06-.94-.94-2.06-.94 2.06-2.06.94zm-11 1L8.5 8.5l.94-2.06 2.06-.94-2.06-.94L8.5 2.5l-.94 2.06-2.06.94zm10 10l.94 2.06.94-2.06 2.06-.94-2.06-.94-.94-2.06-.94 2.06-2.06.94z\"/><path d=\"M17.41 7.96l-1.37-1.37c-.4-.4-.92-.59-1.43-.59-.52 0-1.04.2-1.43.59L10.3 9.45l-7.72 7.72c-.78.78-.78 2.05 0 2.83L4 21.41c.39.39.9.59 1.41.59.51 0 1.02-.2 1.41-.59l7.78-7.78 2.81-2.81c.8-.78.8-2.07 0-2.86zM5.41 20L4 18.59l7.72-7.72 1.47 1.35L5.41 20z\"/>\n",
              "  </svg>\n",
              "      </button>\n",
              "      \n",
              "  <style>\n",
              "    .colab-df-container {\n",
              "      display:flex;\n",
              "      flex-wrap:wrap;\n",
              "      gap: 12px;\n",
              "    }\n",
              "\n",
              "    .colab-df-convert {\n",
              "      background-color: #E8F0FE;\n",
              "      border: none;\n",
              "      border-radius: 50%;\n",
              "      cursor: pointer;\n",
              "      display: none;\n",
              "      fill: #1967D2;\n",
              "      height: 32px;\n",
              "      padding: 0 0 0 0;\n",
              "      width: 32px;\n",
              "    }\n",
              "\n",
              "    .colab-df-convert:hover {\n",
              "      background-color: #E2EBFA;\n",
              "      box-shadow: 0px 1px 2px rgba(60, 64, 67, 0.3), 0px 1px 3px 1px rgba(60, 64, 67, 0.15);\n",
              "      fill: #174EA6;\n",
              "    }\n",
              "\n",
              "    [theme=dark] .colab-df-convert {\n",
              "      background-color: #3B4455;\n",
              "      fill: #D2E3FC;\n",
              "    }\n",
              "\n",
              "    [theme=dark] .colab-df-convert:hover {\n",
              "      background-color: #434B5C;\n",
              "      box-shadow: 0px 1px 3px 1px rgba(0, 0, 0, 0.15);\n",
              "      filter: drop-shadow(0px 1px 2px rgba(0, 0, 0, 0.3));\n",
              "      fill: #FFFFFF;\n",
              "    }\n",
              "  </style>\n",
              "\n",
              "      <script>\n",
              "        const buttonEl =\n",
              "          document.querySelector('#df-d31b8345-0533-4528-b14c-0acaa627b191 button.colab-df-convert');\n",
              "        buttonEl.style.display =\n",
              "          google.colab.kernel.accessAllowed ? 'block' : 'none';\n",
              "\n",
              "        async function convertToInteractive(key) {\n",
              "          const element = document.querySelector('#df-d31b8345-0533-4528-b14c-0acaa627b191');\n",
              "          const dataTable =\n",
              "            await google.colab.kernel.invokeFunction('convertToInteractive',\n",
              "                                                     [key], {});\n",
              "          if (!dataTable) return;\n",
              "\n",
              "          const docLinkHtml = 'Like what you see? Visit the ' +\n",
              "            '<a target=\"_blank\" href=https://colab.research.google.com/notebooks/data_table.ipynb>data table notebook</a>'\n",
              "            + ' to learn more about interactive tables.';\n",
              "          element.innerHTML = '';\n",
              "          dataTable['output_type'] = 'display_data';\n",
              "          await google.colab.output.renderOutput(dataTable, element);\n",
              "          const docLink = document.createElement('div');\n",
              "          docLink.innerHTML = docLinkHtml;\n",
              "          element.appendChild(docLink);\n",
              "        }\n",
              "      </script>\n",
              "    </div>\n",
              "  </div>\n",
              "  "
            ]
          },
          "metadata": {},
          "execution_count": 39
        }
      ]
    },
    {
      "cell_type": "code",
      "source": [
        "# Normalise the data\n",
        "X = (X-X.min())/(X.max()-X.min())\n",
        "\n",
        "# split into train and test\n",
        "X_train, X_test, y_train, y_test = train_test_split(X, y, random_state=0, train_size=0.7)\n",
        "\n",
        "print(\"X_train.shape: \" + str(X_train.shape))\n",
        "print(\"X_test.shape: \" + str(X_test.shape))\n",
        "print(\"y_train.shape: \" + str(y_train.shape))\n",
        "print(\"y_test.shape: \" + str(y_test.shape))"
      ],
      "metadata": {
        "colab": {
          "base_uri": "https://localhost:8080/"
        },
        "id": "T_1inDTdnYsR",
        "outputId": "31a78272-943d-4d6d-c684-a32a36cb2654"
      },
      "execution_count": null,
      "outputs": [
        {
          "output_type": "stream",
          "name": "stdout",
          "text": [
            "X_train.shape: (1691, 103)\n",
            "X_test.shape: (725, 103)\n",
            "y_train.shape: (1691, 14)\n",
            "y_test.shape: (725, 14)\n"
          ]
        }
      ]
    },
    {
      "cell_type": "code",
      "execution_count": null,
      "metadata": {
        "id": "AkMlJyXWMBtq"
      },
      "outputs": [],
      "source": [
        "class ClassifierChains(BaseEstimator, ClassifierMixin):\n",
        "    def __init__(self, base_classifier=LogisticRegression(max_iter=20000), order=None):\n",
        "        self.base_classifier=base_classifier\n",
        "        self.order = order\n",
        "\n",
        "    def fit(self, X, y):\n",
        "        \"\"\"\n",
        "        Build a Classifier Chain from the training set (X, y).\n",
        "        Parameters\n",
        "        ----------\n",
        "        X : array-like or sparse matrix, shape = [n_samples, n_features]\n",
        "            The training input samples. Internally, it will be converted to\n",
        "            ``dtype=np.float32`` and if a sparse matrix is provided\n",
        "            to a sparse ``csc_matrix``.\n",
        "        y : array-like, shape = [n_samples, n_labels] \n",
        "            The target values (class labels) as integers or strings.\n",
        "\n",
        "        \"\"\"\n",
        "        \n",
        "        # check the order parameter\n",
        "        if self.order is None:\n",
        "            # default value - natural order for number of labels\n",
        "            self.order = list(range(y.shape[1]))\n",
        "        elif self.order == 'random':\n",
        "            # random order\n",
        "            self.order = list(range(y.shape[1]))\n",
        "            random.shuffle(self.order)\n",
        "        else:\n",
        "            # order specified\n",
        "            if(len(self.order)==y.shape[1]):\n",
        "                # expect order from 1, hence reduce 1 to consider zero indexing\n",
        "                self.order = [o - 1 for o in self.order]\n",
        "    \n",
        "        \n",
        "        # list of base models for each class\n",
        "        self.models = [clone(self.base_classifier) for clf in range(y.shape[1])]\n",
        "\n",
        "        # create a copy of X\n",
        "        X_joined = X.copy()\n",
        "       # X_joined.reset_index(drop=True, inplace=True)\n",
        "        \n",
        "        # create a new dataframe with X and y-in the order specified\n",
        "        # if order = [2,4,5,6...] -> X_joined= X, y2, y4, y5...\n",
        "        for val in self.order:\n",
        "            X_joined = pd.concat([X_joined, y['Class'+str(val+1)]], axis=1)\n",
        "\n",
        "        \n",
        "        # for each ith model, fit the model on X + y0 to yi-1 (in the order specified)\n",
        "        # if order = [2,4,6,....] fit 1st model on X for y2, fit second model on X+y2 for y4...\n",
        "        for chain_index, model in enumerate(self.models):\n",
        "            # select values of the class in order\n",
        "            y_vals = y.loc[:, 'Class'+str(self.order[chain_index]+1)]\n",
        "            # pick values for training - X+y upto the current label\n",
        "            t_X = X_joined.iloc[:, :(X.shape[1]+chain_index)]\n",
        "            check_X_y(t_X, y_vals)\n",
        "            # fit the model\n",
        "            model.fit(t_X, y_vals)\n",
        "\n",
        "\n",
        "            \n",
        "    # The predict function to make a set of predictions for a set of query instances\n",
        "    def predict(self, X):\n",
        "        \n",
        "        # check if the models list has been set up\n",
        "        check_is_fitted(self, ['models'])\n",
        "        \n",
        "        # dataframe to maintain previous predictions\n",
        "        pred_chain = pd.DataFrame(columns=['Class'+str(o+1) for o in self.order])\n",
        "        \n",
        "        X_copy = X.copy()\n",
        "        X_joined = X.copy()\n",
        "        \n",
        "        # use default indexing\n",
        "        X_joined.reset_index(drop=True, inplace=True)\n",
        "        X_copy.reset_index(drop=True, inplace=True)\n",
        "\n",
        "        i=0\n",
        "        \n",
        "        # for each ith model, predict based on X + predictions of all models upto i-1\n",
        "        # happens in the specified order since models are already fitted according to the order\n",
        "        for chain_index, model in enumerate(self.models):\n",
        "            # select previous predictions - all columns upto the current index\n",
        "            prev_preds = pred_chain.iloc[:, :chain_index]\n",
        "            # join the previous predictions with X\n",
        "            X_joined = pd.concat([X_copy, prev_preds], axis=1)\n",
        "            # predict on the base model\n",
        "            pred = model.predict(X_joined)\n",
        "            # add the new prediction to the pred chain\n",
        "            pred_chain['Class'+str(self.order[i]+1)] = pred\n",
        "            i+=1\n",
        "\n",
        "        # re-arrange the columns in natural order to return the predictions\n",
        "        pred_chain = pred_chain.loc[:, ['Class'+str(j+1) for j in range(0, len(self.order))]]\n",
        "        # all sklearn implementations return numpy array\n",
        "        # hence convert the dataframe to numpy array\n",
        "        return pred_chain.to_numpy()\n",
        "    \n",
        "    \n",
        "    \n",
        "    # Function to predict probabilities of 1s\n",
        "    def predict_proba(self, X):\n",
        "        # check if the models list has been set up\n",
        "        check_is_fitted(self, ['models'])\n",
        "        \n",
        "        # dataframe to maintain previous predictions\n",
        "        pred_chain = pd.DataFrame(columns=['Class'+str(o+1) for o in self.order])\n",
        "        # dataframe to maintain probabilities of class labels\n",
        "        pred_probs = pd.DataFrame(columns=['Class'+str(o+1) for o in self.order])\n",
        "        X_copy = X.copy()\n",
        "        X_joined = X.copy()\n",
        "        \n",
        "        # use default indexing\n",
        "        X_joined.reset_index(drop=True, inplace=True)\n",
        "        X_copy.reset_index(drop=True, inplace=True)\n",
        "\n",
        "        i=0\n",
        "        \n",
        "        # for each ith model, predict based on X + predictions of all models upto i-1\n",
        "        # happens in the specified order since models are already fitted according to the order\n",
        "        for chain_index, model in enumerate(self.models):\n",
        "            \n",
        "            # select previous predictions - all columns upto the current index\n",
        "            prev_preds = pred_chain.iloc[:, :chain_index]\n",
        "            # join the previous predictions with X\n",
        "            X_joined = pd.concat([X_copy, prev_preds], axis=1)\n",
        "            # predict on the base model\n",
        "            pred = model.predict(X_joined)\n",
        "            # predict probabilities\n",
        "            pred_proba = model.predict_proba(X_joined)\n",
        "            # add the new prediction to the pred chain\n",
        "            pred_chain['Class'+str(self.order[i]+1)] = pred\n",
        "            # save the probabilities of 1 according to label order\n",
        "            pred_probs['Class'+str(self.order[i]+1)] = [one_prob[1] for one_prob in pred_proba]\n",
        "            i+=1\n",
        "\n",
        "        # re-arrange the columns in natural order to return the probabilities\n",
        "        pred_probs = pred_probs.loc[:, ['Class'+str(j+1) for j in range(0, len(self.order))]]\n",
        "        # all sklearn implementations return numpy array\n",
        "        # hence convert the dataframe to numpy array\n",
        "        return pred_probs.to_numpy()"
      ]
    },
    {
      "cell_type": "markdown",
      "metadata": {
        "id": "DK2gU4i3MBts"
      },
      "source": [
        "### Predictions against the Test data"
      ]
    },
    {
      "cell_type": "code",
      "execution_count": null,
      "metadata": {
        "id": "RJo6hKmFMBts"
      },
      "outputs": [],
      "source": [
        "#cc = ClassifierChains(order=[1,2,3,4,5,6,7,8,9,10,11,12,13,14])\n",
        "cc = ClassifierChains()\n",
        "# fit\n",
        "cc.fit(X_train, y_train)"
      ]
    },
    {
      "cell_type": "code",
      "execution_count": null,
      "metadata": {
        "id": "Z099twlxMBtt"
      },
      "outputs": [],
      "source": [
        "# predict\n",
        "cc_pred = cc.predict(X_test)"
      ]
    },
    {
      "cell_type": "markdown",
      "metadata": {
        "id": "iH_g7ud-MBtt"
      },
      "source": [
        "### Calculate the Accuracy"
      ]
    },
    {
      "cell_type": "code",
      "execution_count": null,
      "metadata": {
        "id": "i4N1HxjbMBtt",
        "colab": {
          "base_uri": "https://localhost:8080/"
        },
        "outputId": "79c0777f-2e2b-4bcc-f5ab-b9188a7b3bbd"
      },
      "outputs": [
        {
          "output_type": "stream",
          "name": "stdout",
          "text": [
            "Accuracy of Classifier Chains: 0.773\n"
          ]
        }
      ],
      "source": [
        "print(\"Accuracy of Classifier Chains: \" + str(accuracy_score(y_test, cc_pred)))"
      ]
    },
    {
      "cell_type": "markdown",
      "metadata": {
        "id": "9QstZ5vPMBtt"
      },
      "source": [
        "### Experiment with different Base Classifiers - GridSearch"
      ]
    },
    {
      "cell_type": "code",
      "execution_count": null,
      "metadata": {
        "colab": {
          "base_uri": "https://localhost:8080/",
          "height": 86
        },
        "id": "vKFGyLMuMBtt",
        "outputId": "9095ffc3-8f27-435f-fb52-82c1bd8d994e"
      },
      "outputs": [
        {
          "output_type": "stream",
          "name": "stdout",
          "text": [
            "Fitting 5 folds for each of 6 candidates, totalling 30 fits\n",
            "Best Parameters Found: \n"
          ]
        },
        {
          "output_type": "display_data",
          "data": {
            "text/plain": [
              "{'base_classifier': RandomForestClassifier(criterion='entropy')}"
            ]
          },
          "metadata": {}
        },
        {
          "output_type": "display_data",
          "data": {
            "text/plain": [
              "0.814264"
            ]
          },
          "metadata": {}
        }
      ],
      "source": [
        "cv_folds=5\n",
        "\n",
        "# generate 20 random orders for class labels \n",
        "#rand_orders = [list(range(1, y_test.shape[1]+1)) for i in list(range(1, 20))]\n",
        "\n",
        "#for lst in rand_orders:\n",
        " #   random.shuffle(lst)\n",
        "\n",
        "# make sure natural order is present\n",
        "#rand_orders.append([1,2,3,4,5,6,7,8,9,10,11,12,13,14])\n",
        "\n",
        "# Set up the parameter grid to search\n",
        "param_grid ={'base_classifier': [DecisionTreeClassifier(criterion='entropy', max_depth=15, min_samples_leaf=2),\n",
        "                                 RandomForestClassifier(criterion='entropy'),\n",
        "                                 LogisticRegression(max_iter=20000), GaussianNB(), KNeighborsClassifier(n_neighbors=4), SVC()],\n",
        "            }#'order': rand_orders}\n",
        "\n",
        "# Perform the search\n",
        "tuned_model = GridSearchCV(ClassifierChains(), \\\n",
        "                            param_grid, scoring=make_scorer(accuracy_score), verbose = 2, n_jobs = -1, cv=cv_folds)\n",
        "tuned_model.fit(X_train, y_train)\n",
        "\n",
        "# Print details\n",
        "print(\"Best Parameters Found: \")\n",
        "display(tuned_model.best_params_)\n",
        "display(tuned_model.best_score_)"
      ]
    },
    {
      "cell_type": "code",
      "execution_count": null,
      "metadata": {
        "id": "yWNAbZw-MBtu"
      },
      "outputs": [],
      "source": [
        "# store the best parameters\n",
        "best = tuned_model.best_params_"
      ]
    },
    {
      "cell_type": "markdown",
      "metadata": {
        "id": "tGxuUXkOMBtv"
      },
      "source": [
        "### Evaluate the best model against the Test Data"
      ]
    },
    {
      "cell_type": "code",
      "execution_count": null,
      "metadata": {
        "id": "KSWT1cWpMBtv"
      },
      "outputs": [],
      "source": [
        "#cc = ClassifierChains(base_classifier=best['base_classifier'], order=best['order'])\n",
        "cc = ClassifierChains(base_classifier=best['base_classifier'])\n",
        "cc.fit(X_train, y_train)"
      ]
    },
    {
      "cell_type": "code",
      "execution_count": null,
      "metadata": {
        "id": "a2BAuznlMBtw"
      },
      "outputs": [],
      "source": [
        "cc_pred = cc.predict(X_test)"
      ]
    },
    {
      "cell_type": "code",
      "execution_count": null,
      "metadata": {
        "id": "Y58QqpNaMBtw",
        "colab": {
          "base_uri": "https://localhost:8080/"
        },
        "outputId": "33f5f26e-7642-4e1f-9b76-9d4df7fd8686"
      },
      "outputs": [
        {
          "output_type": "stream",
          "name": "stdout",
          "text": [
            "Accuracy of Classifier Chains - Best Model: 0.78926\n"
          ]
        }
      ],
      "source": [
        "print(\"Accuracy of Classifier Chains - Best Model: \" + str(accuracy_score(y_test, cc_pred)))"
      ]
    },
    {
      "cell_type": "markdown",
      "metadata": {
        "id": "cs7AiGd3MBtw"
      },
      "source": [
        "## Task 5: Evaluate the Performance of the Classifier Chains Algorithm"
      ]
    },
    {
      "cell_type": "markdown",
      "metadata": {
        "id": "ESKQAf7SMBtx"
      },
      "source": [
        "### Accuracy and F1 Scores of Classifier Chains"
      ]
    },
    {
      "cell_type": "code",
      "execution_count": null,
      "metadata": {
        "id": "FZldetKAMBtx",
        "colab": {
          "base_uri": "https://localhost:8080/",
          "height": 382
        },
        "outputId": "853e7961-e941-4eb6-b4ee-ef5eb1dd7342"
      },
      "outputs": [
        {
          "output_type": "stream",
          "name": "stdout",
          "text": [
            "====================Classifier Chains Accuracy====================\n"
          ]
        },
        {
          "output_type": "display_data",
          "data": {
            "text/plain": [
              "{'Decision Tree': 0.72355,\n",
              " 'Random Forest': 0.7931,\n",
              " 'Logistic Regression': 0.773,\n",
              " 'GaussianNB': 0.66069,\n",
              " 'kNN': 0.77567,\n",
              " 'SVM': 0.78453}"
            ]
          },
          "metadata": {}
        },
        {
          "output_type": "stream",
          "name": "stdout",
          "text": [
            "===================Classifier Chains F1 Scores====================\n"
          ]
        },
        {
          "output_type": "display_data",
          "data": {
            "text/plain": [
              "{'Decision Tree': 0.3874364422201807,\n",
              " 'Random Forest': 0.36661888724519287,\n",
              " 'Logistic Regression': 0.37746896974583016,\n",
              " 'GaussianNB': 0.41998209248639107,\n",
              " 'kNN': 0.4322904271162943,\n",
              " 'SVM': 0.3603761599984326}"
            ]
          },
          "metadata": {}
        },
        {
          "output_type": "stream",
          "name": "stdout",
          "text": [
            "===================Classifier Chains Hamming Loss====================\n"
          ]
        },
        {
          "output_type": "display_data",
          "data": {
            "text/plain": [
              "{'Decision Tree': 0.2764532019704434,\n",
              " 'Random Forest': 0.20689655172413793,\n",
              " 'Logistic Regression': 0.22699507389162563,\n",
              " 'GaussianNB': 0.3393103448275862,\n",
              " 'kNN': 0.22433497536945812,\n",
              " 'SVM': 0.2154679802955665}"
            ]
          },
          "metadata": {}
        }
      ],
      "source": [
        "# list of base models\n",
        "base_models = [DecisionTreeClassifier(criterion='entropy', max_depth=15, min_samples_leaf=2),\n",
        "               RandomForestClassifier(criterion='entropy'),\n",
        "               LogisticRegression(max_iter=20000), GaussianNB(), KNeighborsClassifier(), SVC()]\n",
        "base_model_names = [\"Decision Tree\", \"Random Forest\", \"Logistic Regression\", \"GaussianNB\", \"kNN\", \"SVM\"]\n",
        "\n",
        "cc_accuracies = dict()\n",
        "cc_f1 = dict()\n",
        "cc_ham = dict()\n",
        "\n",
        "i=0\n",
        "for clf in base_models:\n",
        "    #cc = ClassifierChains(clf, order=best['order'])\n",
        "    cc = ClassifierChains(clf)\n",
        "    cc.fit(X_train, y_train)\n",
        "    cc_pred = cc.predict(X_test)\n",
        "    # accuracy score\n",
        "    accuracy = accuracy_score(y_test, cc_pred)\n",
        "    cc_accuracies[base_model_names[i]] = accuracy\n",
        "    # F1 score\n",
        "    cc_f1_score = metrics.f1_score(y_test, pd.DataFrame(cc_pred), average='macro')\n",
        "    cc_f1[base_model_names[i]] = cc_f1_score\n",
        "    # Hamming Score\n",
        "    hamming = hamming_loss(y_test, cc_pred)\n",
        "    cc_ham[base_model_names[i]] = hamming\n",
        "    i+=1\n",
        "\n",
        "print(\"====================Classifier Chains Accuracy====================\")\n",
        "display(cc_accuracies)\n",
        "print(\"===================Classifier Chains F1 Scores====================\")\n",
        "display(cc_f1)\n",
        "print(\"===================Classifier Chains Hamming Loss====================\")\n",
        "display(cc_ham)"
      ]
    },
    {
      "cell_type": "markdown",
      "metadata": {
        "id": "jjgRnKxuMBty"
      },
      "source": [
        "### Comparison with Binary Relevance Approaches"
      ]
    },
    {
      "cell_type": "markdown",
      "metadata": {
        "id": "8O90XselMBty"
      },
      "source": [
        "#### Accuracy Scores"
      ]
    },
    {
      "cell_type": "code",
      "execution_count": null,
      "metadata": {
        "id": "tkP-lb7zMBty",
        "colab": {
          "base_uri": "https://localhost:8080/",
          "height": 369
        },
        "outputId": "62d08e4e-a685-489b-cf3d-62ecf13b3ea2"
      },
      "outputs": [
        {
          "output_type": "execute_result",
          "data": {
            "text/plain": [
              "<matplotlib.legend.Legend at 0x7f3309ff4af0>"
            ]
          },
          "metadata": {},
          "execution_count": 36
        },
        {
          "output_type": "display_data",
          "data": {
            "text/plain": [
              "<Figure size 432x288 with 1 Axes>"
            ],
            "image/png": "[encoded data removed]"
          },
          "metadata": {
            "needs_background": "light"
          }
        }
      ],
      "source": [
        "plt.plot(list(br_clf_accuracies.keys()), list(br_clf_accuracies.values()))\n",
        "plt.plot(list(br_clfus_accuracies.keys()), list(br_clfus_accuracies.values()))\n",
        "plt.plot(list(cc_accuracies.keys()), list(cc_accuracies.values()))\n",
        "plt.xticks(rotation=90)\n",
        "plt.legend(['Binary Relevance','BR-Under-Sampling', 'Classifier Chains'])"
      ]
    },
    {
      "cell_type": "markdown",
      "metadata": {
        "id": "zJn3TbPSMBtz"
      },
      "source": [
        "#### F1 Scores"
      ]
    },
    {
      "cell_type": "code",
      "execution_count": null,
      "metadata": {
        "id": "g4AnyFU8MBtz",
        "colab": {
          "base_uri": "https://localhost:8080/",
          "height": 368
        },
        "outputId": "8d42545b-9718-4a2f-9917-5c7d5102d7a0"
      },
      "outputs": [
        {
          "output_type": "execute_result",
          "data": {
            "text/plain": [
              "<matplotlib.legend.Legend at 0x7f33058af7f0>"
            ]
          },
          "metadata": {},
          "execution_count": 37
        },
        {
          "output_type": "display_data",
          "data": {
            "text/plain": [
              "<Figure size 432x288 with 1 Axes>"
            ],
            "image/png": "[encoded data removed]"
          },
          "metadata": {
            "needs_background": "light"
          }
        }
      ],
      "source": [
        "plt.plot(list(br_clf_f1.keys()), list(br_clf_f1.values()))\n",
        "plt.plot(list(br_clfus_f1.keys()), list(br_clfus_f1.values()))\n",
        "plt.plot(list(cc_f1.keys()), list(cc_f1.values()))\n",
        "plt.xticks(rotation=90)\n",
        "plt.legend(['Binary Relevance','BR-Under-Sampling', 'Classifier Chains'])"
      ]
    },
    {
      "cell_type": "code",
      "source": [
        "plt.plot(list(br_clf_ham.keys()), list(br_clf_ham.values()))\n",
        "plt.plot(list(br_clfus_ham.keys()), list(br_clfus_ham.values()))\n",
        "plt.plot(list(cc_ham.keys()), list(cc_ham.values()))\n",
        "plt.xticks(rotation=90)\n",
        "plt.legend(['Binary Relevance','BR-Under-Sampling', 'Classifier Chains'])"
      ],
      "metadata": {
        "colab": {
          "base_uri": "https://localhost:8080/",
          "height": 368
        },
        "id": "X5xpJVmsuGe6",
        "outputId": "787e9ce5-77df-4fa1-b642-395400c1ea4a"
      },
      "execution_count": null,
      "outputs": [
        {
          "output_type": "execute_result",
          "data": {
            "text/plain": [
              "<matplotlib.legend.Legend at 0x7f4a3931db50>"
            ]
          },
          "metadata": {},
          "execution_count": 52
        },
        {
          "output_type": "display_data",
          "data": {
            "text/plain": [
              "<Figure size 432x288 with 1 Axes>"
            ],
            "image/png": "[encoded data removed]"
          },
          "metadata": {
            "needs_background": "light"
          }
        }
      ]
    },
    {
      "cell_type": "markdown",
      "metadata": {
        "id": "DBkWTmtOMBtz"
      },
      "source": [
        "## Task 6: Reflect on the Performance of the Different Models Evaluated"
      ]
    },
    {
      "cell_type": "markdown",
      "metadata": {
        "id": "-v0V7c0vMBt0"
      },
      "source": [
        "Consider **BR=Binary Relevance Classifier, BRUS=Binary Relevance Classifier with Under Sampling, CC=Classifier Chains.**\n",
        "\n",
        "**From the above experiment we can conclude that:**\n",
        "\n",
        "* BR works much better than BRUS. This is because with undersampling, relevant training samples may be lost which affect the accuracy.\n",
        "* BRUS gives better F1 scores for all the base models as compared to BR. Lower F1 score is an indication that the data is highly biased which means high precision and low recall. So when the data gets more balanced after undersampling, we achieve better F1 scores.\n",
        "* CC works better than BR and BRUS because it takes label dependency into consideration while making predictions. BR on the other hand fits and predicts independently of other labels. To my surprise, in this experiment we can obseve that CC outperforms BR only in case of RandomForest as the base model. \n",
        "* The performance of CC depends on the label order as while making current predictions, we consider the results and labels of previous predictions. To experiment with label ordering, random 20 label orders were used in grid search. To my observation, the results accross different runs are inconsistent pertaining to label orders.(refer the above plots)\n",
        "* In terms of complexity, BR is simple and faster as compared to CC. In terms of performance, CC has better performance than BR due to reasons mentioned above.\n",
        "* While dealing with Yeast Dataset, CC works slightly better than BR which is a surprise. So, while dealing with Yeast Dataset, we can use BR as an adequate model if complexity and speed is a concern."
      ]
    },
    {
      "cell_type": "code",
      "execution_count": null,
      "metadata": {
        "id": "_f_vh30YMBt0"
      },
      "outputs": [],
      "source": []
    },
    {
      "cell_type": "code",
      "execution_count": null,
      "metadata": {
        "id": "Nazjf_ztMBt0"
      },
      "outputs": [],
      "source": []
    },
    {
      "cell_type": "markdown",
      "metadata": {
        "id": "yDJFRmkbMBt1"
      },
      "source": [
        "# References:"
      ]
    },
    {
      "cell_type": "markdown",
      "metadata": {
        "id": "b-urhkj_MBt1"
      },
      "source": [
        "[1] Read, J., Pfahringer, B., Holmes, G. and Frank, E. (2011). Classifier chains for multi-label classification. Machine Learning, [online] 85(3), pp.333-359. Available at: https://link.springer.com/content/pdf/10.1007/s10994-011-5256-5.pdf."
      ]
    },
    {
      "cell_type": "markdown",
      "metadata": {
        "id": "xLJom33SMBt2"
      },
      "source": [
        "[2] A Literature Survey on Algorithms for Multi-label Learning by Mohammad S Sorower. Available at: https://pdfs.semanticscholar.org/6b56/91db1e3a79af5e3c136d2dd322016a687a0b.pdf"
      ]
    },
    {
      "cell_type": "markdown",
      "metadata": {
        "id": "AU2gDoC6MBt2"
      },
      "source": [
        "\n"
      ]
    },
    {
      "cell_type": "code",
      "source": [
        "!pip install mllearn"
      ],
      "metadata": {
        "id": "TfIJumWtF5rV",
        "colab": {
          "base_uri": "https://localhost:8080/"
        },
        "outputId": "3a203056-3807-4413-c8ec-7bccf9556d5a"
      },
      "execution_count": null,
      "outputs": [
        {
          "output_type": "stream",
          "name": "stdout",
          "text": [
            "Looking in indexes: https://pypi.org/simple, https://us-python.pkg.dev/colab-wheels/public/simple/\n",
            "Collecting mllearn\n",
            "  Downloading mllearn-1.2.3-py3-none-any.whl (14 kB)\n",
            "Requirement already satisfied: scikit-learn in /usr/local/lib/python3.8/dist-packages (from mllearn) (1.0.2)\n",
            "Requirement already satisfied: numpy in /usr/local/lib/python3.8/dist-packages (from mllearn) (1.21.6)\n",
            "Collecting liac-arff\n",
            "  Downloading liac-arff-2.5.0.tar.gz (13 kB)\n",
            "  Preparing metadata (setup.py) ... \u001b[?25l\u001b[?25hdone\n",
            "Requirement already satisfied: scipy>=1.1.0 in /usr/local/lib/python3.8/dist-packages (from scikit-learn->mllearn) (1.7.3)\n",
            "Requirement already satisfied: joblib>=0.11 in /usr/local/lib/python3.8/dist-packages (from scikit-learn->mllearn) (1.2.0)\n",
            "Requirement already satisfied: threadpoolctl>=2.0.0 in /usr/local/lib/python3.8/dist-packages (from scikit-learn->mllearn) (3.1.0)\n",
            "Building wheels for collected packages: liac-arff\n",
            "  Building wheel for liac-arff (setup.py) ... \u001b[?25l\u001b[?25hdone\n",
            "  Created wheel for liac-arff: filename=liac_arff-2.5.0-py3-none-any.whl size=11732 sha256=5edfb22d597781706ad5a0aca460991a5339be5f634996b940e12be47c7dc080\n",
            "  Stored in directory: /root/.cache/pip/wheels/a2/de/68/bf3972de3ecb31e32bef59a7f4c75f0687a3674c476b347c14\n",
            "Successfully built liac-arff\n",
            "Installing collected packages: liac-arff, mllearn\n",
            "Successfully installed liac-arff-2.5.0 mllearn-1.2.3\n"
          ]
        }
      ]
    },
    {
      "cell_type": "code",
      "source": [
        "!pip install scikit-multilearn"
      ],
      "metadata": {
        "colab": {
          "base_uri": "https://localhost:8080/"
        },
        "id": "H9zk4EzLv8Pm",
        "outputId": "330c680f-e450-4153-a8d4-565251e9806a"
      },
      "execution_count": null,
      "outputs": [
        {
          "output_type": "stream",
          "name": "stdout",
          "text": [
            "Looking in indexes: https://pypi.org/simple, https://us-python.pkg.dev/colab-wheels/public/simple/\n",
            "Collecting scikit-multilearn\n",
            "  Downloading scikit_multilearn-0.2.0-py3-none-any.whl (89 kB)\n",
            "\u001b[2K     \u001b[90m━━━━━━━━━━━━━━━━━━━━━━━━━━━━━━━━━━━━━━━━\u001b[0m \u001b[32m89.4/89.4 KB\u001b[0m \u001b[31m4.8 MB/s\u001b[0m eta \u001b[36m0:00:00\u001b[0m\n",
            "\u001b[?25hInstalling collected packages: scikit-multilearn\n",
            "Successfully installed scikit-multilearn-0.2.0\n"
          ]
        }
      ]
    },
    {
      "cell_type": "code",
      "source": [
        "import numpy as np\n",
        "from mllearn.problem_transform import BinaryRelevance\n",
        "from mllearn.problem_transform import CalibratedLabelRanking\n",
        "from mllearn.problem_transform import ClassifierChain\n",
        "from mllearn.problem_transform import RandomKLabelsets\n",
        "from mllearn.alg_adapt import MLKNN\n",
        "from skmultilearn.adapt import MLkNN\n",
        "from mllearn.alg_adapt import MLDecisionTree\n",
        "from mllearn.metrics import hamming_loss\n",
        "from mllearn.metrics import subset_acc\n",
        "#from sklearn.metrics import accuracy_score\n",
        "from sklearn.metrics import f1_score\n",
        "\n",
        "from mllearn.metrics import accuracy\n",
        "from mllearn.metrics import precision\n",
        "from mllearn.metrics import recall\n",
        "from mllearn.metrics import F_beta\n",
        "\n",
        "from sklearn.dummy import DummyClassifier\n",
        "\n",
        "from sklearn.metrics import zero_one_loss\n",
        "import sklearn.metrics as metrics\n",
        "from sklearn.model_selection import train_test_split\n",
        "\n",
        "import arff\n",
        "import pandas as pd\n",
        "from sklearn.preprocessing import StandardScaler\n",
        "\n",
        "from IPython.display import display, HTML, Image\n",
        "\n",
        "import matplotlib.pyplot as plt\n",
        "import copy\n",
        "import random\n",
        "\n",
        "from sklearn.base import BaseEstimator, ClassifierMixin, clone\n",
        "from sklearn.utils.validation import check_X_y, check_array, check_is_fitted\n",
        "\n",
        "from sklearn.model_selection import GridSearchCV\n",
        "\n",
        "from sklearn.tree import DecisionTreeClassifier\n",
        "from sklearn.ensemble import RandomForestClassifier\n",
        "from sklearn.linear_model import LogisticRegression\n",
        "from sklearn.naive_bayes import GaussianNB\n",
        "from sklearn.neighbors import KNeighborsClassifier\n",
        "from sklearn.svm import SVC\n",
        "\n",
        "from sklearn.metrics import make_scorer\n",
        "\n",
        "\n",
        "# to avoid future warnings for sklearn\n",
        "import warnings\n",
        "warnings.filterwarnings(\"ignore\")"
      ],
      "metadata": {
        "id": "oTqr1XbhwGAp"
      },
      "execution_count": null,
      "outputs": []
    },
    {
      "cell_type": "code",
      "source": [
        "def accuracy_score(y_test, y_pred):\n",
        "    # y_pred is a numpy array, y_test is a dataframe\n",
        "    # to compare the two, convert to a single type\n",
        "    #y_test = y_test.to_numpy()\n",
        "    \n",
        "    # shape of test and preds must be equal\n",
        "    assert y_test.shape == y_pred.shape\n",
        "    i=0\n",
        "    # list of scores for each training sample\n",
        "    scores = []\n",
        "    \n",
        "    # for each test sample\n",
        "    while i < len(y_test):\n",
        "        count=0\n",
        "        # count the number of matches in the sample\n",
        "        # y_test[i] -> row values in test set (true values)\n",
        "        # y_pred[i] -> row values in predictions set (predicted values)\n",
        "        for p, q in zip(y_test[i], y_pred[i]):\n",
        "            if p == q:\n",
        "                count += 1\n",
        "\n",
        "        # accuracy score for the sample = no. of correctly predicted labels/total no. of labels\n",
        "        scores.append(count / y_pred.shape[1])\n",
        "        i+=1 \n",
        "\n",
        "    # final accuracy = avg. accuracy over all test samples =\n",
        "    # sum of the accuracy of all training samples/no. of training samples\n",
        "    return round((sum(scores)/len(y_test)), 5)"
      ],
      "metadata": {
        "id": "1EngK22gxXHj"
      },
      "execution_count": null,
      "outputs": []
    },
    {
      "cell_type": "code",
      "source": [
        "X_train, y_train, X_test, y_test = X_train.to_numpy(), y_train.to_numpy(), X_test.to_numpy(), y_test.to_numpy()"
      ],
      "metadata": {
        "id": "vj-4rW73xAKp"
      },
      "execution_count": null,
      "outputs": []
    },
    {
      "cell_type": "code",
      "source": [
        "print(X_train.shape)\n",
        "print(y_train.shape)\n",
        "print(X_test.shape)\n",
        "print(y_test.shape)"
      ],
      "metadata": {
        "colab": {
          "base_uri": "https://localhost:8080/"
        },
        "id": "UVIfwPYPy_Xb",
        "outputId": "ae7cb58b-b61d-4519-fdac-a8f3e8ddfabc"
      },
      "execution_count": null,
      "outputs": [
        {
          "output_type": "stream",
          "name": "stdout",
          "text": [
            "(1691, 103)\n",
            "(1691, 14)\n",
            "(725, 103)\n",
            "(725, 14)\n"
          ]
        }
      ]
    },
    {
      "cell_type": "code",
      "source": [
        "#  MLLearn Library"
      ],
      "metadata": {
        "id": "tOJ03ELf3yY6"
      },
      "execution_count": null,
      "outputs": []
    },
    {
      "cell_type": "code",
      "source": [
        "dummy_clf = DummyClassifier(strategy=\"most_frequent\")\n",
        "dummy_clf.fit(X_train, y_train)\n",
        "\n",
        "#dummy_clf.fit(X_train, y_train)\n",
        "predictions = dummy_clf.predict(X_test)\n",
        "print(predictions.shape)\n",
        "print('The hamming_loss of Dummy Classifier is %f' % hamming_loss(y_test, predictions))\n",
        "print('The subset_acc of Dummy Classifier is %f' % subset_acc(y_test, predictions))\n",
        "print('zero-one-loss of Dummy Classifier is %f'% zero_one_loss(y_test, predictions))\n",
        "print('The F_beta Result is %f' % F_beta(y_test, predictions))\n",
        "print('The F1 Result is %f' % f1_score(y_test, predictions, average=\"macro\"))\n",
        "\n",
        "\n",
        "classif = BinaryRelevance()\n",
        "classif.fit(X_train, y_train)\n",
        "predictions = classif.predict(X_test)\n",
        "print('The hamming_loss of BinaryRelevance is %f' % hamming_loss(y_test, predictions))\n",
        "print('The subset_acc of BinaryRelevance is %f' % subset_acc(y_test, predictions))\n",
        "print('zero-one-loss of BinaryRelevance is %f'% zero_one_loss(y_test, predictions))\n",
        "print('The F_beta Result is %f' % F_beta(y_test, predictions))\n",
        "print('The F1 Result is %f' % f1_score(y_test, predictions, average=\"macro\"))\n",
        "\n",
        "classif = ClassifierChain()\n",
        "classif.fit(X_train, y_train)\n",
        "predictions = classif.predict(X_test)\n",
        "print('The hamming_loss of Classifier Chain is %f' % hamming_loss(y_test, predictions))\n",
        "print('The subset_acc of Classifier Chain is %f' % subset_acc(y_test, predictions))\n",
        "print('zero-one-loss of ClassifierChain is %f'% zero_one_loss(y_test, predictions))\n",
        "print('The F_beta Result is %f' % F_beta(y_test, predictions))\n",
        "print('The F1 Result is %f' % f1_score(y_test, predictions, average=\"macro\"))\n",
        "\n",
        "classif = CalibratedLabelRanking()\n",
        "classif.fit(X_train, y_train)\n",
        "predictions = classif.predict(X_test)\n",
        "print('The hamming_loss of CalibratedLabelRanking is %f' % hamming_loss(y_test, predictions))\n",
        "print('The subset_acc of CalibratedLabelRanking is %f' % subset_acc(y_test, predictions))\n",
        "print('zero-one-loss of CalibratedLabelRanking is %f'% zero_one_loss(y_test, predictions))\n",
        "print('The F_beta Result is %f' % F_beta(y_test, predictions))\n",
        "print('The F1 Result is %f' % f1_score(y_test, predictions, average=\"macro\"))\n",
        "\n",
        "classif = RandomKLabelsets()\n",
        "classif.fit(X_train, y_train)\n",
        "predictions = classif.predict(X_test)\n",
        "print('The hamming_loss of Random K-Labelsets is %f' % hamming_loss(y_test, predictions))\n",
        "print('The subset_acc of Random K-Labelsets is %f' % subset_acc(y_test, predictions))\n",
        "print('zero-one-loss of RandomKLabelsets is %f'% zero_one_loss(y_test, predictions))\n",
        "print('The F_beta Result is %f' % F_beta(y_test, predictions))\n",
        "print('The F1 Result is %f' % f1_score(y_test, predictions, average=\"macro\"))"
      ],
      "metadata": {
        "colab": {
          "base_uri": "https://localhost:8080/"
        },
        "id": "jRjU0vx6wMvd",
        "outputId": "0d469552-ace8-4d95-b3fc-c18ed235456a"
      },
      "execution_count": null,
      "outputs": [
        {
          "output_type": "stream",
          "name": "stdout",
          "text": [
            "(725, 14)\n",
            "The hamming_loss of Dummy Classifier is 0.238818\n",
            "The subset_acc of Dummy Classifier is 0.012414\n",
            "zero-one-loss of Dummy Classifier is 0.987586\n",
            "The F_beta Result is 0.438496\n",
            "The F1 Result is 0.119067\n",
            "The hamming_loss of BinaryRelevance is 0.205025\n",
            "The subset_acc of BinaryRelevance is 0.143448\n",
            "zero-one-loss of BinaryRelevance is 0.856552\n",
            "The F_beta Result is 0.616597\n",
            "The F1 Result is 0.327877\n",
            "The hamming_loss of Classifier Chain is 0.215468\n",
            "The subset_acc of Classifier Chain is 0.188966\n",
            "zero-one-loss of ClassifierChain is 0.811034\n",
            "The F_beta Result is 0.600635\n",
            "The F1 Result is 0.360376\n",
            "The hamming_loss of CalibratedLabelRanking is 0.204631\n",
            "The subset_acc of CalibratedLabelRanking is 0.144828\n",
            "zero-one-loss of CalibratedLabelRanking is 0.855172\n",
            "The F_beta Result is 0.614439\n",
            "The F1 Result is 0.326719\n",
            "The hamming_loss of Random K-Labelsets is 0.203842\n",
            "The subset_acc of Random K-Labelsets is 0.162759\n",
            "zero-one-loss of RandomKLabelsets is 0.837241\n",
            "The F_beta Result is 0.620017\n",
            "The F1 Result is 0.335364\n"
          ]
        }
      ]
    },
    {
      "cell_type": "code",
      "source": [
        "\n",
        "base_models = [BinaryRelevance(), ClassifierChain(), CalibratedLabelRanking(), RandomKLabelsets()]\n",
        "base_model_names = [\"Binary Relevance\", \"Classifier Chain\", 'Calibrated Label Ranking', 'Random K-Labelsets']\n",
        "\n",
        "cc_accuracies = dict()\n",
        "cc_f1 = dict()\n",
        "cc_hamming = dict()\n",
        "\n",
        "i=0\n",
        "for cc in base_models:\n",
        "\n",
        "    cc.fit(X_train, y_train)\n",
        "    cc_pred = cc.predict(X_test)\n",
        "    # accuracy score\n",
        "    accuracy = accuracy_score(y_test, cc_pred)\n",
        "    cc_accuracies[base_model_names[i]] = accuracy\n",
        "    # F1 score\n",
        "    cc_f1_score = metrics.f1_score(y_test, pd.DataFrame(cc_pred), average='macro')\n",
        "    cc_f1[base_model_names[i]] = cc_f1_score\n",
        "    # Hamming\n",
        "    hamming = hamming_loss(y_test, cc_pred)\n",
        "    cc_hamming[base_model_names[i]] = hamming\n",
        "    i+=1\n",
        "\n",
        "print(\"====================MLLearn Accuracy====================\")\n",
        "display(cc_accuracies)\n",
        "print(\"===================MLLearn F1 Scores====================\")\n",
        "display(cc_f1)\n",
        "print(\"====================MLLearn Hamming Loss====================\")\n",
        "display(cc_hamming)"
      ],
      "metadata": {
        "colab": {
          "base_uri": "https://localhost:8080/",
          "height": 278
        },
        "id": "opJh45YRxH4V",
        "outputId": "1a189d4b-55ba-42df-afe5-6bdc80ab51ed"
      },
      "execution_count": null,
      "outputs": [
        {
          "output_type": "stream",
          "name": "stdout",
          "text": [
            "====================MLLearn Accuracy====================\n"
          ]
        },
        {
          "output_type": "display_data",
          "data": {
            "text/plain": [
              "{'Binary Relevance': 0.79498,\n",
              " 'Classifier Chain': 0.78453,\n",
              " 'Calibrated Label Ranking': 0.79537,\n",
              " 'Random K-Labelsets': 0.79685}"
            ]
          },
          "metadata": {}
        },
        {
          "output_type": "stream",
          "name": "stdout",
          "text": [
            "===================MLLearn F1 Scores====================\n"
          ]
        },
        {
          "output_type": "display_data",
          "data": {
            "text/plain": [
              "{'Binary Relevance': 0.32787742663955644,\n",
              " 'Classifier Chain': 0.3603761599984326,\n",
              " 'Calibrated Label Ranking': 0.3267194329097088,\n",
              " 'Random K-Labelsets': 0.3405642892839444}"
            ]
          },
          "metadata": {}
        },
        {
          "output_type": "stream",
          "name": "stdout",
          "text": [
            "====================MLLearn Hamming Loss====================\n"
          ]
        },
        {
          "output_type": "display_data",
          "data": {
            "text/plain": [
              "{'Binary Relevance': 0.20502463054187192,\n",
              " 'Classifier Chain': 0.2154679802955665,\n",
              " 'Calibrated Label Ranking': 0.20463054187192117,\n",
              " 'Random K-Labelsets': 0.20315270935960592}"
            ]
          },
          "metadata": {}
        }
      ]
    },
    {
      "cell_type": "code",
      "source": [
        "plt.plot(list(cc_accuracies.keys()), list(cc_accuracies.values()))\n",
        "plt.plot(list(cc_f1.keys()), list(cc_f1.values()))\n",
        "plt.plot(list(cc_hamming.keys()), list(cc_hamming.values()))\n",
        "plt.xticks(rotation=90)\n",
        "plt.legend(['Accuracy', 'F1_score', 'Hamming Loss', ])"
      ],
      "metadata": {
        "colab": {
          "base_uri": "https://localhost:8080/",
          "height": 398
        },
        "id": "n_GIp-wr1dHM",
        "outputId": "187ca414-0f1d-47d1-c68a-722e42169024"
      },
      "execution_count": null,
      "outputs": [
        {
          "output_type": "execute_result",
          "data": {
            "text/plain": [
              "<matplotlib.legend.Legend at 0x7f4a38f75f10>"
            ]
          },
          "metadata": {},
          "execution_count": 67
        },
        {
          "output_type": "display_data",
          "data": {
            "text/plain": [
              "<Figure size 432x288 with 1 Axes>"
            ],
            "image/png": "[encoded data removed]"
          },
          "metadata": {
            "needs_background": "light"
          }
        }
      ]
    },
    {
      "cell_type": "code",
      "source": [],
      "metadata": {
        "id": "DZkuGRj91dKr"
      },
      "execution_count": null,
      "outputs": []
    },
    {
      "cell_type": "code",
      "source": [],
      "metadata": {
        "id": "Gjg04RmtxLIT"
      },
      "execution_count": null,
      "outputs": []
    },
    {
      "cell_type": "code",
      "source": [
        "# Recursive Feature Elimination\n",
        "from sklearn.feature_selection import RFE\n",
        "from sklearn.linear_model import LogisticRegression\n",
        "\n",
        "# create a base classifier used to evaluate a subset of attributes\n",
        "model = LogisticRegression()\n",
        "# create the RFE model and select 3 attributes\n",
        "rfe = RFE(model)\n",
        "rfe = rfe.fit(X_train, y_train[:,:1])\n",
        "# summarize the selection of the attributes\n",
        "print(rfe.support_)\n",
        "print(rfe.ranking_)\n",
        "\n",
        "print('Xshape:', X_train.shape)"
      ],
      "metadata": {
        "id": "eWCw-YArwM7A",
        "colab": {
          "base_uri": "https://localhost:8080/"
        },
        "outputId": "f40c9aff-b8d1-4990-d85a-23ce4bbe3d65"
      },
      "execution_count": null,
      "outputs": [
        {
          "output_type": "stream",
          "name": "stdout",
          "text": [
            "[False  True  True  True False False  True  True False  True False  True\n",
            "  True False False False False False False  True False False  True False\n",
            "  True  True False  True False  True  True  True  True  True False False\n",
            " False  True  True  True  True False  True  True  True False  True  True\n",
            "  True False  True  True False  True  True False  True False  True  True\n",
            "  True False False  True  True False  True False False False False False\n",
            "  True  True  True False  True False False  True False False False  True\n",
            " False False  True False  True False  True  True False False False False\n",
            " False False False False False False False False  True False False  True\n",
            "  True  True False False False False False  True False  True False  True\n",
            "  True  True False  True False  True False False False False  True False\n",
            " False False False  True  True  True  True False False False  True  True\n",
            "  True  True  True  True False  True  True  True  True  True False  True\n",
            " False  True  True  True False False  True False False False  True False\n",
            " False False  True  True False  True False  True  True  True False  True\n",
            "  True False  True False False False  True False False False  True  True\n",
            "  True False False  True False  True  True  True  True False  True False\n",
            " False False False False  True  True False  True  True False False  True\n",
            "  True  True False  True False False False  True  True  True  True  True\n",
            " False  True  True  True False False  True  True  True  True False  True\n",
            "  True  True False  True False  True False  True  True  True False False\n",
            " False False False False False  True False False False False False False\n",
            " False  True False False False False False  True  True  True  True False\n",
            "  True False  True  True False  True  True False False  True  True  True\n",
            " False False  True  True  True  True]\n",
            "[108   1   1   1   5 106   1   1   9   1  73   1   1  10 115   2  32 134\n",
            "  74   1  61  79   1  31   1   1 138   1 132   1   1   1   1   1 123  77\n",
            "  26   1   1   1   1  17   1   1   1  38   1   1   1  59   1   1 131   1\n",
            "   1  50   1  93   1   1   1  24  22   1   1  57   1 126  25  23  55 119\n",
            "   1   1   1  11   1  12  70   1 142  71  18   1 105 137   1  48   1  97\n",
            "   1   1  20  21  49  39 136  78 117  91  69 141  68   4   1  80  52   1\n",
            "   1   1 116  86 124  89   7   1 144   1  85   1   1   1  95   1  33   1\n",
            "  51  88 128  98   1 125  14  99 143   1   1   1   1  45   6  42   1   1\n",
            "   1   1   1   1   3   1   1   1   1   1  58   1  40   1   1   1 147 127\n",
            "   1 130  76  60   1 112 100 129   1   1 121   1  16   1   1   1  35   1\n",
            "   1  67   1 120  87  53   1 146  56 145   1   1   1 140  72   1  29   1\n",
            "   1   1   1  82   1 111  62 109  44  30   1   1 101   1   1 133  34   1\n",
            "   1   1  65   1  81  47  96   1   1   1   1   1  54   1   1   1  27 113\n",
            "   1   1   1   1 118   1   1   1 122   1 107   1  28   1   1   1  36  94\n",
            " 102  43   8  19 104   1  64  13  15  90  66 110  46   1 135  83  84  41\n",
            "  75   1   1   1   1 148   1 139   1   1 103   1   1 114  63   1   1   1\n",
            "  37  92   1   1   1   1]\n",
            "Xshape: (1684, 294)\n"
          ]
        }
      ]
    },
    {
      "cell_type": "code",
      "source": [
        "# report which features were selected by RFE\n",
        "#from sklearn.datasets import make_classification\n",
        "from sklearn.feature_selection import RFE\n",
        "from sklearn.tree import DecisionTreeClassifier\n",
        "# define dataset\n",
        "#X, y = make_classification(n_samples=1000, n_features=10, n_informative=5, n_redundant=5, random_state=1)\n",
        "# define RFE\n",
        "rfe = RFE(estimator=DecisionTreeClassifier(), n_features_to_select=50)\n",
        "# fit RFE\n",
        "rfe.fit(X_train, y_train[:,:1])\n",
        "# summarize all features\n",
        "for i in range(X_train.shape[1]):\n",
        "    print('Column: %d, Selected %s, Rank: %.3f' % (i, rfe.support_[i], rfe.ranking_[i]))"
      ],
      "metadata": {
        "id": "a8jy6BPhwM9-",
        "colab": {
          "base_uri": "https://localhost:8080/"
        },
        "outputId": "eac83426-cf8d-4685-9277-34203278423d"
      },
      "execution_count": null,
      "outputs": [
        {
          "output_type": "stream",
          "name": "stdout",
          "text": [
            "Column: 0, Selected False, Rank: 245.000\n",
            "Column: 1, Selected False, Rank: 244.000\n",
            "Column: 2, Selected False, Rank: 243.000\n",
            "Column: 3, Selected False, Rank: 242.000\n",
            "Column: 4, Selected False, Rank: 241.000\n",
            "Column: 5, Selected False, Rank: 240.000\n",
            "Column: 6, Selected False, Rank: 235.000\n",
            "Column: 7, Selected False, Rank: 234.000\n",
            "Column: 8, Selected True, Rank: 1.000\n",
            "Column: 9, Selected False, Rank: 21.000\n",
            "Column: 10, Selected False, Rank: 20.000\n",
            "Column: 11, Selected False, Rank: 19.000\n",
            "Column: 12, Selected True, Rank: 1.000\n",
            "Column: 13, Selected False, Rank: 17.000\n",
            "Column: 14, Selected True, Rank: 1.000\n",
            "Column: 15, Selected False, Rank: 18.000\n",
            "Column: 16, Selected False, Rank: 13.000\n",
            "Column: 17, Selected False, Rank: 28.000\n",
            "Column: 18, Selected False, Rank: 26.000\n",
            "Column: 19, Selected False, Rank: 35.000\n",
            "Column: 20, Selected False, Rank: 11.000\n",
            "Column: 21, Selected False, Rank: 22.000\n",
            "Column: 22, Selected False, Rank: 34.000\n",
            "Column: 23, Selected False, Rank: 46.000\n",
            "Column: 24, Selected False, Rank: 33.000\n",
            "Column: 25, Selected False, Rank: 56.000\n",
            "Column: 26, Selected False, Rank: 8.000\n",
            "Column: 27, Selected False, Rank: 38.000\n",
            "Column: 28, Selected True, Rank: 1.000\n",
            "Column: 29, Selected True, Rank: 1.000\n",
            "Column: 30, Selected False, Rank: 47.000\n",
            "Column: 31, Selected False, Rank: 43.000\n",
            "Column: 32, Selected True, Rank: 1.000\n",
            "Column: 33, Selected False, Rank: 52.000\n",
            "Column: 34, Selected False, Rank: 53.000\n",
            "Column: 35, Selected False, Rank: 45.000\n",
            "Column: 36, Selected True, Rank: 1.000\n",
            "Column: 37, Selected True, Rank: 1.000\n",
            "Column: 38, Selected True, Rank: 1.000\n",
            "Column: 39, Selected True, Rank: 1.000\n",
            "Column: 40, Selected True, Rank: 1.000\n",
            "Column: 41, Selected True, Rank: 1.000\n",
            "Column: 42, Selected False, Rank: 71.000\n",
            "Column: 43, Selected False, Rank: 76.000\n",
            "Column: 44, Selected True, Rank: 1.000\n",
            "Column: 45, Selected True, Rank: 1.000\n",
            "Column: 46, Selected False, Rank: 58.000\n",
            "Column: 47, Selected False, Rank: 103.000\n",
            "Column: 48, Selected False, Rank: 113.000\n",
            "Column: 49, Selected False, Rank: 63.000\n",
            "Column: 50, Selected False, Rank: 118.000\n",
            "Column: 51, Selected False, Rank: 9.000\n",
            "Column: 52, Selected False, Rank: 79.000\n",
            "Column: 53, Selected False, Rank: 64.000\n",
            "Column: 54, Selected False, Rank: 91.000\n",
            "Column: 55, Selected False, Rank: 95.000\n",
            "Column: 56, Selected False, Rank: 62.000\n",
            "Column: 57, Selected False, Rank: 101.000\n",
            "Column: 58, Selected False, Rank: 100.000\n",
            "Column: 59, Selected False, Rank: 105.000\n",
            "Column: 60, Selected False, Rank: 102.000\n",
            "Column: 61, Selected False, Rank: 110.000\n",
            "Column: 62, Selected False, Rank: 98.000\n",
            "Column: 63, Selected False, Rank: 2.000\n",
            "Column: 64, Selected False, Rank: 117.000\n",
            "Column: 65, Selected False, Rank: 96.000\n",
            "Column: 66, Selected False, Rank: 80.000\n",
            "Column: 67, Selected True, Rank: 1.000\n",
            "Column: 68, Selected False, Rank: 126.000\n",
            "Column: 69, Selected False, Rank: 123.000\n",
            "Column: 70, Selected False, Rank: 111.000\n",
            "Column: 71, Selected False, Rank: 72.000\n",
            "Column: 72, Selected False, Rank: 134.000\n",
            "Column: 73, Selected False, Rank: 161.000\n",
            "Column: 74, Selected True, Rank: 1.000\n",
            "Column: 75, Selected True, Rank: 1.000\n",
            "Column: 76, Selected False, Rank: 139.000\n",
            "Column: 77, Selected False, Rank: 70.000\n",
            "Column: 78, Selected False, Rank: 150.000\n",
            "Column: 79, Selected False, Rank: 170.000\n",
            "Column: 80, Selected False, Rank: 162.000\n",
            "Column: 81, Selected False, Rank: 145.000\n",
            "Column: 82, Selected False, Rank: 177.000\n",
            "Column: 83, Selected False, Rank: 152.000\n",
            "Column: 84, Selected False, Rank: 149.000\n",
            "Column: 85, Selected False, Rank: 155.000\n",
            "Column: 86, Selected False, Rank: 12.000\n",
            "Column: 87, Selected False, Rank: 163.000\n",
            "Column: 88, Selected False, Rank: 142.000\n",
            "Column: 89, Selected True, Rank: 1.000\n",
            "Column: 90, Selected False, Rank: 166.000\n",
            "Column: 91, Selected False, Rank: 159.000\n",
            "Column: 92, Selected False, Rank: 107.000\n",
            "Column: 93, Selected False, Rank: 180.000\n",
            "Column: 94, Selected False, Rank: 116.000\n",
            "Column: 95, Selected True, Rank: 1.000\n",
            "Column: 96, Selected False, Rank: 169.000\n",
            "Column: 97, Selected False, Rank: 120.000\n",
            "Column: 98, Selected False, Rank: 185.000\n",
            "Column: 99, Selected False, Rank: 146.000\n",
            "Column: 100, Selected True, Rank: 1.000\n",
            "Column: 101, Selected False, Rank: 192.000\n",
            "Column: 102, Selected False, Rank: 188.000\n",
            "Column: 103, Selected False, Rank: 104.000\n",
            "Column: 104, Selected False, Rank: 217.000\n",
            "Column: 105, Selected False, Rank: 167.000\n",
            "Column: 106, Selected True, Rank: 1.000\n",
            "Column: 107, Selected False, Rank: 99.000\n",
            "Column: 108, Selected False, Rank: 205.000\n",
            "Column: 109, Selected False, Rank: 207.000\n",
            "Column: 110, Selected False, Rank: 135.000\n",
            "Column: 111, Selected False, Rank: 184.000\n",
            "Column: 112, Selected False, Rank: 190.000\n",
            "Column: 113, Selected False, Rank: 189.000\n",
            "Column: 114, Selected False, Rank: 221.000\n",
            "Column: 115, Selected False, Rank: 193.000\n",
            "Column: 116, Selected False, Rank: 153.000\n",
            "Column: 117, Selected False, Rank: 173.000\n",
            "Column: 118, Selected False, Rank: 154.000\n",
            "Column: 119, Selected False, Rank: 175.000\n",
            "Column: 120, Selected False, Rank: 237.000\n",
            "Column: 121, Selected False, Rank: 176.000\n",
            "Column: 122, Selected False, Rank: 183.000\n",
            "Column: 123, Selected False, Rank: 172.000\n",
            "Column: 124, Selected True, Rank: 1.000\n",
            "Column: 125, Selected False, Rank: 219.000\n",
            "Column: 126, Selected False, Rank: 143.000\n",
            "Column: 127, Selected False, Rank: 133.000\n",
            "Column: 128, Selected False, Rank: 128.000\n",
            "Column: 129, Selected False, Rank: 42.000\n",
            "Column: 130, Selected False, Rank: 223.000\n",
            "Column: 131, Selected False, Rank: 27.000\n",
            "Column: 132, Selected False, Rank: 31.000\n",
            "Column: 133, Selected False, Rank: 6.000\n",
            "Column: 134, Selected False, Rank: 49.000\n",
            "Column: 135, Selected True, Rank: 1.000\n",
            "Column: 136, Selected False, Rank: 195.000\n",
            "Column: 137, Selected False, Rank: 197.000\n",
            "Column: 138, Selected False, Rank: 198.000\n",
            "Column: 139, Selected False, Rank: 201.000\n",
            "Column: 140, Selected False, Rank: 200.000\n",
            "Column: 141, Selected False, Rank: 209.000\n",
            "Column: 142, Selected False, Rank: 211.000\n",
            "Column: 143, Selected False, Rank: 213.000\n",
            "Column: 144, Selected False, Rank: 215.000\n",
            "Column: 145, Selected False, Rank: 225.000\n",
            "Column: 146, Selected False, Rank: 227.000\n",
            "Column: 147, Selected False, Rank: 229.000\n",
            "Column: 148, Selected False, Rank: 231.000\n",
            "Column: 149, Selected False, Rank: 239.000\n",
            "Column: 150, Selected False, Rank: 238.000\n",
            "Column: 151, Selected False, Rank: 236.000\n",
            "Column: 152, Selected False, Rank: 232.000\n",
            "Column: 153, Selected False, Rank: 230.000\n",
            "Column: 154, Selected False, Rank: 228.000\n",
            "Column: 155, Selected False, Rank: 226.000\n",
            "Column: 156, Selected False, Rank: 224.000\n",
            "Column: 157, Selected False, Rank: 222.000\n",
            "Column: 158, Selected False, Rank: 220.000\n",
            "Column: 159, Selected False, Rank: 218.000\n",
            "Column: 160, Selected False, Rank: 216.000\n",
            "Column: 161, Selected False, Rank: 214.000\n",
            "Column: 162, Selected False, Rank: 210.000\n",
            "Column: 163, Selected False, Rank: 208.000\n",
            "Column: 164, Selected False, Rank: 204.000\n",
            "Column: 165, Selected False, Rank: 196.000\n",
            "Column: 166, Selected True, Rank: 1.000\n",
            "Column: 167, Selected False, Rank: 187.000\n",
            "Column: 168, Selected False, Rank: 186.000\n",
            "Column: 169, Selected False, Rank: 181.000\n",
            "Column: 170, Selected False, Rank: 182.000\n",
            "Column: 171, Selected True, Rank: 1.000\n",
            "Column: 172, Selected False, Rank: 174.000\n",
            "Column: 173, Selected False, Rank: 3.000\n",
            "Column: 174, Selected False, Rank: 168.000\n",
            "Column: 175, Selected False, Rank: 165.000\n",
            "Column: 176, Selected False, Rank: 157.000\n",
            "Column: 177, Selected False, Rank: 160.000\n",
            "Column: 178, Selected False, Rank: 158.000\n",
            "Column: 179, Selected True, Rank: 1.000\n",
            "Column: 180, Selected False, Rank: 147.000\n",
            "Column: 181, Selected True, Rank: 1.000\n",
            "Column: 182, Selected False, Rank: 144.000\n",
            "Column: 183, Selected False, Rank: 138.000\n",
            "Column: 184, Selected True, Rank: 1.000\n",
            "Column: 185, Selected False, Rank: 7.000\n",
            "Column: 186, Selected True, Rank: 1.000\n",
            "Column: 187, Selected False, Rank: 39.000\n",
            "Column: 188, Selected True, Rank: 1.000\n",
            "Column: 189, Selected False, Rank: 73.000\n",
            "Column: 190, Selected False, Rank: 24.000\n",
            "Column: 191, Selected False, Rank: 86.000\n",
            "Column: 192, Selected False, Rank: 57.000\n",
            "Column: 193, Selected True, Rank: 1.000\n",
            "Column: 194, Selected False, Rank: 55.000\n",
            "Column: 195, Selected True, Rank: 1.000\n",
            "Column: 196, Selected False, Rank: 48.000\n",
            "Column: 197, Selected False, Rank: 87.000\n",
            "Column: 198, Selected False, Rank: 82.000\n",
            "Column: 199, Selected False, Rank: 51.000\n",
            "Column: 200, Selected False, Rank: 29.000\n",
            "Column: 201, Selected False, Rank: 54.000\n",
            "Column: 202, Selected False, Rank: 94.000\n",
            "Column: 203, Selected False, Rank: 10.000\n",
            "Column: 204, Selected False, Rank: 65.000\n",
            "Column: 205, Selected False, Rank: 68.000\n",
            "Column: 206, Selected False, Rank: 97.000\n",
            "Column: 207, Selected False, Rank: 92.000\n",
            "Column: 208, Selected False, Rank: 81.000\n",
            "Column: 209, Selected False, Rank: 74.000\n",
            "Column: 210, Selected False, Rank: 84.000\n",
            "Column: 211, Selected False, Rank: 40.000\n",
            "Column: 212, Selected False, Rank: 75.000\n",
            "Column: 213, Selected False, Rank: 41.000\n",
            "Column: 214, Selected True, Rank: 1.000\n",
            "Column: 215, Selected False, Rank: 171.000\n",
            "Column: 216, Selected False, Rank: 50.000\n",
            "Column: 217, Selected False, Rank: 5.000\n",
            "Column: 218, Selected True, Rank: 1.000\n",
            "Column: 219, Selected False, Rank: 69.000\n",
            "Column: 220, Selected False, Rank: 78.000\n",
            "Column: 221, Selected False, Rank: 37.000\n",
            "Column: 222, Selected False, Rank: 4.000\n",
            "Column: 223, Selected False, Rank: 77.000\n",
            "Column: 224, Selected True, Rank: 1.000\n",
            "Column: 225, Selected True, Rank: 1.000\n",
            "Column: 226, Selected False, Rank: 164.000\n",
            "Column: 227, Selected False, Rank: 25.000\n",
            "Column: 228, Selected True, Rank: 1.000\n",
            "Column: 229, Selected False, Rank: 88.000\n",
            "Column: 230, Selected True, Rank: 1.000\n",
            "Column: 231, Selected True, Rank: 1.000\n",
            "Column: 232, Selected False, Rank: 148.000\n",
            "Column: 233, Selected False, Rank: 44.000\n",
            "Column: 234, Selected False, Rank: 106.000\n",
            "Column: 235, Selected False, Rank: 66.000\n",
            "Column: 236, Selected False, Rank: 114.000\n",
            "Column: 237, Selected False, Rank: 90.000\n",
            "Column: 238, Selected False, Rank: 121.000\n",
            "Column: 239, Selected False, Rank: 137.000\n",
            "Column: 240, Selected False, Rank: 203.000\n",
            "Column: 241, Selected False, Rank: 178.000\n",
            "Column: 242, Selected False, Rank: 93.000\n",
            "Column: 243, Selected True, Rank: 1.000\n",
            "Column: 244, Selected False, Rank: 112.000\n",
            "Column: 245, Selected True, Rank: 1.000\n",
            "Column: 246, Selected False, Rank: 124.000\n",
            "Column: 247, Selected False, Rank: 125.000\n",
            "Column: 248, Selected False, Rank: 127.000\n",
            "Column: 249, Selected False, Rank: 67.000\n",
            "Column: 250, Selected False, Rank: 16.000\n",
            "Column: 251, Selected False, Rank: 212.000\n",
            "Column: 252, Selected True, Rank: 1.000\n",
            "Column: 253, Selected False, Rank: 61.000\n",
            "Column: 254, Selected False, Rank: 30.000\n",
            "Column: 255, Selected False, Rank: 122.000\n",
            "Column: 256, Selected True, Rank: 1.000\n",
            "Column: 257, Selected False, Rank: 131.000\n",
            "Column: 258, Selected False, Rank: 119.000\n",
            "Column: 259, Selected True, Rank: 1.000\n",
            "Column: 260, Selected True, Rank: 1.000\n",
            "Column: 261, Selected False, Rank: 194.000\n",
            "Column: 262, Selected False, Rank: 156.000\n",
            "Column: 263, Selected False, Rank: 140.000\n",
            "Column: 264, Selected False, Rank: 206.000\n",
            "Column: 265, Selected False, Rank: 191.000\n",
            "Column: 266, Selected False, Rank: 83.000\n",
            "Column: 267, Selected True, Rank: 1.000\n",
            "Column: 268, Selected False, Rank: 130.000\n",
            "Column: 269, Selected False, Rank: 151.000\n",
            "Column: 270, Selected False, Rank: 89.000\n",
            "Column: 271, Selected False, Rank: 141.000\n",
            "Column: 272, Selected False, Rank: 179.000\n",
            "Column: 273, Selected False, Rank: 108.000\n",
            "Column: 274, Selected False, Rank: 129.000\n",
            "Column: 275, Selected False, Rank: 136.000\n",
            "Column: 276, Selected True, Rank: 1.000\n",
            "Column: 277, Selected False, Rank: 115.000\n",
            "Column: 278, Selected False, Rank: 202.000\n",
            "Column: 279, Selected False, Rank: 199.000\n",
            "Column: 280, Selected False, Rank: 109.000\n",
            "Column: 281, Selected False, Rank: 59.000\n",
            "Column: 282, Selected True, Rank: 1.000\n",
            "Column: 283, Selected False, Rank: 132.000\n",
            "Column: 284, Selected False, Rank: 15.000\n",
            "Column: 285, Selected True, Rank: 1.000\n",
            "Column: 286, Selected False, Rank: 85.000\n",
            "Column: 287, Selected False, Rank: 60.000\n",
            "Column: 288, Selected False, Rank: 36.000\n",
            "Column: 289, Selected False, Rank: 14.000\n",
            "Column: 290, Selected False, Rank: 23.000\n",
            "Column: 291, Selected False, Rank: 32.000\n",
            "Column: 292, Selected True, Rank: 1.000\n",
            "Column: 293, Selected False, Rank: 233.000\n"
          ]
        }
      ]
    },
    {
      "cell_type": "code",
      "source": [
        "from sklearn.feature_selection import RFE\n",
        "from sklearn.tree import DecisionTreeClassifier\n",
        "\n",
        "sec_col = []\n",
        "\n",
        "for i in range(0,14):\n",
        "\n",
        "    rfe = RFE(estimator=DecisionTreeClassifier(), n_features_to_select=100)\n",
        "    # fit RFE\n",
        "    rfe.fit(X_train, y_train[:,i:i+1])\n",
        "\n",
        "    selected_columns = []\n",
        "    # summarize all features\n",
        "    for j in range(X_train.shape[1]):\n",
        "        #print('Column: %d, Selected %s, Rank: %.3f' % (i, rfe.support_[i], rfe.ranking_[i]))\n",
        "        if rfe.support_[j]:\n",
        "            selected_columns.append(j)\n",
        "    #print(selected_columns)\n",
        "    sec_col.append(selected_columns)\n",
        "print(sec_col)"
      ],
      "metadata": {
        "id": "6A50tp8AwNBN",
        "colab": {
          "base_uri": "https://localhost:8080/"
        },
        "outputId": "b843bffd-d4dd-4f10-e9cb-dac60960d0f7"
      },
      "execution_count": null,
      "outputs": [
        {
          "output_type": "stream",
          "name": "stdout",
          "text": [
            "[[1, 2, 3, 4, 5, 6, 7, 8, 9, 10, 11, 12, 13, 14, 15, 16, 17, 18, 19, 20, 21, 22, 23, 24, 25, 26, 27, 28, 29, 30, 31, 32, 33, 34, 35, 36, 37, 38, 40, 41, 42, 43, 44, 45, 46, 47, 48, 49, 50, 51, 52, 53, 54, 55, 56, 57, 58, 59, 60, 61, 62, 63, 64, 65, 66, 67, 68, 69, 70, 71, 72, 73, 74, 75, 76, 77, 78, 79, 80, 81, 82, 83, 84, 85, 86, 87, 88, 89, 90, 91, 92, 93, 94, 95, 96, 97, 98, 99, 100, 101], [0, 1, 2, 3, 4, 5, 6, 7, 8, 9, 10, 11, 13, 14, 15, 16, 17, 18, 19, 20, 21, 22, 23, 24, 25, 26, 27, 28, 29, 30, 31, 32, 33, 34, 35, 36, 37, 38, 39, 40, 41, 42, 43, 44, 45, 47, 48, 49, 50, 51, 52, 53, 54, 55, 56, 57, 58, 59, 60, 61, 62, 63, 64, 65, 66, 67, 68, 69, 70, 71, 72, 73, 74, 75, 76, 77, 78, 79, 81, 82, 83, 84, 85, 86, 87, 88, 89, 90, 91, 92, 93, 94, 95, 96, 97, 98, 99, 100, 101, 102], [0, 1, 2, 3, 4, 5, 6, 7, 8, 9, 10, 11, 12, 13, 14, 15, 16, 17, 18, 19, 20, 21, 22, 23, 24, 25, 27, 28, 29, 30, 31, 32, 33, 34, 35, 36, 37, 38, 39, 40, 41, 42, 43, 44, 45, 46, 47, 48, 49, 50, 51, 52, 53, 54, 55, 56, 57, 58, 59, 60, 61, 62, 63, 64, 65, 66, 67, 68, 69, 70, 71, 72, 73, 74, 75, 76, 77, 78, 79, 81, 82, 83, 84, 85, 86, 87, 88, 89, 91, 92, 93, 94, 95, 96, 97, 98, 99, 100, 101, 102], [0, 1, 2, 3, 4, 5, 6, 7, 9, 10, 11, 12, 13, 14, 15, 16, 17, 18, 19, 20, 21, 22, 23, 24, 25, 26, 27, 28, 30, 31, 32, 33, 34, 35, 36, 37, 38, 39, 40, 41, 42, 43, 44, 45, 46, 47, 48, 49, 50, 51, 52, 53, 54, 55, 56, 57, 58, 59, 60, 61, 62, 63, 64, 65, 66, 67, 68, 69, 70, 71, 72, 73, 74, 75, 76, 77, 78, 79, 80, 81, 82, 83, 84, 85, 86, 87, 88, 89, 90, 91, 92, 93, 94, 95, 96, 97, 98, 99, 100, 101], [0, 1, 2, 3, 4, 5, 6, 7, 8, 9, 10, 11, 12, 13, 14, 15, 16, 17, 18, 19, 20, 21, 22, 23, 24, 25, 26, 27, 28, 29, 30, 31, 32, 33, 34, 35, 36, 37, 38, 39, 40, 41, 42, 43, 44, 45, 46, 47, 48, 49, 53, 54, 55, 56, 57, 58, 59, 60, 61, 62, 63, 64, 65, 66, 67, 68, 69, 70, 71, 72, 73, 74, 75, 76, 77, 78, 79, 80, 81, 82, 83, 84, 85, 86, 87, 88, 89, 90, 91, 92, 93, 94, 95, 96, 97, 98, 99, 100, 101, 102], [0, 1, 2, 3, 4, 5, 6, 7, 8, 9, 10, 11, 12, 13, 14, 15, 16, 18, 19, 20, 21, 22, 23, 24, 25, 26, 27, 28, 29, 30, 31, 32, 33, 34, 35, 36, 37, 38, 39, 40, 41, 42, 43, 44, 45, 46, 47, 48, 49, 50, 52, 53, 54, 55, 56, 57, 58, 59, 60, 61, 62, 63, 64, 65, 66, 68, 69, 70, 71, 72, 73, 74, 75, 76, 77, 78, 79, 80, 81, 82, 83, 84, 85, 86, 87, 88, 89, 90, 91, 92, 93, 94, 95, 96, 97, 98, 99, 100, 101, 102], [0, 1, 2, 3, 4, 5, 6, 7, 8, 9, 10, 11, 12, 13, 14, 15, 16, 17, 18, 19, 20, 21, 22, 23, 24, 25, 26, 27, 28, 29, 30, 31, 32, 33, 34, 35, 36, 37, 39, 40, 41, 42, 43, 44, 45, 46, 47, 48, 49, 50, 51, 52, 53, 54, 55, 56, 57, 58, 59, 60, 61, 62, 63, 64, 66, 67, 68, 69, 71, 72, 73, 74, 75, 76, 77, 78, 79, 80, 81, 82, 83, 84, 85, 86, 87, 88, 89, 90, 91, 92, 93, 94, 95, 96, 97, 98, 99, 100, 101, 102], [2, 3, 4, 5, 6, 7, 8, 9, 10, 11, 12, 13, 14, 15, 16, 17, 18, 19, 20, 21, 22, 23, 24, 25, 26, 27, 28, 29, 30, 31, 32, 33, 35, 36, 37, 38, 39, 40, 41, 42, 43, 44, 45, 46, 47, 48, 49, 50, 51, 52, 53, 54, 55, 56, 57, 58, 59, 60, 61, 62, 63, 64, 65, 66, 67, 68, 69, 70, 71, 72, 73, 74, 75, 76, 77, 78, 79, 80, 81, 82, 83, 84, 85, 86, 87, 88, 89, 90, 91, 92, 93, 94, 95, 96, 97, 98, 99, 100, 101, 102], [0, 1, 2, 3, 4, 5, 6, 7, 8, 9, 10, 11, 12, 13, 14, 15, 16, 17, 18, 19, 20, 21, 22, 23, 24, 25, 26, 27, 28, 29, 30, 31, 32, 33, 34, 35, 37, 38, 39, 40, 41, 42, 43, 44, 45, 46, 47, 48, 49, 51, 52, 53, 54, 55, 56, 57, 58, 59, 61, 62, 63, 64, 65, 66, 67, 68, 69, 70, 71, 72, 73, 74, 75, 76, 77, 78, 79, 80, 81, 82, 83, 84, 85, 86, 87, 88, 89, 90, 91, 92, 93, 94, 95, 96, 97, 98, 99, 100, 101, 102], [0, 1, 2, 3, 4, 5, 6, 7, 8, 9, 10, 11, 12, 13, 14, 15, 16, 17, 18, 19, 20, 21, 22, 23, 24, 25, 26, 27, 28, 30, 31, 32, 33, 34, 35, 37, 38, 39, 40, 41, 42, 43, 44, 45, 46, 47, 48, 49, 50, 51, 52, 53, 54, 55, 56, 57, 58, 59, 60, 61, 62, 63, 64, 65, 66, 67, 68, 69, 70, 71, 72, 73, 74, 75, 76, 77, 78, 79, 80, 81, 82, 83, 84, 85, 86, 87, 88, 89, 90, 91, 92, 93, 95, 96, 97, 98, 99, 100, 101, 102], [0, 1, 2, 3, 4, 5, 6, 7, 8, 9, 10, 11, 12, 13, 14, 15, 16, 17, 18, 19, 20, 21, 22, 23, 24, 25, 26, 27, 28, 29, 31, 32, 33, 34, 35, 36, 37, 38, 39, 40, 41, 42, 43, 44, 45, 46, 47, 48, 49, 50, 51, 52, 53, 54, 55, 56, 57, 58, 59, 60, 61, 62, 63, 64, 65, 66, 67, 68, 69, 70, 71, 72, 73, 74, 75, 76, 77, 78, 79, 80, 81, 82, 83, 85, 86, 87, 88, 89, 90, 91, 92, 93, 94, 95, 96, 97, 98, 99, 100, 101], [0, 1, 2, 3, 4, 5, 6, 7, 9, 10, 11, 12, 13, 14, 15, 16, 17, 18, 19, 20, 21, 22, 23, 24, 25, 26, 27, 28, 29, 30, 31, 32, 33, 34, 35, 36, 37, 38, 39, 40, 41, 42, 43, 44, 45, 46, 47, 48, 49, 50, 52, 53, 54, 55, 56, 57, 58, 59, 60, 61, 62, 63, 64, 65, 66, 67, 68, 69, 70, 71, 72, 73, 74, 75, 76, 77, 78, 79, 80, 81, 82, 83, 84, 85, 86, 87, 88, 89, 90, 91, 92, 93, 94, 95, 96, 97, 98, 99, 100, 101], [1, 2, 3, 4, 5, 6, 7, 8, 9, 10, 11, 12, 13, 14, 15, 16, 17, 18, 19, 20, 21, 22, 23, 24, 25, 26, 27, 28, 29, 30, 31, 32, 33, 34, 35, 36, 37, 38, 39, 40, 41, 42, 43, 44, 45, 46, 47, 48, 49, 50, 51, 52, 53, 54, 55, 56, 57, 58, 59, 60, 61, 62, 63, 64, 65, 66, 67, 68, 69, 70, 71, 72, 73, 74, 75, 76, 77, 79, 80, 81, 82, 83, 84, 85, 86, 87, 88, 89, 90, 92, 93, 94, 95, 96, 97, 98, 99, 100, 101, 102], [1, 2, 3, 4, 5, 6, 7, 8, 9, 10, 11, 12, 13, 14, 15, 16, 17, 18, 19, 20, 21, 22, 23, 24, 25, 26, 27, 28, 29, 30, 31, 32, 33, 34, 35, 36, 37, 38, 39, 40, 41, 42, 43, 44, 45, 46, 47, 48, 49, 50, 53, 54, 55, 56, 57, 58, 59, 60, 61, 62, 63, 64, 65, 66, 67, 68, 69, 70, 71, 72, 73, 74, 75, 76, 77, 78, 79, 80, 81, 82, 83, 84, 85, 86, 87, 88, 89, 90, 91, 92, 93, 94, 95, 96, 97, 98, 99, 100, 101, 102]]\n"
          ]
        }
      ]
    },
    {
      "cell_type": "code",
      "source": [
        "def flatten_nested_lists(matrix):\n",
        "    l = []\n",
        "    for row in matrix:\n",
        "        for x in row:\n",
        "            l.append(x)\n",
        "        return l\n",
        "\n",
        "flat_list = flatten_nested_lists(sec_col)\n",
        "print(len(flat_list))\n",
        "print(flat_list)"
      ],
      "metadata": {
        "id": "tbUB6oDRwNEM",
        "colab": {
          "base_uri": "https://localhost:8080/"
        },
        "outputId": "46434dd9-a3ab-4f79-f7d5-14dfad26cd88"
      },
      "execution_count": null,
      "outputs": [
        {
          "output_type": "stream",
          "name": "stdout",
          "text": [
            "100\n",
            "[1, 2, 3, 4, 5, 6, 7, 8, 9, 10, 11, 12, 13, 14, 15, 16, 17, 18, 19, 20, 21, 22, 23, 24, 25, 26, 27, 28, 29, 30, 31, 32, 33, 34, 35, 36, 37, 38, 40, 41, 42, 43, 44, 45, 46, 47, 48, 49, 50, 51, 52, 53, 54, 55, 56, 57, 58, 59, 60, 61, 62, 63, 64, 65, 66, 67, 68, 69, 70, 71, 72, 73, 74, 75, 76, 77, 78, 79, 80, 81, 82, 83, 84, 85, 86, 87, 88, 89, 90, 91, 92, 93, 94, 95, 96, 97, 98, 99, 100, 101]\n"
          ]
        }
      ]
    },
    {
      "cell_type": "code",
      "source": [
        "X_new = np.zeros((X_train.shape[0], 100))\n",
        "X_new_test = np.zeros((X_test.shape[0], 100))\n",
        "print(X_new.shape)\n",
        "for i, v in enumerate(flat_list):\n",
        "    X_new[:,i] = X_train[:, v]\n",
        "    X_new_test[:, i] = X_test[:, v]"
      ],
      "metadata": {
        "id": "q6p8WyFawNG3",
        "colab": {
          "base_uri": "https://localhost:8080/"
        },
        "outputId": "c0af6a69-71b7-4129-8314-8d98c4451c5c"
      },
      "execution_count": null,
      "outputs": [
        {
          "output_type": "stream",
          "name": "stdout",
          "text": [
            "(1691, 100)\n"
          ]
        }
      ]
    },
    {
      "cell_type": "code",
      "source": [
        "X_train = X_new\n",
        "X_test = X_new_test"
      ],
      "metadata": {
        "id": "n4WJs3Y6wGEt"
      },
      "execution_count": null,
      "outputs": []
    },
    {
      "cell_type": "code",
      "source": [
        "def accuracy_score(y_test, y_pred):\n",
        "    # y_pred is a numpy array, y_test is a dataframe\n",
        "    # to compare the two, convert to a single type\n",
        "    #y_test = y_test.to_numpy()\n",
        "    \n",
        "    # shape of test and preds must be equal\n",
        "    assert y_test.shape == y_pred.shape\n",
        "    i=0\n",
        "    # list of scores for each training sample\n",
        "    scores = []\n",
        "    \n",
        "    # for each test sample\n",
        "    while i < len(y_test):\n",
        "        count=0\n",
        "        # count the number of matches in the sample\n",
        "        # y_test[i] -> row values in test set (true values)\n",
        "        # y_pred[i] -> row values in predictions set (predicted values)\n",
        "        for p, q in zip(y_test[i], y_pred[i]):\n",
        "            if p == q:\n",
        "                count += 1\n",
        "\n",
        "        # accuracy score for the sample = no. of correctly predicted labels/total no. of labels\n",
        "        scores.append(count / y_pred.shape[1])\n",
        "        i+=1 \n",
        "\n",
        "    # final accuracy = avg. accuracy over all test samples =\n",
        "    # sum of the accuracy of all training samples/no. of training samples\n",
        "    return round((sum(scores)/len(y_test)), 5)"
      ],
      "metadata": {
        "id": "2b7a3kvcZybQ"
      },
      "execution_count": null,
      "outputs": []
    },
    {
      "cell_type": "code",
      "source": [
        "dummy_clf = DummyClassifier(strategy=\"most_frequent\")\n",
        "dummy_clf.fit(X_train, y_train)\n",
        "\n",
        "dummy_clf.fit(X_train, y_train)\n",
        "predictions = dummy_clf.predict(X_test)\n",
        "print('The hamming_loss of Dummy Classifier is %f' % hamming_loss(y_test, predictions))\n",
        "print('The subset_acc of Dummy Classifier is %f' % subset_acc(y_test, predictions))\n",
        "print('zero-one-loss of Dummy Classifier is %f'% zero_one_loss(y_test, predictions))\n",
        "print('The F_beta Result is %f' % F_beta(y_test, predictions))\n",
        "print('acc-score is %f ' % accuracy_score(y_test, predictions))\n",
        "print('The F1 Result is %f' % f1_score(y_test, predictions, average=\"macro\"))\n",
        "\n",
        "classif = BinaryRelevance()\n",
        "classif.fit(X_train, y_train)\n",
        "predictions = classif.predict(X_test)\n",
        "print('The hamming_loss of BR is %f' % hamming_loss(y_test, predictions))\n",
        "print('The subset_acc of BR is %f' % subset_acc(y_test, predictions))\n",
        "print('zero-one-loss of BR is %f'% zero_one_loss(y_test, predictions))\n",
        "print('The F_beta Result of BR is %f' % F_beta(y_test, predictions))\n",
        "print('acc-score of BR is %f ' % accuracy_score(y_test, predictions))\n",
        "print('The F1 Result BR is %f' % f1_score(y_test, predictions, average=\"macro\"))\n",
        "\n",
        "\n",
        "classif = ClassifierChain()\n",
        "classif.fit(X_train, y_train)\n",
        "predictions = classif.predict(X_test)\n",
        "print('The hamming_loss of CC is %f' % hamming_loss(y_test, predictions))\n",
        "print('The subset_acc of Classifier Chain is %f' % subset_acc(y_test, predictions))\n",
        "print('zero-one-loss of Classifier Chain is %f'% zero_one_loss(y_test, predictions))\n",
        "print('The F_beta Result of Classifier Chain is %f' % F_beta(y_test, predictions))\n",
        "print('acc-score of Classifier Chain is %f ' % accuracy_score(y_test, predictions))\n",
        "print('The F1 Result is %f' % f1_score(y_test, predictions, average=\"macro\"))\n",
        "\n",
        "classif = CalibratedLabelRanking()\n",
        "classif.fit(X_train, y_train)\n",
        "predictions = classif.predict(X_test)\n",
        "print('The hamming_loss of CalibratedLabelRanking is %f' % hamming_loss(y_test, predictions))\n",
        "print('The subset_acc of CalibratedLabelRanking is %f' % subset_acc(y_test, predictions))\n",
        "print('zero-one-loss of CalibratedLabelRanking is %f'% zero_one_loss(y_test, predictions))\n",
        "print('The F_beta Result of CalibratedLabelRanking is %f' % F_beta(y_test, predictions))\n",
        "print('acc-score of CalibratedLabelRanking is %f ' % accuracy_score(y_test, predictions))\n",
        "print('The F1 Result is %f' % f1_score(y_test, predictions, average=\"macro\"))\n",
        "\n",
        "classif = RandomKLabelsets()\n",
        "classif.fit(X_train, y_train)\n",
        "predictions = classif.predict(X_test)\n",
        "print('The hamming_loss of Random K-Labelsets is %f' % hamming_loss(y_test, predictions))\n",
        "print('The subset_acc of Random K-Labelsets is %f' % subset_acc(y_test, predictions))\n",
        "print('zero-one-loss of RandomKLabelsets is %f'% zero_one_loss(y_test, predictions))\n",
        "print('The F_beta Result of RandomKLabelsets is %f' % F_beta(y_test, predictions))\n",
        "print('acc-score of RandomKLabelsets is %f ' % accuracy_score(y_test, predictions))\n",
        "print('The F1 Result is %f' % f1_score(y_test, predictions, average=\"macro\"))\n"
      ],
      "metadata": {
        "id": "w4BALt_ZwGIb",
        "colab": {
          "base_uri": "https://localhost:8080/"
        },
        "outputId": "1de83316-1359-403c-a2ef-d3034e23f9ba"
      },
      "execution_count": null,
      "outputs": [
        {
          "output_type": "stream",
          "name": "stdout",
          "text": [
            "The hamming_loss of Dummy Classifier is 0.238818\n",
            "The subset_acc of Dummy Classifier is 0.012414\n",
            "zero-one-loss of Dummy Classifier is 0.987586\n",
            "The F_beta Result is 0.438496\n",
            "acc-score is 0.761180 \n",
            "The F1 Result is 0.119067\n",
            "The hamming_loss of CalibratedLabelRanking is 0.214286\n",
            "The subset_acc of CalibratedLabelRanking is 0.188966\n",
            "zero-one-loss of CalibratedLabelRanking is 0.811034\n",
            "The F_beta Result of CalibratedLabelRanking is 0.602623\n",
            "acc-score of CalibratedLabelRanking is 0.785710 \n",
            "The F1 Result is 0.357900\n",
            "The hamming_loss of CalibratedLabelRanking is 0.205517\n",
            "The subset_acc of CalibratedLabelRanking is 0.143448\n",
            "zero-one-loss of CalibratedLabelRanking is 0.856552\n",
            "The F_beta Result of CalibratedLabelRanking is 0.612894\n",
            "acc-score of CalibratedLabelRanking is 0.794480 \n",
            "The F1 Result is 0.324440\n",
            "The hamming_loss of Random K-Labelsets is 0.205419\n",
            "The subset_acc of Random K-Labelsets is 0.186207\n",
            "zero-one-loss of RandomKLabelsets is 0.813793\n",
            "The F_beta Result of RandomKLabelsets is 0.626598\n",
            "acc-score of RandomKLabelsets is 0.794580 \n",
            "The F1 Result is 0.344099\n"
          ]
        }
      ]
    },
    {
      "cell_type": "code",
      "source": [],
      "metadata": {
        "id": "lUVDAZ3sfpJ1"
      },
      "execution_count": null,
      "outputs": []
    },
    {
      "cell_type": "code",
      "source": [],
      "metadata": {
        "id": "yrx9ALLvfpMg"
      },
      "execution_count": null,
      "outputs": []
    },
    {
      "cell_type": "markdown",
      "source": [],
      "metadata": {
        "id": "uVep_vvblW-q"
      }
    },
    {
      "cell_type": "code",
      "source": [
        "# Read the CSV file\n",
        "X = pd.read_csv(data_path)\n",
        "\n",
        "\n",
        "header = []\n",
        "\n",
        "for i in range(1, X.shape[1]+1):\n",
        "    header.append('Att'+str(i))\n",
        "print(header)\n",
        "X.to_csv(\"enron_data.csv\", header=header, index=False)\n",
        "\n",
        "X = pd.read_csv('enron_data.csv')\n",
        "\n",
        "print(\"Dataset.shape: \" + str(X.shape))\n",
        "y = pd.read_csv(label_path)\n",
        "\n",
        "header = []\n",
        "\n",
        "for i in range(1, y.shape[1]+1):\n",
        "    header.append('Class'+str(i))\n",
        "print(header)\n",
        "\n",
        "y.to_csv(\"enron_label.csv\", header=header, index=False)\n",
        "\n",
        "y = pd.read_csv('enron_label.csv')\n",
        "\n",
        "\n",
        "print(\"X.shape: \" + str(X.shape))\n",
        "display(X.head())\n",
        "print(\"y.shape: \" + str(y.shape))\n",
        "display(y.head())\n",
        "print(\"Descriptive stats:\")\n",
        "X.describe()\n",
        "\n",
        "# Normalise the data\n",
        "X = (X-X.min())/(X.max()-X.min())\n",
        "\n",
        "# split into train and test\n",
        "X_train, X_test, y_train, y_test = train_test_split(X, y, random_state=0, train_size=0.7)\n",
        "\n",
        "print(\"X_train.shape: \" + str(X_train.shape))\n",
        "print(\"X_test.shape: \" + str(X_test.shape))\n",
        "print(\"y_train.shape: \" + str(y_train.shape))\n",
        "print(\"y_test.shape: \" + str(y_test.shape))"
      ],
      "metadata": {
        "colab": {
          "base_uri": "https://localhost:8080/",
          "height": 237
        },
        "id": "fO-dbkHR1K81",
        "outputId": "0e568eb8-a0cd-4cb8-cd26-f469a64f7dc0"
      },
      "execution_count": null,
      "outputs": [
        {
          "output_type": "error",
          "ename": "NameError",
          "evalue": "ignored",
          "traceback": [
            "\u001b[0;31m---------------------------------------------------------------------------\u001b[0m",
            "\u001b[0;31mNameError\u001b[0m                                 Traceback (most recent call last)",
            "\u001b[0;32m<ipython-input-1-f5997cea261b>\u001b[0m in \u001b[0;36m<module>\u001b[0;34m\u001b[0m\n\u001b[1;32m      1\u001b[0m \u001b[0;31m# Read the CSV file\u001b[0m\u001b[0;34m\u001b[0m\u001b[0;34m\u001b[0m\u001b[0;34m\u001b[0m\u001b[0m\n\u001b[0;32m----> 2\u001b[0;31m \u001b[0mX\u001b[0m \u001b[0;34m=\u001b[0m \u001b[0mpd\u001b[0m\u001b[0;34m.\u001b[0m\u001b[0mread_csv\u001b[0m\u001b[0;34m(\u001b[0m\u001b[0mdata_path\u001b[0m\u001b[0;34m)\u001b[0m\u001b[0;34m\u001b[0m\u001b[0;34m\u001b[0m\u001b[0m\n\u001b[0m\u001b[1;32m      3\u001b[0m \u001b[0;34m\u001b[0m\u001b[0m\n\u001b[1;32m      4\u001b[0m \u001b[0;34m\u001b[0m\u001b[0m\n\u001b[1;32m      5\u001b[0m \u001b[0mheader\u001b[0m \u001b[0;34m=\u001b[0m \u001b[0;34m[\u001b[0m\u001b[0;34m]\u001b[0m\u001b[0;34m\u001b[0m\u001b[0;34m\u001b[0m\u001b[0m\n",
            "\u001b[0;31mNameError\u001b[0m: name 'pd' is not defined"
          ]
        }
      ]
    },
    {
      "cell_type": "code",
      "source": [
        "X_train, y_train, X_test, y_test = X_train.to_numpy(), y_train.to_numpy(), X_test.to_numpy(), y_test.to_numpy()"
      ],
      "metadata": {
        "id": "aRbZDNGU1LOS"
      },
      "execution_count": null,
      "outputs": []
    },
    {
      "cell_type": "code",
      "source": [
        "# list of base models\n",
        "base_models = [DecisionTreeClassifier(criterion='entropy', max_depth=15, min_samples_leaf=2),\n",
        "               RandomForestClassifier(criterion='entropy'),\n",
        "               LogisticRegression(max_iter=20000), GaussianNB(), KNeighborsClassifier(), SVC()]\n",
        "base_model_names = [\"Decision Tree\", \"Random Forest\", \"Logistic Regression\", \"GaussianNB\", \"kNN\", \"SVM\"]\n",
        "\n",
        "cc_accuracies = dict()\n",
        "cc_f1 = dict()\n",
        "cc_hamming = dict()\n",
        "\n",
        "i=0\n",
        "for clf in base_models:\n",
        "    \n",
        "    cc = RandomKLabelsets(clf)\n",
        "    cc.fit(X_train, y_train)\n",
        "    cc_pred = cc.predict(X_test)\n",
        "    # accuracy score\n",
        "    accuracy = accuracy_score(y_test, cc_pred)\n",
        "    cc_accuracies[base_model_names[i]] = accuracy\n",
        "    # F1 score\n",
        "    cc_f1_score = metrics.f1_score(y_test, pd.DataFrame(cc_pred), average='macro')\n",
        "    cc_f1[base_model_names[i]] = cc_f1_score\n",
        "    # hamming loss\n",
        "    hamming = hamming_loss(y_test, cc_pred)\n",
        "    cc_hamming[base_model_names[i]] = hamming\n",
        "\n",
        "    i+=1\n",
        "\n",
        "print(\"====================RandomKLabelsets Accuracy====================\")\n",
        "display(cc_accuracies)\n",
        "print(\"===================RandomKLabelsets F1 Scores====================\")\n",
        "display(cc_f1)\n",
        "print(\"===================RandomKLabelsets Hamming Loss Scores====================\")\n",
        "display(cc_hamming)"
      ],
      "metadata": {
        "colab": {
          "base_uri": "https://localhost:8080/",
          "height": 382
        },
        "id": "pxdaViCMXRcs",
        "outputId": "2aa54d6b-44fe-44c2-f280-48423cb98895"
      },
      "execution_count": null,
      "outputs": [
        {
          "output_type": "stream",
          "name": "stdout",
          "text": [
            "====================RandomKLabelsets Accuracy====================\n"
          ]
        },
        {
          "output_type": "display_data",
          "data": {
            "text/plain": [
              "{'Decision Tree': 0.76256,\n",
              " 'Random Forest': 0.79389,\n",
              " 'Logistic Regression': 0.78532,\n",
              " 'GaussianNB': 0.71113,\n",
              " 'kNN': 0.77734,\n",
              " 'SVM': 0.79773}"
            ]
          },
          "metadata": {}
        },
        {
          "output_type": "stream",
          "name": "stdout",
          "text": [
            "===================RandomKLabelsets F1 Scores====================\n"
          ]
        },
        {
          "output_type": "display_data",
          "data": {
            "text/plain": [
              "{'Decision Tree': 0.3227284172701236,\n",
              " 'Random Forest': 0.35400214742276226,\n",
              " 'Logistic Regression': 0.3527910618504751,\n",
              " 'GaussianNB': 0.4387325555622241,\n",
              " 'kNN': 0.3802160697698428,\n",
              " 'SVM': 0.34668815834432926}"
            ]
          },
          "metadata": {}
        },
        {
          "output_type": "stream",
          "name": "stdout",
          "text": [
            "===================RandomKLabelsets Hamming Loss Scores====================\n"
          ]
        },
        {
          "output_type": "display_data",
          "data": {
            "text/plain": [
              "{'Decision Tree': 0.2374384236453202,\n",
              " 'Random Forest': 0.20610837438423646,\n",
              " 'Logistic Regression': 0.21467980295566502,\n",
              " 'GaussianNB': 0.28886699507389163,\n",
              " 'kNN': 0.22266009852216748,\n",
              " 'SVM': 0.20226600985221674}"
            ]
          },
          "metadata": {}
        }
      ]
    },
    {
      "cell_type": "code",
      "source": [
        "print('max value with key:', max(zip(cc_accuracies.values(), cc_accuracies.keys())))"
      ],
      "metadata": {
        "colab": {
          "base_uri": "https://localhost:8080/"
        },
        "id": "dOYBYis0mDoh",
        "outputId": "9f3cb37f-9f6a-494a-9457-7669a28821bb"
      },
      "execution_count": null,
      "outputs": [
        {
          "output_type": "stream",
          "name": "stdout",
          "text": [
            "max value with key: (0.79773, 'SVM')\n"
          ]
        }
      ]
    },
    {
      "cell_type": "code",
      "source": [
        "# Gini as entropy\n",
        "base_models = [DecisionTreeClassifier(criterion='entropy', max_depth=15, min_samples_leaf=2),DecisionTreeClassifier(criterion='gini', max_depth=15, min_samples_leaf=2) ,\n",
        "               RandomForestClassifier(criterion='entropy'),\n",
        "               LogisticRegression(max_iter=20000), GaussianNB(), KNeighborsClassifier(), SVC()]\n",
        "base_model_names = [\"Decision Tree\", \"Decision Tree Gini\" ,\"Random Forest\", \"Logistic Regression\", \"GaussianNB\", \"kNN\", \"SVM\"]\n",
        "\n",
        "cc_accuracies = dict()\n",
        "cc_f1 = dict()\n",
        "cc_hamming = dict()\n",
        "\n",
        "i=0\n",
        "for clf in base_models:\n",
        "    #cc = ClassifierChains(clf, order=best['order'])\n",
        "    cc = RandomKLabelsets(clf)\n",
        "    cc.fit(X_train, y_train)\n",
        "    cc_pred = cc.predict(X_test)\n",
        "    # accuracy score\n",
        "    accuracy = accuracy_score(y_test, cc_pred)\n",
        "    cc_accuracies[base_model_names[i]] = accuracy\n",
        "    # F1 score\n",
        "    cc_f1_score = metrics.f1_score(y_test, pd.DataFrame(cc_pred), average='macro')\n",
        "    cc_f1[base_model_names[i]] = cc_f1_score\n",
        "    # hamming\n",
        "    hamming = hamming_loss(y_test, cc_pred)\n",
        "    cc_hamming[base_model_names[i]] = hamming\n",
        "    i+=1\n",
        "\n",
        "print(\"====================RandomKLabelsets Accuracy====================\")\n",
        "display(cc_accuracies)\n",
        "print(\"===================RandomKLabelsets F1 Scores====================\")\n",
        "display(cc_f1)"
      ],
      "metadata": {
        "colab": {
          "base_uri": "https://localhost:8080/",
          "height": 295
        },
        "id": "Qok0pnX_X0K6",
        "outputId": "9c275a32-1410-4a21-ba3a-19754a785c23"
      },
      "execution_count": null,
      "outputs": [
        {
          "output_type": "stream",
          "name": "stdout",
          "text": [
            "====================RandomKLabelsets Accuracy====================\n"
          ]
        },
        {
          "output_type": "display_data",
          "data": {
            "text/plain": [
              "{'Decision Tree': 0.76768,\n",
              " 'Decision Tree Gini': 0.76975,\n",
              " 'Random Forest': 0.79842,\n",
              " 'Logistic Regression': 0.78631,\n",
              " 'GaussianNB': 0.69941,\n",
              " 'kNN': 0.77665,\n",
              " 'SVM': 0.79596}"
            ]
          },
          "metadata": {}
        },
        {
          "output_type": "stream",
          "name": "stdout",
          "text": [
            "===================RandomKLabelsets F1 Scores====================\n"
          ]
        },
        {
          "output_type": "display_data",
          "data": {
            "text/plain": [
              "{'Decision Tree': 0.3217318779311745,\n",
              " 'Decision Tree Gini': 0.33096494570826307,\n",
              " 'Random Forest': 0.3536695760134327,\n",
              " 'Logistic Regression': 0.361919641204045,\n",
              " 'GaussianNB': 0.437434681516474,\n",
              " 'kNN': 0.38448270272221385,\n",
              " 'SVM': 0.33970914743358216}"
            ]
          },
          "metadata": {}
        }
      ]
    },
    {
      "cell_type": "code",
      "source": [
        "# list of base models\n",
        "base_models = [DecisionTreeClassifier(criterion='entropy', max_depth=15, min_samples_leaf=2),\n",
        "               RandomForestClassifier(criterion='entropy'),\n",
        "               LogisticRegression(max_iter=20000), GaussianNB(), KNeighborsClassifier(), SVC()]\n",
        "base_model_names = [\"Decision Tree\", \"Random Forest\", \"Logistic Regression\", \"GaussianNB\", \"kNN\", \"SVM\"]\n",
        "\n",
        "cc_accuracies = dict()\n",
        "cc_f1 = dict()\n",
        "cc_hamming = dict()\n",
        "\n",
        "i=0\n",
        "for clf in base_models:\n",
        "\n",
        "    cc = CalibratedLabelRanking(clf)\n",
        "    cc.fit(X_train, y_train)\n",
        "    cc_pred = cc.predict(X_test)\n",
        "    # accuracy score\n",
        "    accuracy = accuracy_score(y_test, cc_pred)\n",
        "    cc_accuracies[base_model_names[i]] = accuracy\n",
        "    # F1 score\n",
        "    cc_f1_score = metrics.f1_score(y_test, pd.DataFrame(cc_pred), average='macro')\n",
        "    cc_f1[base_model_names[i]] = cc_f1_score\n",
        "    # Hamming\n",
        "    hamming = hamming_loss(y_test, cc_pred)\n",
        "    cc_hamming[base_model_names[i]] = hamming\n",
        "    i+=1\n",
        "\n",
        "print(\"====================CLR Accuracy====================\")\n",
        "display(cc_accuracies)\n",
        "print(\"===================CLR F1 Scores====================\")\n",
        "display(cc_f1)\n",
        "print(\"====================CLR Hamming Loss====================\")\n",
        "display(cc_hamming)"
      ],
      "metadata": {
        "id": "l5c4K-FaX0OL",
        "colab": {
          "base_uri": "https://localhost:8080/",
          "height": 382
        },
        "outputId": "7c8f4aad-16f4-47b6-c825-6b4dd8419a97"
      },
      "execution_count": null,
      "outputs": [
        {
          "output_type": "stream",
          "name": "stdout",
          "text": [
            "====================CLR Accuracy====================\n"
          ]
        },
        {
          "output_type": "display_data",
          "data": {
            "text/plain": [
              "{'Decision Tree': 0.76158,\n",
              " 'Random Forest': 0.79468,\n",
              " 'Logistic Regression': 0.78532,\n",
              " 'GaussianNB': 0.68867,\n",
              " 'kNN': 0.78631,\n",
              " 'SVM': 0.79537}"
            ]
          },
          "metadata": {}
        },
        {
          "output_type": "stream",
          "name": "stdout",
          "text": [
            "===================CLR F1 Scores====================\n"
          ]
        },
        {
          "output_type": "display_data",
          "data": {
            "text/plain": [
              "{'Decision Tree': 0.3494104664458881,\n",
              " 'Random Forest': 0.3283483614712321,\n",
              " 'Logistic Regression': 0.3337487074214078,\n",
              " 'GaussianNB': 0.4319639759881852,\n",
              " 'kNN': 0.40129635355831345,\n",
              " 'SVM': 0.3267194329097088}"
            ]
          },
          "metadata": {}
        },
        {
          "output_type": "stream",
          "name": "stdout",
          "text": [
            "====================CLR Hamming Loss====================\n"
          ]
        },
        {
          "output_type": "display_data",
          "data": {
            "text/plain": [
              "{'Decision Tree': 0.23842364532019705,\n",
              " 'Random Forest': 0.20532019704433496,\n",
              " 'Logistic Regression': 0.21467980295566502,\n",
              " 'GaussianNB': 0.31133004926108376,\n",
              " 'kNN': 0.21369458128078817,\n",
              " 'SVM': 0.20463054187192117}"
            ]
          },
          "metadata": {}
        }
      ]
    },
    {
      "cell_type": "code",
      "source": [],
      "metadata": {
        "id": "TqFF9H0LX0RX"
      },
      "execution_count": null,
      "outputs": []
    },
    {
      "cell_type": "code",
      "source": [],
      "metadata": {
        "id": "BwMN7CQWX0W2"
      },
      "execution_count": null,
      "outputs": []
    },
    {
      "cell_type": "markdown",
      "source": [
        "#Sklearn multilabel classification package "
      ],
      "metadata": {
        "id": "DzKxUU8iC4Fd"
      }
    },
    {
      "cell_type": "code",
      "source": [
        "from skmultilearn.problem_transform import ClassifierChain\n",
        "from sklearn.model_selection import GridSearchCV\n",
        "from sklearn.naive_bayes import MultinomialNB\n",
        "from sklearn.svm import SVC\n",
        "\n",
        "parameters = [\n",
        "    {\n",
        "        'classifier': [MultinomialNB()],\n",
        "        'classifier__alpha': [0.7, 1.0],\n",
        "    },\n",
        "    {\n",
        "        'classifier': [SVC()],\n",
        "        'classifier__kernel': ['rbf', 'linear', 'poly', 'sigmoid'],\n",
        "        'classifier__C': [0.2, 0.5, 0.7, 0.8, 1],\n",
        "        'classifier__gamma': ['scale', 'auto']\n",
        "    },\n",
        "    {\n",
        "        'classifier': [RandomForestClassifier()],\n",
        "        'classifier__criterion': ['gini', 'entropy'],\n",
        "        'classifier__n_estimators': [10, 20, 30, 40, 50, 80, 150, 200],\n",
        "        'classifier__max_features': ['sqrt', 'log'],\n",
        "    },\n",
        "    {\n",
        "        'classifier': [DecisionTreeClassifier()],\n",
        "        'classifier__criterion': ['gini', 'entropy', 'log_loss'],\n",
        "        \n",
        "    }, \n",
        "    {\n",
        "        'classifier': [KNeighborsClassifier()],\n",
        "        'classifier__algorithm': ['auto', 'ball_tree', 'kd_tree', 'brute'],\n",
        "        'classifier__metric': ['minkowski'],\n",
        "        'classifier__n_neighbors': [3, 4, 5, 8, 10],\n",
        "        'classifier__weights': ['uniform', 'distance'],\n",
        "     \n",
        "    },\n",
        "]\n",
        "\n",
        "from sklearn.model_selection import KFold\n",
        "\n",
        "kf = KFold(n_splits=10)\n",
        "for train_index, test_index in kf.split(X, y):\n",
        "    X_train, X_test = X.iloc[train_index], X.iloc[test_index]\n",
        "    y_train, y_test = y.iloc[train_index], y.iloc[test_index]\n",
        "\n",
        "\n",
        "clf = GridSearchCV(ClassifierChain(), parameters, scoring='accuracy')\n",
        "clf.fit(X_train, y_train)\n",
        "\n",
        "print (clf.best_params_, clf.best_score_)"
      ],
      "metadata": {
        "colab": {
          "base_uri": "https://localhost:8080/"
        },
        "id": "WRw-wzUPE9Hc",
        "outputId": "ce58808f-d393-4747-97c8-6aee5709945c"
      },
      "execution_count": null,
      "outputs": [
        {
          "output_type": "stream",
          "name": "stdout",
          "text": [
            "{'classifier': KNeighborsClassifier(n_neighbors=8, weights='distance'), 'classifier__algorithm': 'auto', 'classifier__metric': 'minkowski', 'classifier__n_neighbors': 8, 'classifier__weights': 'distance'} 0.23954022988505747\n"
          ]
        }
      ]
    },
    {
      "cell_type": "code",
      "source": [
        "predictions = clf.predict(X_test)\n",
        "print\n",
        "print('zero-one-loss is %f'% zero_one_loss(y_test, predictions))\n",
        "print('hamming-loss is %f'% metrics.hamming_loss(y_test, predictions))\n",
        "print('Accuracy Score  is %f' % metrics.accuracy_score(y_test, predictions))\n",
        "print('F1_score is %f' % f1_score(y_test, predictions, average='macro'))\n",
        "print('The F_beta Result of RandomKLabelsets is %f' % metrics.fbeta_score(y_test, predictions, average='macro', beta=0.5))"
      ],
      "metadata": {
        "id": "6HmoJW77dYPm",
        "colab": {
          "base_uri": "https://localhost:8080/"
        },
        "outputId": "7fe77bfd-ec8c-44cd-fdd7-12345fd45648"
      },
      "execution_count": null,
      "outputs": [
        {
          "output_type": "stream",
          "name": "stdout",
          "text": [
            "zero-one-loss is 0.734440\n",
            "hamming-loss is 0.209544\n",
            "Accuracy Score  is 0.265560\n",
            "F1_score is 0.438836\n",
            "The F_beta Result of RandomKLabelsets is 0.451170\n"
          ]
        }
      ]
    },
    {
      "cell_type": "code",
      "source": [],
      "metadata": {
        "id": "77rnQeto6a7M"
      },
      "execution_count": null,
      "outputs": []
    },
    {
      "cell_type": "code",
      "source": [
        "from skmultilearn.problem_transform import BinaryRelevance\n",
        "\n",
        "from sklearn.model_selection import GridSearchCV\n",
        "from sklearn.naive_bayes import MultinomialNB\n",
        "from sklearn.ensemble import RandomForestClassifier\n",
        "\n",
        "parameters = [\n",
        "    {\n",
        "        'classifier': [MultinomialNB()],\n",
        "        'classifier__alpha': [0.7, 1.0],\n",
        "    },\n",
        "    {\n",
        "        'classifier': [SVC()],\n",
        "        'classifier__kernel': ['rbf', 'linear', 'poly', 'sigmoid'],\n",
        "        'classifier__C': [0.2, 0.5, 0.7, 0.8, 1],\n",
        "        'classifier__gamma': ['scale', 'auto']\n",
        "    },\n",
        "    {\n",
        "        'classifier': [RandomForestClassifier()],\n",
        "        'classifier__criterion': ['gini', 'entropy'],\n",
        "        'classifier__n_estimators': [10, 20, 30, 40, 50, 80, 150, 200],\n",
        "        'classifier__max_features': ['sqrt', 'log'],\n",
        "    },\n",
        "    {\n",
        "        'classifier': [DecisionTreeClassifier()],\n",
        "        'classifier__criterion': ['gini', 'entropy', 'log_loss'],\n",
        "    }, \n",
        "    {\n",
        "        'classifier': [KNeighborsClassifier()],\n",
        "        'classifier__algorithm': ['auto', 'ball_tree', 'kd_tree', 'brute'],\n",
        "        'classifier__metric': ['minkowski'],\n",
        "        'classifier__n_neighbors': [3, 4, 5, 8, 10],\n",
        "        'classifier__weights': ['uniform', 'distance'],\n",
        "     \n",
        "    },\n",
        "]\n",
        "\n",
        "from sklearn.model_selection import KFold\n",
        "\n",
        "kf = KFold(n_splits=10)\n",
        "print(type(X))\n",
        "print(type(y))\n",
        "for train_index, test_index in kf.split(X.to_numpy(), y.to_numpy()):\n",
        "    X_train, X_test = X.iloc[train_index], X.iloc[test_index]\n",
        "    y_train, y_test = y.iloc[train_index], y.iloc[test_index]\n",
        "\n",
        "clf = GridSearchCV(BinaryRelevance(), parameters, scoring='accuracy')\n",
        "clf.fit(X_train, y_train)\n",
        "\n",
        "print (clf.best_params_, clf.best_score_)"
      ],
      "metadata": {
        "colab": {
          "base_uri": "https://localhost:8080/"
        },
        "id": "QZya7nGbcCfu",
        "outputId": "88c02a81-1978-4cb1-c3c2-0ed4cf76cfa1"
      },
      "execution_count": null,
      "outputs": [
        {
          "output_type": "stream",
          "name": "stdout",
          "text": [
            "<class 'pandas.core.frame.DataFrame'>\n",
            "<class 'pandas.core.frame.DataFrame'>\n",
            "{'classifier': MultinomialNB(alpha=0.7), 'classifier__alpha': 0.7} 0.013793103448275862\n"
          ]
        }
      ]
    },
    {
      "cell_type": "code",
      "source": [
        "import sklearn.metrics as metrics\n",
        "\n",
        "#metrics.hamming_loss(y_test, prediction)\n",
        "predictions = clf.predict(X_test)\n",
        "print('zero-one-loss is %f'% zero_one_loss(y_test.to_numpy(), predictions))\n",
        "#print(predictions)\n",
        "print('hamming-loss is %f'% metrics.hamming_loss(y_test, predictions))\n",
        "#print('Accuracy Score  is %f' % accuracy_score(y_test, predictions))\n",
        "print('F1_score is %f' % f1_score(y_test, predictions, average='macro'))\n",
        "#print('The F_beta Result of RandomKLabelsets is %f' % F_beta(y_test.to_numpy(), predictions))"
      ],
      "metadata": {
        "id": "sDFrnO5ZdA45",
        "colab": {
          "base_uri": "https://localhost:8080/"
        },
        "outputId": "08ca7741-202f-4350-d0e2-c5b16d72c2fa"
      },
      "execution_count": null,
      "outputs": [
        {
          "output_type": "stream",
          "name": "stdout",
          "text": [
            "zero-one-loss is 0.983402\n",
            "hamming-loss is 0.225252\n",
            "F1_score is 0.137457\n"
          ]
        }
      ]
    },
    {
      "cell_type": "code",
      "source": [
        "from skmultilearn.problem_transform import LabelPowerset\n",
        "from sklearn.model_selection import GridSearchCV\n",
        "from sklearn.naive_bayes import MultinomialNB\n",
        "from sklearn.ensemble import RandomForestClassifier\n",
        "\n",
        "parameters = [\n",
        "    {\n",
        "        'classifier': [MultinomialNB()],\n",
        "        'classifier__alpha': [0.7, 1.0],\n",
        "    },\n",
        "    {\n",
        "        'classifier': [SVC()],\n",
        "        'classifier__kernel': ['rbf', 'linear', 'poly', 'sigmoid'],\n",
        "        'classifier__C': [0.2, 0.5, 0.7, 0.8, 1],\n",
        "        'classifier__gamma': ['scale', 'auto']\n",
        "    },\n",
        "    {\n",
        "        'classifier': [RandomForestClassifier()],\n",
        "        'classifier__criterion': ['gini', 'entropy'],\n",
        "        'classifier__n_estimators': [10, 20, 30, 40, 50, 80, 150, 200],\n",
        "        'classifier__max_features': ['sqrt', 'log'],\n",
        "    },\n",
        "    {\n",
        "        'classifier': [DecisionTreeClassifier()],\n",
        "        'classifier__criterion': ['gini', 'entropy', 'log_loss'],\n",
        "    }, \n",
        "    {\n",
        "        'classifier': [KNeighborsClassifier()],\n",
        "        'classifier__algorithm': ['auto', 'ball_tree', 'kd_tree', 'brute'],\n",
        "        'classifier__metric': ['minkowski'],\n",
        "        'classifier__n_neighbors': [3, 4, 5, 8, 10],\n",
        "        'classifier__weights': ['uniform', 'distance'],\n",
        "     \n",
        "    },\n",
        "]\n",
        "\n",
        "from sklearn.model_selection import KFold\n",
        "\n",
        "kf = KFold(n_splits=10)\n",
        "print(type(X))\n",
        "print(type(y))\n",
        "for train_index, test_index in kf.split(X.to_numpy(), y.to_numpy()):\n",
        "    X_train, X_test = X.iloc[train_index], X.iloc[test_index]\n",
        "    y_train, y_test = y.iloc[train_index], y.iloc[test_index]\n",
        "\n",
        "clf = GridSearchCV(LabelPowerset(), parameters, scoring='accuracy')\n",
        "clf.fit(X_train, y_train)\n",
        "\n",
        "print (clf.best_params_, clf.best_score_)"
      ],
      "metadata": {
        "id": "ZQcSMnLfX0d6",
        "colab": {
          "base_uri": "https://localhost:8080/"
        },
        "outputId": "186d9d61-b6fc-4c6c-dab7-38557ea3868e"
      },
      "execution_count": null,
      "outputs": [
        {
          "output_type": "stream",
          "name": "stdout",
          "text": [
            "<class 'pandas.core.frame.DataFrame'>\n",
            "<class 'pandas.core.frame.DataFrame'>\n",
            "{'classifier': RandomForestClassifier(max_features='sqrt', n_estimators=200), 'classifier__criterion': 'gini', 'classifier__max_features': 'sqrt', 'classifier__n_estimators': 200} 0.6541958897840593\n"
          ]
        }
      ]
    },
    {
      "cell_type": "code",
      "source": [
        "from skmultilearn.problem_transform import LabelPowerset\n",
        "clf = LabelPowerset(classifier = RandomForestClassifier(n_estimators=100, criterion=\"gini\", max_features=\"sqrt\"))\n",
        "clf.fit(X_train, y_train)\n",
        "predictions = clf.predict(X_test)\n",
        "print('zero-one-loss is %f'% zero_one_loss(y_test, predictions))\n",
        "print('hamming-loss is %f'% metrics.hamming_loss(y_test, predictions))\n",
        "print('Accuracy Score  is %f' % metrics.accuracy_score(y_test, predictions))\n",
        "print('F1_score is %f' % f1_score(y_test, predictions, average='macro'))\n",
        "print('The F_beta Result of RandomKLabelsets is %f' % metrics.fbeta_score(y_test, predictions, average='macro', beta=0.5))"
      ],
      "metadata": {
        "colab": {
          "base_uri": "https://localhost:8080/"
        },
        "id": "_tzEx4mI93EU",
        "outputId": "d66947ac-0ea1-4206-860a-6ce450bab8ff"
      },
      "execution_count": null,
      "outputs": [
        {
          "output_type": "stream",
          "name": "stdout",
          "text": [
            "zero-one-loss is 0.684647\n",
            "hamming-loss is 0.179312\n",
            "Accuracy Score  is 0.315353\n",
            "F1_score is 0.436128\n",
            "The F_beta Result of RandomKLabelsets is 0.483287\n"
          ]
        }
      ]
    },
    {
      "cell_type": "code",
      "source": [
        "predictions = clf.predict(X_test)\n",
        "\n",
        "print('zero-one-loss is %f'% zero_one_loss(y_test, predictions))\n",
        "print('hamming-loss is %f'% hamming_loss(y_test, predictions))\n",
        "print('Accuracy Score  is %f' % accuracy_score(y_test, predictions))\n",
        "print('F1_score is %f' % f1_score(y_test, predictions, average='macro'))\n",
        "print('The F_beta Result of RandomKLabelsets is %f' % F_beta(y_test, predictions))"
      ],
      "metadata": {
        "id": "hybTkyvbdCa-"
      },
      "execution_count": null,
      "outputs": []
    },
    {
      "cell_type": "code",
      "source": [
        "ClassifierChain(classifier=SVC(), require_dense=[True, True]).get_params().keys()"
      ],
      "metadata": {
        "id": "9cHCxJoxX0ar",
        "colab": {
          "base_uri": "https://localhost:8080/"
        },
        "outputId": "cbcad790-55d7-4474-90dc-6a3b060de825"
      },
      "execution_count": null,
      "outputs": [
        {
          "output_type": "execute_result",
          "data": {
            "text/plain": [
              "dict_keys(['classifier', 'classifier__C', 'classifier__break_ties', 'classifier__cache_size', 'classifier__class_weight', 'classifier__coef0', 'classifier__decision_function_shape', 'classifier__degree', 'classifier__gamma', 'classifier__kernel', 'classifier__max_iter', 'classifier__probability', 'classifier__random_state', 'classifier__shrinking', 'classifier__tol', 'classifier__verbose', 'require_dense', 'order'])"
            ]
          },
          "metadata": {},
          "execution_count": 33
        }
      ]
    },
    {
      "cell_type": "code",
      "source": [
        "ClassifierChain(classifier=DecisionTreeClassifier(), require_dense=[True, True]).get_params().keys()"
      ],
      "metadata": {
        "id": "cx-Xig4MX0mc",
        "colab": {
          "base_uri": "https://localhost:8080/"
        },
        "outputId": "1db709fc-5785-4ec2-be91-5d50588b08d9"
      },
      "execution_count": null,
      "outputs": [
        {
          "output_type": "execute_result",
          "data": {
            "text/plain": [
              "dict_keys(['classifier', 'classifier__ccp_alpha', 'classifier__class_weight', 'classifier__criterion', 'classifier__max_depth', 'classifier__max_features', 'classifier__max_leaf_nodes', 'classifier__min_impurity_decrease', 'classifier__min_samples_leaf', 'classifier__min_samples_split', 'classifier__min_weight_fraction_leaf', 'classifier__random_state', 'classifier__splitter', 'require_dense', 'order'])"
            ]
          },
          "metadata": {},
          "execution_count": 37
        }
      ]
    },
    {
      "cell_type": "code",
      "source": [
        "from sklearn.naive_bayes import GaussianNB"
      ],
      "metadata": {
        "id": "20eo-YyfKONr"
      },
      "execution_count": null,
      "outputs": []
    },
    {
      "cell_type": "code",
      "source": [
        "ClassifierChain(classifier=GaussianNB(), require_dense=[True, True]).get_params().keys()"
      ],
      "metadata": {
        "id": "-2LMdvy2X0tm",
        "colab": {
          "base_uri": "https://localhost:8080/"
        },
        "outputId": "0767fe0a-423f-4f72-ddff-a62819396b82"
      },
      "execution_count": null,
      "outputs": [
        {
          "output_type": "execute_result",
          "data": {
            "text/plain": [
              "dict_keys(['classifier', 'classifier__priors', 'classifier__var_smoothing', 'require_dense', 'order'])"
            ]
          },
          "metadata": {},
          "execution_count": 30
        }
      ]
    },
    {
      "cell_type": "code",
      "source": [],
      "metadata": {
        "id": "08nTgCa5XRf0"
      },
      "execution_count": null,
      "outputs": []
    },
    {
      "cell_type": "code",
      "source": [
        "ClassifierChain(classifier=KNeighborsClassifier(), require_dense=[True, True]).get_params().keys()"
      ],
      "metadata": {
        "id": "1RPNdm5WXRi7",
        "colab": {
          "base_uri": "https://localhost:8080/"
        },
        "outputId": "b4870113-8171-4977-ffca-48a6b9134c55"
      },
      "execution_count": null,
      "outputs": [
        {
          "output_type": "execute_result",
          "data": {
            "text/plain": [
              "dict_keys(['classifier', 'classifier__algorithm', 'classifier__leaf_size', 'classifier__metric', 'classifier__metric_params', 'classifier__n_jobs', 'classifier__n_neighbors', 'classifier__p', 'classifier__weights', 'require_dense', 'order'])"
            ]
          },
          "metadata": {},
          "execution_count": 31
        }
      ]
    },
    {
      "cell_type": "code",
      "source": [],
      "metadata": {
        "id": "qZTN1B5GXRmS"
      },
      "execution_count": null,
      "outputs": []
    },
    {
      "cell_type": "markdown",
      "source": [
        "##Meka with Sklearn"
      ],
      "metadata": {
        "id": "5fJsd25tnqFS"
      }
    },
    {
      "cell_type": "code",
      "source": [
        "from skmultilearn.ext import download_meka\n",
        "\n",
        "meka_classpath = download_meka()\n",
        "meka_classpath\n",
        "from skmultilearn.ext import Meka\n",
        "\n",
        "meka = Meka(\n",
        "        meka_classifier = \"meka.classifiers.multilabel.BR\", # Binary Relevance\n",
        "        weka_classifier = \"weka.classifiers.bayes.NaiveBayesMultinomial\", # with Naive Bayes single-label classifier\n",
        "        meka_classpath = meka_classpath, #obtained via download_meka\n",
        "        java_command = '/usr/bin/java' # path to java executable\n",
        ")\n",
        "meka\n",
        "\n",
        "meka.fit(X_train, y_train)\n",
        "predictions = meka.predict(X_test)\n",
        "from sklearn.metrics import hamming_loss\n",
        "\n",
        "hamming_loss(y_test, predictions)\n"
      ],
      "metadata": {
        "id": "i5ls6rxCwGL2",
        "colab": {
          "base_uri": "https://localhost:8080/"
        },
        "outputId": "254fd034-a50e-40dc-def1-6fa757c65144"
      },
      "execution_count": null,
      "outputs": [
        {
          "output_type": "stream",
          "name": "stdout",
          "text": [
            "MEKA 1.9.2 not found, downloading\n",
            "Unzipping MEKA 1.9.2 to /root/scikit_ml_learn_data/meka/\n"
          ]
        },
        {
          "output_type": "execute_result",
          "data": {
            "text/plain": [
              "0.23773399014778326"
            ]
          },
          "metadata": {},
          "execution_count": 11
        }
      ]
    },
    {
      "cell_type": "code",
      "source": [
        "meka = Meka(\n",
        "        meka_classifier = \"meka.classifiers.multilabel.BR\", # Binary Relevance\n",
        "        weka_classifier = \"weka.classifiers.meta.AdaBoostM1\", # with Naive Bayes single-label classifier\n",
        "        meka_classpath = meka_classpath, #obtained via download_meka\n",
        "        java_command = '/usr/bin/java' # path to java executable\n",
        ")\n",
        "meka\n",
        "\n",
        "meka.fit(X_train, y_train)\n",
        "predictions = meka.predict(X_test)\n",
        "from sklearn.metrics import hamming_loss\n",
        "\n",
        "hamming_loss(y_test, predictions)"
      ],
      "metadata": {
        "id": "y18NUgyHsYDL",
        "colab": {
          "base_uri": "https://localhost:8080/"
        },
        "outputId": "10d61ee0-87c0-4ff7-82c2-416100793e33"
      },
      "execution_count": null,
      "outputs": [
        {
          "output_type": "execute_result",
          "data": {
            "text/plain": [
              "0.1415050784856879"
            ]
          },
          "metadata": {},
          "execution_count": 15
        }
      ]
    },
    {
      "cell_type": "code",
      "source": [
        "print(type(y_test))"
      ],
      "metadata": {
        "colab": {
          "base_uri": "https://localhost:8080/"
        },
        "id": "ZT21DShjObtf",
        "outputId": "1948fd44-9344-491c-94de-27fe18b9dcd1"
      },
      "execution_count": null,
      "outputs": [
        {
          "output_type": "stream",
          "name": "stdout",
          "text": [
            "<class 'numpy.ndarray'>\n"
          ]
        }
      ]
    },
    {
      "cell_type": "code",
      "source": [
        "def accuracy_score(y_test, y_pred):\n",
        "    # y_pred is a numpy array, y_test is a dataframe\n",
        "    # to compare the two, convert to a single type\n",
        "    #y_test = y_test.to_numpy()\n",
        "    \n",
        "    # shape of test and preds must be equal\n",
        "    assert y_test.shape == y_pred.shape\n",
        "    i=0\n",
        "    # list of scores for each training sample\n",
        "    scores = []\n",
        "    \n",
        "    # for each test sample\n",
        "    while i < len(y_test):\n",
        "        count=0\n",
        "        # count the number of matches in the sample\n",
        "        # y_test[i] -> row values in test set (true values)\n",
        "        # y_pred[i] -> row values in predictions set (predicted values)\n",
        "        for p, q in zip(y_test[i], y_pred[i]):\n",
        "            if p == q:\n",
        "                count += 1\n",
        "\n",
        "        # accuracy score for the sample = no. of correctly predicted labels/total no. of labels\n",
        "        scores.append(count / y_pred.shape[1])\n",
        "        i+=1 \n",
        "\n",
        "    # final accuracy = avg. accuracy over all test samples =\n",
        "    # sum of the accuracy of all training samples/no. of training samples\n",
        "    return round((sum(scores)/len(y_test)), 5)"
      ],
      "metadata": {
        "id": "ihyYmDvQORO4"
      },
      "execution_count": null,
      "outputs": []
    },
    {
      "cell_type": "code",
      "source": [],
      "metadata": {
        "id": "pjQBusN7ORUo"
      },
      "execution_count": null,
      "outputs": []
    },
    {
      "cell_type": "code",
      "source": [
        "print('zero-one-loss is %f'% zero_one_loss(y_test, predictions))\n",
        "print('hamming-loss is %f'% hamming_loss(y_test, predictions))\n",
        "print('Accuracy Score  is %f' % subset_acc(y_test, predictions))\n",
        "print('F1_score is %f' % f1_score(y_test, predictions, average='macro'))\n",
        "\n",
        "#print('The F_beta Result of RandomKLabelsets is %f' % F_beta(y_test, predictions))"
      ],
      "metadata": {
        "colab": {
          "base_uri": "https://localhost:8080/"
        },
        "id": "Vez4dYwqNHHX",
        "outputId": "e1bd95b9-e060-41a5-9a6f-3d378c6e7cf4"
      },
      "execution_count": null,
      "outputs": [
        {
          "output_type": "stream",
          "name": "stdout",
          "text": [
            "zero-one-loss is 0.610803\n",
            "hamming-loss is 0.141505\n",
            "Accuracy Score  is 0.389197\n",
            "F1_score is 0.615844\n"
          ]
        }
      ]
    },
    {
      "cell_type": "code",
      "source": [
        "meka = Meka(\n",
        "        meka_classifier = \"meka.classifiers.multilabel.BR\", # Binary Relevance\n",
        "        weka_classifier = \"weka.classifiers.meta.AdaBoostM1\", # with Naive Bayes single-label classifier\n",
        "        meka_classpath = meka_classpath, #obtained via download_meka\n",
        "        java_command = '/usr/bin/java' # path to java executable\n",
        ")\n",
        "meka\n",
        "\n",
        "meka.fit(X_train, y_train)\n",
        "predictions = meka.predict(X_test)\n",
        "from sklearn.metrics import hamming_loss\n",
        "\n",
        "print('zero-one-loss is %f'% zero_one_loss(y_test, predictions))\n",
        "print('hamming-loss is %f'% hamming_loss(y_test, predictions))\n",
        "print('Subset Accuracy Score  is %f' % subset_acc(y_test, predictions))\n",
        "print('F1_score is %f' % f1_score(y_test, predictions, average='macro'))"
      ],
      "metadata": {
        "id": "yTmbb9yjsYPD",
        "colab": {
          "base_uri": "https://localhost:8080/"
        },
        "outputId": "e15233b5-b592-4afd-8c6b-9fac66850b01"
      },
      "execution_count": null,
      "outputs": [
        {
          "output_type": "stream",
          "name": "stdout",
          "text": [
            "zero-one-loss is 0.610803\n",
            "hamming-loss is 0.141505\n",
            "Subset Accuracy Score  is 0.389197\n",
            "F1_score is 0.615844\n"
          ]
        }
      ]
    },
    {
      "cell_type": "code",
      "source": [
        "meka = Meka(\n",
        "        meka_classifier = \"meka.classifiers.multilabel.BR\", # \n",
        "        weka_classifier = \"weka.classifiers.trees.RandomForest\", # \n",
        "        meka_classpath = meka_classpath, #obtained via download_meka\n",
        "        java_command = '/usr/bin/java' # path to java executable\n",
        ")\n",
        "\n",
        "meka.fit(X_train, y_train)\n",
        "predictions = meka.predict(X_test)\n",
        "from sklearn.metrics import hamming_loss\n",
        "\n",
        "print('zero-one-loss is %f'% zero_one_loss(y_test, predictions))\n",
        "print('hamming-loss is %f'% hamming_loss(y_test, predictions))\n",
        "print('Subset Accuracy Score  is %f' % subset_acc(y_test, predictions))\n",
        "print('F1_score is %f' % f1_score(y_test, predictions, average='macro'))"
      ],
      "metadata": {
        "id": "LBZWUri0sYSA"
      },
      "execution_count": null,
      "outputs": []
    },
    {
      "cell_type": "code",
      "source": [
        "meka = Meka(\n",
        "        meka_classifier = \"meka.classifiers.multilabel.BR\", # \n",
        "        weka_classifier = \"weka.classifiers.trees.J48\", # \n",
        "        meka_classpath = meka_classpath, #obtained via download_meka\n",
        "        java_command = '/usr/bin/java' # path to java executable\n",
        ")\n",
        "\n",
        "meka.fit(X_train, y_train)\n",
        "predictions = meka.predict(X_test)\n",
        "from sklearn.metrics import hamming_loss\n",
        "\n",
        "print('zero-one-loss is %f'% zero_one_loss(y_test, predictions))\n",
        "print('hamming-loss is %f'% hamming_loss(y_test, predictions))\n",
        "print('Subset Accuracy Score  is %f' % subset_acc(y_test, predictions))\n",
        "print('F1_score is %f' % f1_score(y_test, predictions, average='macro'))"
      ],
      "metadata": {
        "id": "bGvO3jezs-PQ",
        "colab": {
          "base_uri": "https://localhost:8080/"
        },
        "outputId": "bf9ef9a3-d79d-4f94-8039-1da89fb5ff2e"
      },
      "execution_count": null,
      "outputs": [
        {
          "output_type": "stream",
          "name": "stdout",
          "text": [
            "zero-one-loss is 0.565097\n",
            "hamming-loss is 0.134118\n",
            "Subset Accuracy Score  is 0.434903\n",
            "F1_score is 0.633334\n"
          ]
        }
      ]
    },
    {
      "cell_type": "code",
      "source": [
        "\n",
        "\n",
        "weka_clf = ['weka.classifiers.lazy.IBk',\n",
        "'weka.classifiers.trees.RandomForest',\n",
        "'weka.classifiers.bayes.NaiveBayes',\n",
        "'weka.classifiers.rules.ZeroR', 'weka.classifiers.functions.SMO',  \"weka.classifiers.trees.J48\", 'weka.classifiers.meta.AdaBoostM1', 'weka.classifiers.bayes.NaiveBayesMultinomial']\n",
        "\n",
        "for clf in weka_clf:\n",
        "    meka = Meka(\n",
        "            meka_classifier = \"meka.classifiers.multilabel.BR\", # \n",
        "            weka_classifier = clf, # \n",
        "            meka_classpath = meka_classpath, #obtained via download_meka\n",
        "            java_command = '/usr/bin/java' # path to java executable\n",
        "    )\n",
        "\n",
        "    meka.fit(X_train, y_train)\n",
        "    predictions = meka.predict(X_test)\n",
        "\n",
        "\n",
        "\n",
        "    print(f\"zero-one-loss of {meka.weka_classifier} is {zero_one_loss(y_test, predictions)}\")\n",
        "    print(f\"hamming loss of {meka.weka_classifier} is {metrics.hamming_loss(y_test, predictions)}\")\n",
        "    print(f\"f1 score of {meka.weka_classifier} is {f1_score(y_test, predictions, average='macro')}\")\n",
        "    print(f\"subset accuracy of {meka.weka_classifier} is {metrics.accuracy_score(y_test, predictions)}\")"
      ],
      "metadata": {
        "id": "b8llm40vs-SX",
        "colab": {
          "base_uri": "https://localhost:8080/"
        },
        "outputId": "f56a17c1-efea-4669-cdfe-acbe17358fe3"
      },
      "execution_count": null,
      "outputs": [
        {
          "output_type": "stream",
          "name": "stdout",
          "text": [
            "zero-one-loss of weka.classifiers.lazy.IBk is 1.0\n",
            "hamming loss of weka.classifiers.lazy.IBk is 0.7048014226437463\n",
            "f1 score of weka.classifiers.lazy.IBk is 0.4129109406213942\n",
            "subset accuracy of weka.classifiers.lazy.IBk is 0.0\n",
            "zero-one-loss of weka.classifiers.trees.RandomForest is 0.8049792531120332\n",
            "hamming loss of weka.classifiers.trees.RandomForest is 0.17842323651452283\n",
            "f1 score of weka.classifiers.trees.RandomForest is 0.4433687054844513\n",
            "subset accuracy of weka.classifiers.trees.RandomForest is 0.1950207468879668\n",
            "zero-one-loss of weka.classifiers.bayes.NaiveBayes is 0.8796680497925311\n",
            "hamming loss of weka.classifiers.bayes.NaiveBayes is 0.27771191464137523\n",
            "f1 score of weka.classifiers.bayes.NaiveBayes is 0.4433125154922345\n",
            "subset accuracy of weka.classifiers.bayes.NaiveBayes is 0.12033195020746888\n",
            "zero-one-loss of weka.classifiers.rules.ZeroR is 0.9875518672199171\n",
            "hamming loss of weka.classifiers.rules.ZeroR is 0.2569650266745702\n",
            "f1 score of weka.classifiers.rules.ZeroR is 0.25023840585296436\n",
            "subset accuracy of weka.classifiers.rules.ZeroR is 0.012448132780082987\n",
            "zero-one-loss of weka.classifiers.functions.SMO is 0.8174273858921162\n",
            "hamming loss of weka.classifiers.functions.SMO is 0.1813870776526378\n",
            "f1 score of weka.classifiers.functions.SMO is 0.33747208502842946\n",
            "subset accuracy of weka.classifiers.functions.SMO is 0.1825726141078838\n",
            "zero-one-loss of weka.classifiers.trees.J48 is 0.9211618257261411\n",
            "hamming loss of weka.classifiers.trees.J48 is 0.24659158269116777\n",
            "f1 score of weka.classifiers.trees.J48 is 0.3857488578458212\n",
            "subset accuracy of weka.classifiers.trees.J48 is 0.07883817427385892\n",
            "zero-one-loss of weka.classifiers.meta.AdaBoostM1 is 0.8879668049792531\n",
            "hamming loss of weka.classifiers.meta.AdaBoostM1 is 0.2098399525785418\n",
            "f1 score of weka.classifiers.meta.AdaBoostM1 is 0.36499208105093583\n",
            "subset accuracy of weka.classifiers.meta.AdaBoostM1 is 0.11203319502074689\n",
            "zero-one-loss of weka.classifiers.bayes.NaiveBayesMultinomial is 0.8838174273858921\n",
            "hamming loss of weka.classifiers.bayes.NaiveBayesMultinomial is 0.2077652637818613\n",
            "f1 score of weka.classifiers.bayes.NaiveBayesMultinomial is 0.3212475095965762\n",
            "subset accuracy of weka.classifiers.bayes.NaiveBayesMultinomial is 0.11618257261410789\n"
          ]
        }
      ]
    },
    {
      "cell_type": "code",
      "source": [
        "\n",
        "print(f\"zero-one-loss of {meka.weka_classifier} is {zero_one_loss(y_test, predictions)}\")\n",
        "print(f\"hamming loss of {meka.weka_classifier} is {hamming_loss(y_test, predictions)}\")\n",
        "print(f\"zero-one-loss of {meka.weka_classifier} is {subset_acc(y_test, predictions)}\")\n",
        "print(f\"zero-one-loss of {meka.weka_classifier} is {f1_score(y_test, predictions, average='macro')}\")"
      ],
      "metadata": {
        "id": "ehOw-dMOs-U3"
      },
      "execution_count": null,
      "outputs": []
    },
    {
      "cell_type": "code",
      "source": [],
      "metadata": {
        "id": "TsOGPLtAs-Xz"
      },
      "execution_count": null,
      "outputs": []
    },
    {
      "cell_type": "code",
      "source": [],
      "metadata": {
        "id": "-443HcWisYUq"
      },
      "execution_count": null,
      "outputs": []
    },
    {
      "cell_type": "code",
      "source": [
        "\n",
        "\n",
        "meka = Meka(\n",
        "        meka_classifier = \"meka.classifiers.multilabel.CC\", # \n",
        "        weka_classifier = \"weka.classifiers.trees.RandomForest\", # \n",
        "        meka_classpath = meka_classpath, #obtained via download_meka\n",
        "        java_command = '/usr/bin/java' # path to java executable\n",
        ")\n",
        "\n",
        "meka.fit(X_train, y_train)\n",
        "predictions = meka.predict(X_test)\n",
        "from sklearn.metrics import hamming_loss\n",
        "\n",
        "print('zero-one-loss is %f'% zero_one_loss(y_test, predictions))\n",
        "print('hamming-loss is %f'% hamming_loss(y_test, predictions))\n",
        "print('Subset Accuracy Score  is %f' % subset_acc(y_test, predictions))\n",
        "print('F1_score is %f' % f1_score(y_test, predictions, average='macro'))\n"
      ],
      "metadata": {
        "id": "b31t7z1IwGPM",
        "colab": {
          "base_uri": "https://localhost:8080/"
        },
        "outputId": "19eaad28-51b4-4800-8062-b0600832fdbb"
      },
      "execution_count": null,
      "outputs": [
        {
          "output_type": "stream",
          "name": "stdout",
          "text": [
            "zero-one-loss is 0.439058\n",
            "hamming-loss is 0.088643\n",
            "Subset Accuracy Score  is 0.560942\n",
            "F1_score is 0.702144\n"
          ]
        }
      ]
    },
    {
      "cell_type": "code",
      "source": [
        "\n",
        "meka = Meka(\n",
        "        meka_classifier = \"meka.classifiers.multilabel.CC\", # \n",
        "        weka_classifier = \"weka.classifiers.functions.SMO\", # \n",
        "        meka_classpath = meka_classpath, #obtained via download_meka\n",
        "        java_command = '/usr/bin/java' # path to java executable\n",
        ")\n",
        "\n",
        "meka.fit(X_train, y_train)\n",
        "predictions = meka.predict(X_test)\n",
        "from sklearn.metrics import hamming_loss\n",
        "\n",
        "print('zero-one-loss is %f'% zero_one_loss(y_test, predictions))\n",
        "print('hamming-loss is %f'% hamming_loss(y_test, predictions))\n",
        "print('Subset Accuracy Score  is %f' % subset_acc(y_test, predictions))\n",
        "print('F1_score is %f' % f1_score(y_test, predictions, average='macro'))"
      ],
      "metadata": {
        "id": "zHCRmBM3wGRt",
        "colab": {
          "base_uri": "https://localhost:8080/"
        },
        "outputId": "4a37dca2-60a5-4f18-a692-6aaef975fb48"
      },
      "execution_count": null,
      "outputs": [
        {
          "output_type": "stream",
          "name": "stdout",
          "text": [
            "zero-one-loss is 0.380886\n",
            "hamming-loss is 0.117036\n",
            "Subset Accuracy Score  is 0.619114\n",
            "F1_score is 0.680167\n"
          ]
        }
      ]
    },
    {
      "cell_type": "code",
      "source": [
        "\n",
        "meka = Meka(\n",
        "        meka_classifier = \"meka.classifiers.multilabel.CC\", # \n",
        "        weka_classifier = \"weka.classifiers.rules.JRip\", # \n",
        "        meka_classpath = meka_classpath, #obtained via download_meka\n",
        "        java_command = '/usr/bin/java' # path to java executable\n",
        ")\n",
        "\n",
        "meka.fit(X_train, y_train)\n",
        "predictions = meka.predict(X_test)\n",
        "from sklearn.metrics import hamming_loss\n",
        "\n",
        "print('zero-one-loss is %f'% zero_one_loss(y_test, predictions))\n",
        "print('hamming-loss is %f'% hamming_loss(y_test, predictions))\n",
        "print('Subset Accuracy Score  is %f' % subset_acc(y_test, predictions))\n",
        "print('F1_score is %f' % f1_score(y_test, predictions, average='macro'))"
      ],
      "metadata": {
        "id": "liqeXYH2wGTo",
        "colab": {
          "base_uri": "https://localhost:8080/"
        },
        "outputId": "1ab7045b-2f11-4de7-a266-0e58ae0d2223"
      },
      "execution_count": null,
      "outputs": [
        {
          "output_type": "execute_result",
          "data": {
            "text/plain": [
              "0.19236111111111112"
            ]
          },
          "metadata": {},
          "execution_count": 60
        }
      ]
    },
    {
      "cell_type": "code",
      "source": [
        "\n",
        "meka = Meka(\n",
        "        meka_classifier = \"meka.classifiers.multilabel.CC\", # \n",
        "        weka_classifier = \"weka.classifiers.trees.J48\", # \n",
        "        meka_classpath = meka_classpath, #obtained via download_meka\n",
        "        java_command = '/usr/bin/java' # path to java executable\n",
        ")\n",
        "\n",
        "meka.fit(X_train, y_train)\n",
        "predictions = meka.predict(X_test)\n",
        "from sklearn.metrics import hamming_loss\n",
        "\n",
        "print('zero-one-loss is %f'% zero_one_loss(y_test, predictions))\n",
        "print('hamming-loss is %f'% hamming_loss(y_test, predictions))\n",
        "print('Subset Accuracy Score  is %f' % subset_acc(y_test, predictions))\n",
        "print('F1_score is %f' % f1_score(y_test, predictions, average='macro'))"
      ],
      "metadata": {
        "id": "2ZdBc2DkwGVZ",
        "colab": {
          "base_uri": "https://localhost:8080/"
        },
        "outputId": "997bd8dd-733e-42cc-f261-cde25f2f5323"
      },
      "execution_count": null,
      "outputs": [
        {
          "output_type": "execute_result",
          "data": {
            "text/plain": [
              "0.20555555555555555"
            ]
          },
          "metadata": {},
          "execution_count": 61
        }
      ]
    },
    {
      "cell_type": "code",
      "source": [
        "weka_clf = ['weka.classifiers.lazy.IBk',\n",
        "'weka.classifiers.trees.RandomForest',\n",
        "'weka.classifiers.bayes.NaiveBayes',\n",
        "'weka.classifiers.rules.ZeroR', 'weka.classifiers.functions.SMO',  \"weka.classifiers.trees.J48\", 'weka.classifiers.meta.AdaBoostM1', 'weka.classifiers.rules.JRip' ,'weka.classifiers.bayes.NaiveBayesMultinomial']\n",
        "\n",
        "\n",
        "base_model_names = [\"IBk\", \"Random Forest\", \"NaiveBayes\", \"ZeroR\", \"SMO\", 'SVM' ,\"J48\", 'AdaBoostM1', 'JRipper', 'NaiveBayesMultinomial']\n",
        "\n",
        "zero_score = dict()\n",
        "cc_accuracies = dict()\n",
        "cc_f1 = dict()\n",
        "cc_hamming = dict()\n",
        "\n",
        "i = 0\n",
        "\n",
        "for clf in weka_clf:\n",
        "    meka = Meka(\n",
        "            meka_classifier = \"meka.classifiers.multilabel.BR\", # \n",
        "            weka_classifier = clf, # \n",
        "            meka_classpath = meka_classpath, #obtained via download_meka\n",
        "            java_command = '/usr/bin/java' # path to java executable\n",
        "    )\n",
        "\n",
        "    meka.fit(X_train, y_train)\n",
        "    predictions = meka.predict(X_test)\n",
        "\n",
        "    # zero-one-score\n",
        "    z_one = zero_one_loss(y_test, predictions)\n",
        "    zero_score[base_model_names[i]] = z_one\n",
        "    # accuracy score\n",
        "    accuracy = subset_acc(y_test, predictions)\n",
        "    cc_accuracies[base_model_names[i]] = accuracy\n",
        "    # F1 score\n",
        "    cc_f1_score = f1_score(y_test, predictions, average='macro')\n",
        "    cc_f1[base_model_names[i]] = cc_f1_score\n",
        "    # hamming loss\n",
        "    hamming = hamming_loss(y_test, predictions)\n",
        "    cc_hamming[base_model_names[i]] = hamming\n",
        "\n",
        "    i+=1\n",
        "\n",
        "print('Binary Relevance')\n",
        "print('------------------------------------------------------')\n",
        "print(\"====================z_one Accuracy====================\")\n",
        "display(zero_score)\n",
        "print(\"=================== F1 Scores====================\")\n",
        "display(cc_f1)\n",
        "print(\"=================== Hamming Loss Scores====================\")\n",
        "display(cc_hamming)\n",
        "print(\"=================== subset accuracy Scores====================\")\n",
        "display(cc_accuracies)"
      ],
      "metadata": {
        "colab": {
          "base_uri": "https://localhost:8080/",
          "height": 746
        },
        "id": "2Ee10lgGe7jH",
        "outputId": "10f46b7d-2c9d-4b16-c987-2251d8117cef"
      },
      "execution_count": null,
      "outputs": [
        {
          "output_type": "stream",
          "name": "stdout",
          "text": [
            "Binary Relevance\n",
            "------------------------------------------------------\n",
            "====================z_one Accuracy====================\n"
          ]
        },
        {
          "output_type": "display_data",
          "data": {
            "text/plain": [
              "{'IBk': 0.8193103448275862,\n",
              " 'Random Forest': 0.856551724137931,\n",
              " 'NaiveBayes': 0.9131034482758621,\n",
              " 'ZeroR': 0.9751724137931035,\n",
              " 'SMO': 0.886896551724138,\n",
              " 'SVM': 0.9641379310344828,\n",
              " 'J48': 0.9255172413793104,\n",
              " 'AdaBoostM1': 0.9517241379310345,\n",
              " 'JRipper': 0.9089655172413793}"
            ]
          },
          "metadata": {}
        },
        {
          "output_type": "stream",
          "name": "stdout",
          "text": [
            "=================== F1 Scores====================\n"
          ]
        },
        {
          "output_type": "display_data",
          "data": {
            "text/plain": [
              "{'IBk': 0.4310097731530584,\n",
              " 'Random Forest': 0.405075567007733,\n",
              " 'NaiveBayes': 0.411853273188045,\n",
              " 'ZeroR': 0.23957008933277274,\n",
              " 'SMO': 0.3064896991627125,\n",
              " 'SVM': 0.376515964777626,\n",
              " 'J48': 0.34525243473176087,\n",
              " 'AdaBoostM1': 0.3483133912119068,\n",
              " 'JRipper': 0.2984405582397283}"
            ]
          },
          "metadata": {}
        },
        {
          "output_type": "stream",
          "name": "stdout",
          "text": [
            "=================== Hamming Loss Scores====================\n"
          ]
        },
        {
          "output_type": "display_data",
          "data": {
            "text/plain": [
              "{'IBk': 0.25733990147783253,\n",
              " 'Random Forest': 0.21448275862068966,\n",
              " 'NaiveBayes': 0.30295566502463056,\n",
              " 'ZeroR': 0.28502463054187194,\n",
              " 'SMO': 0.21655172413793103,\n",
              " 'SVM': 0.27497536945812806,\n",
              " 'J48': 0.2367487684729064,\n",
              " 'AdaBoostM1': 0.2530049261083744,\n",
              " 'JRipper': 0.23773399014778326}"
            ]
          },
          "metadata": {}
        },
        {
          "output_type": "stream",
          "name": "stdout",
          "text": [
            "=================== subset accuracy Scores====================\n"
          ]
        },
        {
          "output_type": "display_data",
          "data": {
            "text/plain": [
              "{'IBk': 0.18068965517241378,\n",
              " 'Random Forest': 0.14344827586206896,\n",
              " 'NaiveBayes': 0.08689655172413793,\n",
              " 'ZeroR': 0.02482758620689655,\n",
              " 'SMO': 0.11310344827586206,\n",
              " 'SVM': 0.03586206896551724,\n",
              " 'J48': 0.07448275862068965,\n",
              " 'AdaBoostM1': 0.04827586206896552,\n",
              " 'JRipper': 0.0910344827586207}"
            ]
          },
          "metadata": {}
        }
      ]
    },
    {
      "cell_type": "code",
      "source": [
        "plt.plot(list(zero_score.keys()), list(zero_score.values()))\n",
        "plt.plot(list(cc_f1.keys()), list(cc_f1.values()))\n",
        "plt.plot(list(cc_hamming.keys()), list(cc_hamming.values()))\n",
        "plt.plot(list(cc_accuracies.keys()), list(cc_accuracies.values()))\n",
        "\n",
        "plt.xticks(rotation=90)\n",
        "plt.legend(['zero_one Accuracy','F1 Scores', 'Hamming Loss Scores', 'subset accuracy scores'])"
      ],
      "metadata": {
        "colab": {
          "base_uri": "https://localhost:8080/",
          "height": 347
        },
        "id": "k--f4EV9e73n",
        "outputId": "a2af2c7e-f375-428a-ddea-6dee0194c84c"
      },
      "execution_count": null,
      "outputs": [
        {
          "output_type": "execute_result",
          "data": {
            "text/plain": [
              "<matplotlib.legend.Legend at 0x7fe516da8f40>"
            ]
          },
          "metadata": {},
          "execution_count": 19
        },
        {
          "output_type": "display_data",
          "data": {
            "text/plain": [
              "<Figure size 432x288 with 1 Axes>"
            ],
            "image/png": "[encoded data removed]"
          },
          "metadata": {
            "needs_background": "light"
          }
        }
      ]
    },
    {
      "cell_type": "code",
      "source": [
        "import numpy as np\n",
        "import matplotlib.pyplot as plt\n",
        "fig = plt.figure(figsize = (10, 5))\n",
        "# creating the bar plot\n",
        "plt.bar(list(zero_score.keys()), list(zero_score.values()), color ='maroon', width = 0.4)\n",
        "plt.bar(list(cc_f1.keys()), list(cc_f1.values()), color ='maroon', width = 0.4)\n",
        "plt.xlabel(\"Classifier Algorithms\")\n",
        "plt.ylabel(\"Zero-one Accuracy\")\n",
        "plt.xticks([\"b\", \"c\"])\n",
        "plt.title(\"Binary Relevance\")\n",
        "plt.show()"
      ],
      "metadata": {
        "colab": {
          "base_uri": "https://localhost:8080/",
          "height": 350
        },
        "id": "hOfq7b8blUqQ",
        "outputId": "8ded5305-d0a5-460b-f260-90473a53e403"
      },
      "execution_count": null,
      "outputs": [
        {
          "output_type": "display_data",
          "data": {
            "text/plain": [
              "<Figure size 720x360 with 1 Axes>"
            ],
            "image/png": "[encoded data removed]"
          },
          "metadata": {
            "needs_background": "light"
          }
        }
      ]
    },
    {
      "cell_type": "code",
      "source": [
        "import numpy as np\n",
        "\n",
        "plt.figure(figsize=(15,7))\n",
        "N = 9\n",
        "#men_means = (20, 35, 30, 35, 27)\n",
        "#women_means = (25, 32, 34, 20, 25)\n",
        "\n",
        "ind = np.arange(N) \n",
        "width = 0.35\n",
        "plt.bar(ind + width, list(cc_hamming.values()), width,\n",
        "    label='Hamming-Loss')       \n",
        "plt.bar(ind,list(cc_f1.values()) , width, label='F1-Score')\n",
        "\n",
        "\n",
        "plt.ylabel('Scores')\n",
        "plt.title('Scores for different classifiers')\n",
        "\n",
        "plt.xticks(ind + width / 2, (\"IBk\", \"Random Forest\", \"NaiveBayes\", \"ZeroR\", \"SMO\", 'SVM' ,\"J48\", 'AdaBoostM1', 'JRipper', 'NaiveBayesMultinomial'))\n",
        "plt.legend(loc='best')\n",
        "plt.show()"
      ],
      "metadata": {
        "id": "LaUq8UW4lUvG",
        "colab": {
          "base_uri": "https://localhost:8080/",
          "height": 444
        },
        "outputId": "15ba9d03-5325-46aa-c247-9521d1c44a7a"
      },
      "execution_count": null,
      "outputs": [
        {
          "output_type": "display_data",
          "data": {
            "text/plain": [
              "<Figure size 1080x504 with 1 Axes>"
            ],
            "image/png": "[encoded data removed]"
          },
          "metadata": {
            "needs_background": "light"
          }
        }
      ]
    },
    {
      "cell_type": "code",
      "source": [],
      "metadata": {
        "id": "ICKcqAZNlUz0"
      },
      "execution_count": null,
      "outputs": []
    },
    {
      "cell_type": "code",
      "source": [
        "\n",
        "\n",
        "\n",
        "weka_clf = ['weka.classifiers.lazy.IBk',\n",
        "'weka.classifiers.trees.RandomForest',\n",
        "'weka.classifiers.bayes.NaiveBayes',\n",
        "'weka.classifiers.rules.ZeroR', 'weka.classifiers.functions.SMO', \"weka.classifiers.trees.J48\", 'weka.classifiers.meta.AdaBoostM1']\n",
        "\n",
        "base_model_names = [\"IBk\", \"Random Forest\", \"NaiveBayes\", \"ZeroR\", \"SMO\", \"J48\", 'AdaBoostM1']\n",
        "\n",
        "zero_score = dict()\n",
        "cc_accuracies = dict()\n",
        "cc_f1 = dict()\n",
        "cc_hamming = dict()\n",
        "\n",
        "i = 0\n",
        "\n",
        "for clf in weka_clf:\n",
        "    meka = Meka(\n",
        "            meka_classifier = \"meka.classifiers.multilabel.CC\", # \n",
        "            weka_classifier = clf, # \n",
        "            meka_classpath = meka_classpath, #obtained via download_meka\n",
        "            java_command = '/usr/bin/java' # path to java executable\n",
        "    )\n",
        "\n",
        "    meka.fit(X_train, y_train)\n",
        "    predictions = meka.predict(X_test)\n",
        "\n",
        "    # zero-one-score\n",
        "    z_one = zero_one_loss(y_test, predictions)\n",
        "    zero_score[base_model_names[i]] = z_one\n",
        "    # accuracy score\n",
        "    accuracy = subset_acc(y_test, predictions)\n",
        "    cc_accuracies[base_model_names[i]] = accuracy\n",
        "    # F1 score\n",
        "    cc_f1_score = f1_score(y_test, predictions, average='macro')\n",
        "    cc_f1[base_model_names[i]] = cc_f1_score\n",
        "    # hamming loss\n",
        "    hamming = hamming_loss(y_test, predictions)\n",
        "    cc_hamming[base_model_names[i]] = hamming\n",
        "\n",
        "    i+=1\n",
        "\n",
        "print('Classifier Chain')\n",
        "print('------------------------------------------------------')\n",
        "print(\"====================z_one Accuracy====================\")\n",
        "display(zero_score)\n",
        "print(\"=================== F1 Scores====================\")\n",
        "display(cc_f1)\n",
        "print(\"=================== Hamming Loss Scores====================\")\n",
        "display(cc_hamming)\n",
        "print(\"=================== subset accuracy Scores====================\")\n",
        "display(cc_accuracies)"
      ],
      "metadata": {
        "colab": {
          "base_uri": "https://localhost:8080/",
          "height": 607
        },
        "id": "gtB7gFAXrjnG",
        "outputId": "894236dc-86a8-4b09-a7be-f255521d2a9e"
      },
      "execution_count": null,
      "outputs": [
        {
          "output_type": "stream",
          "name": "stdout",
          "text": [
            "Classifier Chain\n",
            "------------------------------------------------------\n",
            "====================z_one Accuracy====================\n"
          ]
        },
        {
          "output_type": "display_data",
          "data": {
            "text/plain": [
              "{'IBk': 0.8193103448275862,\n",
              " 'Random Forest': 0.8248275862068966,\n",
              " 'NaiveBayes': 0.9020689655172414,\n",
              " 'ZeroR': 0.9875862068965517,\n",
              " 'SMO': 0.8510344827586207,\n",
              " 'J48': 0.8786206896551724,\n",
              " 'AdaBoostM1': 0.886896551724138}"
            ]
          },
          "metadata": {}
        },
        {
          "output_type": "stream",
          "name": "stdout",
          "text": [
            "=================== F1 Scores====================\n"
          ]
        },
        {
          "output_type": "display_data",
          "data": {
            "text/plain": [
              "{'IBk': 0.4310097731530584,\n",
              " 'Random Forest': 0.35099424257917733,\n",
              " 'NaiveBayes': 0.4305050955408004,\n",
              " 'ZeroR': 0.11906666607491435,\n",
              " 'SMO': 0.3313561383771514,\n",
              " 'J48': 0.3799405454730588,\n",
              " 'AdaBoostM1': 0.3302755593782595}"
            ]
          },
          "metadata": {}
        },
        {
          "output_type": "stream",
          "name": "stdout",
          "text": [
            "=================== Hamming Loss Scores====================\n"
          ]
        },
        {
          "output_type": "display_data",
          "data": {
            "text/plain": [
              "{'IBk': 0.25733990147783253,\n",
              " 'Random Forest': 0.20532019704433496,\n",
              " 'NaiveBayes': 0.32315270935960594,\n",
              " 'ZeroR': 0.23881773399014777,\n",
              " 'SMO': 0.2277832512315271,\n",
              " 'J48': 0.2860098522167488,\n",
              " 'AdaBoostM1': 0.24689655172413794}"
            ]
          },
          "metadata": {}
        },
        {
          "output_type": "stream",
          "name": "stdout",
          "text": [
            "=================== subset accuracy Scores====================\n"
          ]
        },
        {
          "output_type": "display_data",
          "data": {
            "text/plain": [
              "{'IBk': 0.18068965517241378,\n",
              " 'Random Forest': 0.17517241379310344,\n",
              " 'NaiveBayes': 0.09793103448275862,\n",
              " 'ZeroR': 0.012413793103448275,\n",
              " 'SMO': 0.1489655172413793,\n",
              " 'J48': 0.12137931034482759,\n",
              " 'AdaBoostM1': 0.11310344827586206}"
            ]
          },
          "metadata": {}
        }
      ]
    },
    {
      "cell_type": "code",
      "source": [
        "import numpy as np\n",
        "\n",
        "plt.figure(figsize=(15,7))\n",
        "N = 7\n",
        "\n",
        "ind = np.arange(N) \n",
        "width = 0.35\n",
        "     \n",
        "plt.bar(ind, list(cc_f1.values()) , width, label='F1-Score')\n",
        "plt.bar(ind + width, list(cc_hamming.values()), width,\n",
        "    label='Hamming-Loss')  \n",
        "\n",
        "plt.ylabel('Scores')\n",
        "plt.title('Scores for different classifiers')\n",
        "\n",
        "plt.xticks(ind + width / 2, (\"IBk\", \"Random Forest\", \"NaiveBayes\", \"ZeroR\", \"SMO\", \"J48\", 'AdaBoostM1'))\n",
        "plt.legend(loc='best')\n",
        "plt.show()"
      ],
      "metadata": {
        "id": "PYvPhNN1r1hQ",
        "colab": {
          "base_uri": "https://localhost:8080/",
          "height": 444
        },
        "outputId": "8abeb4bf-d230-4638-d8db-43a570e3892e"
      },
      "execution_count": null,
      "outputs": [
        {
          "output_type": "display_data",
          "data": {
            "text/plain": [
              "<Figure size 1080x504 with 1 Axes>"
            ],
            "image/png": "[encoded data removed]"
          },
          "metadata": {
            "needs_background": "light"
          }
        }
      ]
    },
    {
      "cell_type": "code",
      "source": [
        "\n",
        "\n",
        "\n",
        "weka_clf = ['weka.classifiers.lazy.IBk',\n",
        "'weka.classifiers.trees.RandomForest',\n",
        "'weka.classifiers.bayes.NaiveBayes',\n",
        "'weka.classifiers.rules.ZeroR', 'weka.classifiers.functions.SMO', \"weka.classifiers.trees.J48\", 'weka.classifiers.meta.AdaBoostM1']\n",
        "\n",
        "base_model_names = [\"IBk\", \"Random Forest\", \"NaiveBayes\", \"ZeroR\", \"SMO\", \"J48\", 'AdaBoostM1']\n",
        "\n",
        "zero_score = dict()\n",
        "cc_accuracies = dict()\n",
        "cc_f1 = dict()\n",
        "cc_hamming = dict()\n",
        "\n",
        "i = 0\n",
        "\n",
        "for clf in weka_clf:\n",
        "    meka = Meka(\n",
        "            meka_classifier = \"meka.classifiers.multilabel.MULAN -S CLR\", # \n",
        "            weka_classifier = clf, # \n",
        "            meka_classpath = meka_classpath, #obtained via download_meka\n",
        "            java_command = '/usr/bin/java' # path to java executable\n",
        "    )\n",
        "\n",
        "    meka.fit(X_train, y_train)\n",
        "    predictions = meka.predict(X_test)\n",
        "\n",
        "    # zero-one-score\n",
        "    z_one = zero_one_loss(y_test, predictions)\n",
        "    zero_score[base_model_names[i]] = z_one\n",
        "    # accuracy score\n",
        "    accuracy = subset_acc(y_test, predictions)\n",
        "    cc_accuracies[base_model_names[i]] = accuracy\n",
        "    # F1 score\n",
        "    cc_f1_score = f1_score(y_test, predictions, average='macro')\n",
        "    cc_f1[base_model_names[i]] = cc_f1_score\n",
        "    # hamming loss\n",
        "    hamming = hamming_loss(y_test, predictions)\n",
        "    cc_hamming[base_model_names[i]] = hamming\n",
        "\n",
        "    i+=1\n",
        "\n",
        "print('Calibrated Label Ranking')\n",
        "print('------------------------------------------------------')\n",
        "print(\"====================z_one Accuracy====================\")\n",
        "display(zero_score)\n",
        "print(\"=================== F1 Scores====================\")\n",
        "display(cc_f1)\n",
        "print(\"=================== Hamming Loss Scores====================\")\n",
        "display(cc_hamming)\n",
        "print(\"=================== subset accuracy Scores====================\")\n",
        "display(cc_accuracies)"
      ],
      "metadata": {
        "colab": {
          "base_uri": "https://localhost:8080/",
          "height": 607
        },
        "id": "F1AVoFhLlWOg",
        "outputId": "b54eae81-b89a-4f9f-df72-aa675cd3255c"
      },
      "execution_count": null,
      "outputs": [
        {
          "output_type": "stream",
          "name": "stdout",
          "text": [
            "Calibrated Label Ranking\n",
            "------------------------------------------------------\n",
            "====================z_one Accuracy====================\n"
          ]
        },
        {
          "output_type": "display_data",
          "data": {
            "text/plain": [
              "{'IBk': 0.863448275862069,\n",
              " 'Random Forest': 0.9737931034482759,\n",
              " 'NaiveBayes': 0.9213793103448276,\n",
              " 'ZeroR': 0.9751724137931035,\n",
              " 'SMO': 0.9682758620689655,\n",
              " 'J48': 0.9131034482758621,\n",
              " 'AdaBoostM1': 0.9613793103448276}"
            ]
          },
          "metadata": {}
        },
        {
          "output_type": "stream",
          "name": "stdout",
          "text": [
            "=================== F1 Scores====================\n"
          ]
        },
        {
          "output_type": "display_data",
          "data": {
            "text/plain": [
              "{'IBk': 0.41615823437977145,\n",
              " 'Random Forest': 0.388416405621293,\n",
              " 'NaiveBayes': 0.4261700374157796,\n",
              " 'ZeroR': 0.23957008933277274,\n",
              " 'SMO': 0.38861046489491874,\n",
              " 'J48': 0.3989213322672234,\n",
              " 'AdaBoostM1': 0.371152303028441}"
            ]
          },
          "metadata": {}
        },
        {
          "output_type": "stream",
          "name": "stdout",
          "text": [
            "=================== Hamming Loss Scores====================\n"
          ]
        },
        {
          "output_type": "display_data",
          "data": {
            "text/plain": [
              "{'IBk': 0.2482758620689655,\n",
              " 'Random Forest': 0.2334975369458128,\n",
              " 'NaiveBayes': 0.29211822660098524,\n",
              " 'ZeroR': 0.28502463054187194,\n",
              " 'SMO': 0.24226600985221675,\n",
              " 'J48': 0.23290640394088669,\n",
              " 'AdaBoostM1': 0.24354679802955664}"
            ]
          },
          "metadata": {}
        },
        {
          "output_type": "stream",
          "name": "stdout",
          "text": [
            "=================== subset accuracy Scores====================\n"
          ]
        },
        {
          "output_type": "display_data",
          "data": {
            "text/plain": [
              "{'IBk': 0.13655172413793104,\n",
              " 'Random Forest': 0.02620689655172414,\n",
              " 'NaiveBayes': 0.07862068965517241,\n",
              " 'ZeroR': 0.02482758620689655,\n",
              " 'SMO': 0.031724137931034485,\n",
              " 'J48': 0.08689655172413793,\n",
              " 'AdaBoostM1': 0.038620689655172416}"
            ]
          },
          "metadata": {}
        }
      ]
    },
    {
      "cell_type": "code",
      "source": [
        "import numpy as np\n",
        "\n",
        "plt.figure(figsize=(15,7))\n",
        "N = 7\n",
        "\n",
        "ind = np.arange(N) \n",
        "width = 0.35\n",
        "     \n",
        "plt.bar(ind, list(cc_f1.values()) , width, label='F1-Score')\n",
        "plt.bar(ind + width, list(cc_hamming.values()), width,\n",
        "    label='Hamming-Loss')  \n",
        "\n",
        "plt.ylabel('Scores')\n",
        "plt.title('Scores for different classifiers')\n",
        "\n",
        "plt.xticks(ind + width / 2, (\"IBk\", \"Random Forest\", \"NaiveBayes\", \"ZeroR\", \"SMO\", \"J48\", 'AdaBoostM1'))\n",
        "plt.legend(loc='best')\n",
        "plt.show()"
      ],
      "metadata": {
        "colab": {
          "base_uri": "https://localhost:8080/",
          "height": 444
        },
        "id": "sSzfOv_0y_ma",
        "outputId": "bba28156-1c4c-4656-e87c-fb52526eea32"
      },
      "execution_count": null,
      "outputs": [
        {
          "output_type": "display_data",
          "data": {
            "text/plain": [
              "<Figure size 1080x504 with 1 Axes>"
            ],
            "image/png": "[encoded data removed]"
          },
          "metadata": {
            "needs_background": "light"
          }
        }
      ]
    },
    {
      "cell_type": "code",
      "source": [
        "\n",
        "\n",
        "\n",
        "\n",
        "weka_clf = ['weka.classifiers.lazy.IBk',\n",
        "'weka.classifiers.trees.RandomForest',\n",
        "'weka.classifiers.bayes.NaiveBayes',\n",
        "'weka.classifiers.rules.ZeroR', 'weka.classifiers.functions.SMO', \"weka.classifiers.trees.J48\", 'weka.classifiers.meta.AdaBoostM1']\n",
        "\n",
        "base_model_names = [\"IBk\", \"Random Forest\", \"NaiveBayes\", \"ZeroR\", \"SMO\", \"J48\", 'AdaBoostM1']\n",
        "\n",
        "zero_score = dict()\n",
        "cc_accuracies = dict()\n",
        "cc_f1 = dict()\n",
        "cc_hamming = dict()\n",
        "\n",
        "i = 0\n",
        "\n",
        "for clf in weka_clf:\n",
        "    meka = Meka(\n",
        "            meka_classifier = \"meka.classifiers.multilabel.LC\", # \n",
        "            weka_classifier = clf, # \n",
        "            meka_classpath = meka_classpath, #obtained via download_meka\n",
        "            java_command = '/usr/bin/java' # path to java executable\n",
        "    )\n",
        "\n",
        "    meka.fit(X_train, y_train)\n",
        "    predictions = meka.predict(X_test)\n",
        "\n",
        "    # zero-one-score\n",
        "    z_one = zero_one_loss(y_test, predictions)\n",
        "    zero_score[base_model_names[i]] = z_one\n",
        "    # accuracy score\n",
        "    accuracy = subset_acc(y_test, predictions)\n",
        "    cc_accuracies[base_model_names[i]] = accuracy\n",
        "    # F1 score\n",
        "    cc_f1_score = f1_score(y_test, predictions, average='macro')\n",
        "    cc_f1[base_model_names[i]] = cc_f1_score\n",
        "    # hamming loss\n",
        "    hamming = hamming_loss(y_test, predictions)\n",
        "    cc_hamming[base_model_names[i]] = hamming\n",
        "\n",
        "    i+=1\n",
        "\n",
        "print('Label Combination / Label Powerset')\n",
        "print('------------------------------------------------------')\n",
        "print(\"====================z_one Accuracy====================\")\n",
        "display(zero_score)\n",
        "print(\"=================== F1 Scores====================\")\n",
        "display(cc_f1)\n",
        "print(\"=================== Hamming Loss Scores====================\")\n",
        "display(cc_hamming)\n",
        "print(\"=================== subset accuracy Scores====================\")\n",
        "display(cc_accuracies)"
      ],
      "metadata": {
        "id": "N0hNAq0ir1kN",
        "colab": {
          "base_uri": "https://localhost:8080/",
          "height": 607
        },
        "outputId": "4bfc8f10-0291-4a63-e5b1-a9626c879632"
      },
      "execution_count": null,
      "outputs": [
        {
          "output_type": "stream",
          "name": "stdout",
          "text": [
            "Label Combination / Label Powerset\n",
            "------------------------------------------------------\n",
            "====================z_one Accuracy====================\n"
          ]
        },
        {
          "output_type": "display_data",
          "data": {
            "text/plain": [
              "{'IBk': 0.8193103448275862,\n",
              " 'Random Forest': 0.766896551724138,\n",
              " 'NaiveBayes': 0.8455172413793104,\n",
              " 'ZeroR': 0.9117241379310345,\n",
              " 'SMO': 0.7655172413793103,\n",
              " 'J48': 0.8703448275862069,\n",
              " 'AdaBoostM1': 0.8937931034482759}"
            ]
          },
          "metadata": {}
        },
        {
          "output_type": "stream",
          "name": "stdout",
          "text": [
            "=================== F1 Scores====================\n"
          ]
        },
        {
          "output_type": "display_data",
          "data": {
            "text/plain": [
              "{'IBk': 0.4310097731530584,\n",
              " 'Random Forest': 0.3853306424840523,\n",
              " 'NaiveBayes': 0.4287226179942739,\n",
              " 'ZeroR': 0.18920342773214388,\n",
              " 'SMO': 0.39986280690689274,\n",
              " 'J48': 0.3633448147857615,\n",
              " 'AdaBoostM1': 0.25362650646319}"
            ]
          },
          "metadata": {}
        },
        {
          "output_type": "stream",
          "name": "stdout",
          "text": [
            "=================== Hamming Loss Scores====================\n"
          ]
        },
        {
          "output_type": "display_data",
          "data": {
            "text/plain": [
              "{'IBk': 0.25733990147783253,\n",
              " 'Random Forest': 0.218128078817734,\n",
              " 'NaiveBayes': 0.2545812807881773,\n",
              " 'ZeroR': 0.28866995073891627,\n",
              " 'SMO': 0.21960591133004925,\n",
              " 'J48': 0.2830541871921182,\n",
              " 'AdaBoostM1': 0.26068965517241377}"
            ]
          },
          "metadata": {}
        },
        {
          "output_type": "stream",
          "name": "stdout",
          "text": [
            "=================== subset accuracy Scores====================\n"
          ]
        },
        {
          "output_type": "display_data",
          "data": {
            "text/plain": [
              "{'IBk': 0.18068965517241378,\n",
              " 'Random Forest': 0.23310344827586207,\n",
              " 'NaiveBayes': 0.15448275862068966,\n",
              " 'ZeroR': 0.08827586206896551,\n",
              " 'SMO': 0.23448275862068965,\n",
              " 'J48': 0.1296551724137931,\n",
              " 'AdaBoostM1': 0.10620689655172413}"
            ]
          },
          "metadata": {}
        }
      ]
    },
    {
      "cell_type": "code",
      "source": [
        "import numpy as np\n",
        "\n",
        "plt.figure(figsize=(15,7))\n",
        "N = 7\n",
        "\n",
        "ind = np.arange(N) \n",
        "width = 0.35\n",
        "     \n",
        "plt.bar(ind, list(cc_f1.values()) , width, label='F1-Score')\n",
        "plt.bar(ind + width, list(cc_hamming.values()), width,\n",
        "    label='Hamming-Loss')  \n",
        "\n",
        "plt.ylabel('Scores')\n",
        "plt.title('Scores for different classifiers')\n",
        "\n",
        "plt.xticks(ind + width / 2, (\"IBk\", \"Random Forest\", \"NaiveBayes\", \"ZeroR\", \"SMO\", \"J48\", 'AdaBoostM1'))\n",
        "plt.legend(loc='best')\n",
        "plt.show()"
      ],
      "metadata": {
        "colab": {
          "base_uri": "https://localhost:8080/",
          "height": 444
        },
        "id": "3BuebJbOzH-Y",
        "outputId": "a4ea57c6-764d-4287-9d7b-dbc817cdfb67"
      },
      "execution_count": null,
      "outputs": [
        {
          "output_type": "display_data",
          "data": {
            "text/plain": [
              "<Figure size 1080x504 with 1 Axes>"
            ],
            "image/png": "[encoded data removed]"
          },
          "metadata": {
            "needs_background": "light"
          }
        }
      ]
    },
    {
      "cell_type": "code",
      "source": [
        "\n",
        "\n",
        "\n",
        "\n",
        "\n",
        "weka_clf = ['weka.classifiers.lazy.IBk',\n",
        "'weka.classifiers.trees.RandomForest',\n",
        "'weka.classifiers.bayes.NaiveBayes',\n",
        "'weka.classifiers.rules.ZeroR', 'weka.classifiers.functions.SMO', \"weka.classifiers.trees.J48\", 'weka.classifiers.meta.AdaBoostM1']\n",
        "\n",
        "base_model_names = [\"IBk\", \"Random Forest\", \"NaiveBayes\", \"ZeroR\", \"SMO\", \"J48\", 'AdaBoostM1']\n",
        "\n",
        "zero_score = dict()\n",
        "cc_accuracies = dict()\n",
        "cc_f1 = dict()\n",
        "cc_hamming = dict()\n",
        "\n",
        "i = 0\n",
        "for clf in weka_clf:\n",
        "    meka = Meka(\n",
        "            meka_classifier = \"meka.classifiers.multilabel.PS -P 1 -N 1\", # \n",
        "            weka_classifier = clf, # \n",
        "            meka_classpath = meka_classpath, #obtained via download_meka\n",
        "            java_command = '/usr/bin/java' # path to java executable\n",
        "    )\n",
        "\n",
        "    meka.fit(X_train, y_train)\n",
        "    predictions = meka.predict(X_test)\n",
        "\n",
        "    # zero-one-score\n",
        "    z_one = zero_one_loss(y_test, predictions)\n",
        "    zero_score[base_model_names[i]] = z_one\n",
        "    # accuracy score\n",
        "    accuracy = subset_acc(y_test, predictions)\n",
        "    cc_accuracies[base_model_names[i]] = accuracy\n",
        "    # F1 score\n",
        "    cc_f1_score = f1_score(y_test, predictions, average='macro')\n",
        "    cc_f1[base_model_names[i]] = cc_f1_score\n",
        "    # hamming loss\n",
        "    hamming = hamming_loss(y_test, predictions)\n",
        "    cc_hamming[base_model_names[i]] = hamming\n",
        "\n",
        "    i+=1\n",
        "\n",
        "print('Pruned Sets (Pruned Label Powerset)')\n",
        "print('------------------------------------------------------')\n",
        "print(\"====================z_one Accuracy====================\")\n",
        "display(zero_score)\n",
        "print(\"=================== F1 Scores====================\")\n",
        "display(cc_f1)\n",
        "print(\"=================== Hamming Loss Scores====================\")\n",
        "display(cc_hamming)\n",
        "print(\"=================== subset accuracy Scores====================\")\n",
        "display(cc_accuracies)\n"
      ],
      "metadata": {
        "id": "-Y-BEbKkr1m0",
        "colab": {
          "base_uri": "https://localhost:8080/",
          "height": 607
        },
        "outputId": "0e455edf-1d00-48e7-94d4-b8bbb32850c7"
      },
      "execution_count": null,
      "outputs": [
        {
          "output_type": "stream",
          "name": "stdout",
          "text": [
            "Pruned Sets (Pruned Label Powerset)\n",
            "------------------------------------------------------\n",
            "====================z_one Accuracy====================\n"
          ]
        },
        {
          "output_type": "display_data",
          "data": {
            "text/plain": [
              "{'IBk': 0.816551724137931,\n",
              " 'Random Forest': 0.7475862068965518,\n",
              " 'NaiveBayes': 0.8427586206896551,\n",
              " 'ZeroR': 0.9117241379310345,\n",
              " 'SMO': 0.7586206896551724,\n",
              " 'J48': 0.9062068965517242,\n",
              " 'AdaBoostM1': 0.8937931034482759}"
            ]
          },
          "metadata": {}
        },
        {
          "output_type": "stream",
          "name": "stdout",
          "text": [
            "=================== F1 Scores====================\n"
          ]
        },
        {
          "output_type": "display_data",
          "data": {
            "text/plain": [
              "{'IBk': 0.4293935803022561,\n",
              " 'Random Forest': 0.38400393323258203,\n",
              " 'NaiveBayes': 0.4328279872919357,\n",
              " 'ZeroR': 0.18920342773214388,\n",
              " 'SMO': 0.40780071288782604,\n",
              " 'J48': 0.3603727864216838,\n",
              " 'AdaBoostM1': 0.25362650646319}"
            ]
          },
          "metadata": {}
        },
        {
          "output_type": "stream",
          "name": "stdout",
          "text": [
            "=================== Hamming Loss Scores====================\n"
          ]
        },
        {
          "output_type": "display_data",
          "data": {
            "text/plain": [
              "{'IBk': 0.2553694581280788,\n",
              " 'Random Forest': 0.21832512315270935,\n",
              " 'NaiveBayes': 0.2553694581280788,\n",
              " 'ZeroR': 0.28866995073891627,\n",
              " 'SMO': 0.21911330049261082,\n",
              " 'J48': 0.2952709359605911,\n",
              " 'AdaBoostM1': 0.26068965517241377}"
            ]
          },
          "metadata": {}
        },
        {
          "output_type": "stream",
          "name": "stdout",
          "text": [
            "=================== subset accuracy Scores====================\n"
          ]
        },
        {
          "output_type": "display_data",
          "data": {
            "text/plain": [
              "{'IBk': 0.18344827586206897,\n",
              " 'Random Forest': 0.2524137931034483,\n",
              " 'NaiveBayes': 0.15724137931034482,\n",
              " 'ZeroR': 0.08827586206896551,\n",
              " 'SMO': 0.2413793103448276,\n",
              " 'J48': 0.09379310344827586,\n",
              " 'AdaBoostM1': 0.10620689655172413}"
            ]
          },
          "metadata": {}
        }
      ]
    },
    {
      "cell_type": "code",
      "source": [
        "import numpy as np\n",
        "\n",
        "plt.figure(figsize=(15,7))\n",
        "N = 7\n",
        "\n",
        "ind = np.arange(N) \n",
        "width = 0.35\n",
        "     \n",
        "plt.bar(ind, list(cc_f1.values()) , width, label='F1-Score')\n",
        "plt.bar(ind + width, list(cc_hamming.values()), width,\n",
        "    label='Hamming-Loss')  \n",
        "\n",
        "plt.ylabel('Scores')\n",
        "plt.title('Scores for different classifiers')\n",
        "\n",
        "plt.xticks(ind + width / 2, (\"IBk\", \"Random Forest\", \"NaiveBayes\", \"ZeroR\", \"SMO\", \"J48\", 'AdaBoostM1'))\n",
        "plt.legend(loc='best')\n",
        "plt.show()"
      ],
      "metadata": {
        "id": "WIAC2ZuTlQ25",
        "colab": {
          "base_uri": "https://localhost:8080/",
          "height": 444
        },
        "outputId": "5a2c68ee-ffbe-4602-bbec-8aa6440a1e51"
      },
      "execution_count": null,
      "outputs": [
        {
          "output_type": "display_data",
          "data": {
            "text/plain": [
              "<Figure size 1080x504 with 1 Axes>"
            ],
            "image/png": "[encoded data removed]"
          },
          "metadata": {
            "needs_background": "light"
          }
        }
      ]
    },
    {
      "cell_type": "code",
      "source": [],
      "metadata": {
        "id": "A4hYLXGF0-1W"
      },
      "execution_count": null,
      "outputs": []
    }
  ],
  "metadata": {
    "kernelspec": {
      "display_name": "Python 3 (ipykernel)",
      "language": "python",
      "name": "python3"
    },
    "language_info": {
      "codemirror_mode": {
        "name": "ipython",
        "version": 3
      },
      "file_extension": ".py",
      "mimetype": "text/x-python",
      "name": "python",
      "nbconvert_exporter": "python",
      "pygments_lexer": "ipython3",
      "version": "3.10.6"
    },
    "colab": {
      "provenance": []
    }
  },
  "nbformat": 4,
  "nbformat_minor": 0
}